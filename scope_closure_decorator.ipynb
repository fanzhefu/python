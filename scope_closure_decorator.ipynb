{
 "cells": [
  {
   "cell_type": "code",
   "execution_count": 1,
   "id": "b969cb79",
   "metadata": {},
   "outputs": [],
   "source": [
    "# https://towardsdatascience.com/decorators-and-closures-by-example-in-python-382758321164"
   ]
  },
  {
   "cell_type": "markdown",
   "id": "0e876c3a",
   "metadata": {},
   "source": [
    "#### Syntactic sugar"
   ]
  },
  {
   "cell_type": "code",
   "execution_count": 2,
   "id": "5453e8c2",
   "metadata": {},
   "outputs": [
    {
     "name": "stdout",
     "output_type": "stream",
     "text": [
      "Before function call\n",
      "Hello World!\n",
      "After function call\n"
     ]
    }
   ],
   "source": [
    "# A decorator is a function that takes in a function and returns an augmented copy of that function.\n",
    "# Decorators return a closure. A closure is what is returned by a decorator.\n",
    "def my_decorator(func):    # decorator \n",
    "    def closure():         \n",
    "        # closure has access to variables outside its scope; \n",
    "        # the variables inside the parent scope of my_decorator.\n",
    "        print(\"Before function call\")\n",
    "        func()\n",
    "        print(\"After function call\")\n",
    "    return closure\n",
    "\n",
    "def say_hello():\n",
    "    print(\"Hello World!\")\n",
    "\n",
    "if __name__ == \"__main__\":\n",
    "    hello = my_decorator(say_hello)\n",
    "    hello()"
   ]
  },
  {
   "cell_type": "code",
   "execution_count": 3,
   "id": "312c4b57",
   "metadata": {},
   "outputs": [
    {
     "name": "stdout",
     "output_type": "stream",
     "text": [
      "Before function call\n",
      "Hello World!\n",
      "After function call\n"
     ]
    }
   ],
   "source": [
    "def my_decorator(func):\n",
    "    def closure():\n",
    "        print(\"Before function call\")\n",
    "        func()\n",
    "        print(\"After function call\")\n",
    "    return closure\n",
    "\n",
    "@my_decorator\n",
    "def say_hello():\n",
    "    print(\"Hello World!\")\n",
    "\n",
    "if __name__ == \"__main__\":\n",
    "    say_hello()\n",
    "    "
   ]
  },
  {
   "cell_type": "code",
   "execution_count": 4,
   "id": "6dfef247",
   "metadata": {},
   "outputs": [],
   "source": [
    "# https://towardsdatascience.com/closures-and-decorators-in-python-2551abbc6eb6"
   ]
  },
  {
   "cell_type": "markdown",
   "id": "e444d178",
   "metadata": {},
   "source": [
    "### Scope of variables\n"
   ]
  },
  {
   "cell_type": "markdown",
   "id": "0a73cebe",
   "metadata": {},
   "source": [
    "Global scope: When a variable is defined outside all functions. A global variable can be accessed by all the functions in the file.\n",
    "\n",
    "Local scope: When a variable is defined inside a function, it is local to that function. A local variable can be only accessed inside the function in which it was defined.\n",
    "\n",
    "Nonlocal scope: When a variable is assigned in an enclosing function, it is nonlocal to its nested functions. A nonlocal variable can be accessed by the function in which it was defined and all its nested functions."
   ]
  },
  {
   "cell_type": "code",
   "execution_count": 5,
   "id": "ac3716c7",
   "metadata": {},
   "outputs": [
    {
     "name": "stdout",
     "output_type": "stream",
     "text": [
      "Local variable x = 2\n",
      "Global variable y = 6\n",
      "Local variable z = 10\n",
      "Global variable  x = 1\n",
      "Global variable y = 6\n"
     ]
    }
   ],
   "source": [
    "x = 1 # x is a global variable  \n",
    "y = 5 # y is a global variable \n",
    "def f():\n",
    "    # change a global value inside a function, use the \"global\" keyword.\n",
    "    global y \n",
    "    x = 2   # x is a local variable, globl x is shadowed \n",
    "    y += 1  # Reassigning the global variable y\n",
    "    z = 10   # z is a local variable\n",
    "    print(\"Local variable x =\", x)\n",
    "    print(\"Global variable y =\", y)\n",
    "    print(\"Local variable z =\", z)\n",
    "f()\n",
    "print(\"Global variable  x =\", x)\n",
    "print(\"Global variable y =\", y)"
   ]
  },
  {
   "cell_type": "code",
   "execution_count": 6,
   "id": "6eb9a373",
   "metadata": {},
   "outputs": [
    {
     "name": "stdout",
     "output_type": "stream",
     "text": [
      "a= [1, 2, 3, 4]\n",
      "b= 5\n"
     ]
    }
   ],
   "source": [
    "# In Python, everything is an object, and the variables are references to these objects. \n",
    "# When we pass a variable to a function, Python passes a copy of the reference to the object to which the variable refers. \n",
    "# It does not send the object or the original reference to the function. So both the original reference and \n",
    "# the copied reference that the function receives as its argument are referring to the same object. \n",
    "# Now if we pass a global object that is immutable (like an integer or a string), the function cannot modify it using its argument. \n",
    "# However, if the object is mutable (like a list), the function can modify it. Here is an example:\n",
    "\n",
    "a = [1, 2, 3]   # a->[1,2,3]\n",
    "b = 5           # b->5\n",
    "def func(x, y): # x->[1,2,3]; y->5\n",
    "    x.append(4) # x->[1,2,3,4]; a->[1,2,3,4]\n",
    "    y = y + 1   # y->6; b->5  \n",
    "    \n",
    "func(a, b)\n",
    "print(\"a=\", a)  #  Output is a=[1, 2, 3, 4]\n",
    "print(\"b=\", b)  #  Output is b=5"
   ]
  },
  {
   "cell_type": "code",
   "execution_count": 7,
   "id": "dd7753f9",
   "metadata": {},
   "outputs": [
    {
     "name": "stdout",
     "output_type": "stream",
     "text": [
      "Local variable t = 10\n",
      "Nonlocal variable x = 5\n",
      "Local variable z = 20\n",
      "Nonlocal variable x = 5\n",
      "Nonlocal variable y = 6\n",
      "Local variable z = 10\n"
     ]
    }
   ],
   "source": [
    "# nested function. The local variables of the outer function are nonlocal to its inner function.\n",
    "# The inner function can access the nonlocal variables but cannot change them. \n",
    "# Reassigning them simply creates a new local variable with the same name in the inner function \"z\", \n",
    "# and does not affect the nonlocal variable.\n",
    "# if we want to make a change to a nonlocal variable in a nested function, we must use the nonlocal keyword \"y\".\n",
    "# he outer function parameters behave like nonlocal variables and can be also accessed (or read) by the inner function.\n",
    "def f(x): # outer function \n",
    "    y = 5\n",
    "    z = 10\n",
    "    t = 10\n",
    "    def g(): # inner function\n",
    "        nonlocal y #\n",
    "        y += 1\n",
    "        z = 20\n",
    "        print(\"Nonlocal variable x =\", x)\n",
    "        print(\"Local variable z =\", z) \n",
    "    print(\"Local variable t =\", t)    \n",
    "    g()\n",
    "    print(\"Nonlocal variable x =\", x)\n",
    "    print(\"Nonlocal variable y =\", y)\n",
    "    print(\"Local variable z =\", z)\n",
    "f(5)\n",
    "# This does not work:\n",
    "# g()"
   ]
  },
  {
   "cell_type": "markdown",
   "id": "e8a3880d",
   "metadata": {},
   "source": [
    "### Closure\n",
    "Closures make it possible to call an inner function outside the outer function and still access its nonlocal variables.\n",
    "The name “closure” comes from the fact that it captures the bindings of its free (nonlocal) variables and is the result of closing an open term.\n",
    "\n",
    "So a closure is an open term which is closed by capturing the bindings of its free (nonlocal) variables. \n",
    "\n",
    "1 - It should be returned by the outer function.\n",
    "\n",
    "2 - it should capture some of the nonlocal variables of the outer function. This can be done by accessing those variables, or defining them as a nonlocal variable or having a nested closure that needs to capture them."
   ]
  },
  {
   "cell_type": "code",
   "execution_count": 8,
   "id": "ee9ecad8",
   "metadata": {},
   "outputs": [
    {
     "name": "stdout",
     "output_type": "stream",
     "text": [
      "5\n"
     ]
    }
   ],
   "source": [
    "# after running h=f(), all the local variables of f() are gone, and we cannot access x and y anymore. \n",
    "# But we still have the value of x that it is returned and stored in h. \n",
    "def f():\n",
    "    x = 5\n",
    "    y = 10\n",
    "    return x\n",
    "h=f()\n",
    "print(h)"
   ]
  },
  {
   "cell_type": "code",
   "execution_count": 9,
   "id": "082c8006",
   "metadata": {},
   "outputs": [
    {
     "data": {
      "text/plain": [
       "1"
      ]
     },
     "execution_count": 9,
     "metadata": {},
     "output_type": "execute_result"
    }
   ],
   "source": [
    "# we can make the outer function to return the inner function. \n",
    "# This is possible in Python since Python functions are first class. \n",
    "# It means that Python treats functions as values, so we can assign a function to a variable, \n",
    "# pass it as a function argument or return it by another function. \n",
    "# here the outer function f(x) return its inner function g.\n",
    "def f(x):\n",
    "    def g(y):\n",
    "        return y\n",
    "    return g # not \"return g(y)\"\n",
    "a = 5\n",
    "b = 1\n",
    "h=f(a) # h->g\n",
    "h(b)  # Output is 1"
   ]
  },
  {
   "cell_type": "code",
   "execution_count": 10,
   "id": "1f761813",
   "metadata": {},
   "outputs": [
    {
     "data": {
      "text/plain": [
       "'g'"
      ]
     },
     "execution_count": 10,
     "metadata": {},
     "output_type": "execute_result"
    }
   ],
   "source": [
    "h.__name__   "
   ]
  },
  {
   "cell_type": "code",
   "execution_count": 11,
   "id": "cedf0004",
   "metadata": {},
   "outputs": [
    {
     "data": {
      "text/plain": [
       "1"
      ]
     },
     "execution_count": 11,
     "metadata": {},
     "output_type": "execute_result"
    }
   ],
   "source": [
    "# A function that only takes one argument is called a unary function.\n",
    "def f(x):\n",
    "    def g(y):\n",
    "        return y\n",
    "    return g\n",
    "a = 5\n",
    "b = 1\n",
    "f(a)(b)  # Output is 1"
   ]
  },
  {
   "cell_type": "code",
   "execution_count": 12,
   "id": "5cd2a044",
   "metadata": {},
   "outputs": [
    {
     "data": {
      "text/plain": [
       "1"
      ]
     },
     "execution_count": 12,
     "metadata": {},
     "output_type": "execute_result"
    }
   ],
   "source": [
    "# three nested unary functions. The first function f(x) has an inner function g(y) and g(y) has an inner function h(z). \n",
    "# Each outer function returns its inner function.\n",
    "def f(x):\n",
    "    def g(y):\n",
    "        def h(z):\n",
    "            return z\n",
    "        return h\n",
    "    return g\n",
    "a = 5\n",
    "b = 2\n",
    "c = 1\n",
    "f(a)(b)(c)  # Output is 1"
   ]
  },
  {
   "cell_type": "code",
   "execution_count": 13,
   "id": "1ddead42",
   "metadata": {},
   "outputs": [
    {
     "data": {
      "text/plain": [
       "11"
      ]
     },
     "execution_count": 13,
     "metadata": {},
     "output_type": "execute_result"
    }
   ],
   "source": [
    "# A closure is an inner function with an extended scope that encompasses nonlocal variables of the outer function. \n",
    "def f(x):\n",
    "    z = 2\n",
    "    # A variable like y which is in the local scope of the inner function g(y) is called a \"bound variable\"\n",
    "    # A function that only has bound variables is called a \"close term\".\n",
    "    # a nonlocal variable like z is called a \"free variable\" since it is free to be defined outside g(y), \n",
    "    # and a function that contains free variables is called an \"open term.\"\n",
    "    def g(y): # closure\n",
    "        return z*x + y\n",
    "    return g\n",
    "a = 5\n",
    "b = 1\n",
    "h = f(a)\n",
    "h(b)  # Output is 11\n",
    "\n",
    "# the inner function g(y) is not a closure as long as it has a free variable which is not bound yet (x and z). \n",
    "# Once we evaluate h=f(a), the enclosing function f(x) is evaluated, and the free variables x and z become bound to 5 and 2 respectively. \n",
    "# So g(y) returned by f(a) becomes a closure, and h is now referring to a closure"
   ]
  },
  {
   "cell_type": "code",
   "execution_count": 14,
   "id": "a477d9be",
   "metadata": {},
   "outputs": [
    {
     "data": {
      "text/plain": [
       "('x', 'z')"
      ]
     },
     "execution_count": 14,
     "metadata": {},
     "output_type": "execute_result"
    }
   ],
   "source": [
    "# free variables are captured by the inner function. \n",
    "h.__code__.co_freevars"
   ]
  },
  {
   "cell_type": "code",
   "execution_count": 15,
   "id": "57f5926f",
   "metadata": {},
   "outputs": [
    {
     "name": "stdout",
     "output_type": "stream",
     "text": [
      "x = 5\n",
      "z = 2\n"
     ]
    }
   ],
   "source": [
    "# also get the value of these free variables using the closure attribute:\n",
    "\n",
    "print(h.__code__.co_freevars[0], \"=\", h.__closure__[0].cell_contents) \n",
    "print(h.__code__.co_freevars[1], \"=\", h.__closure__[1].cell_contents)"
   ]
  },
  {
   "cell_type": "code",
   "execution_count": 16,
   "id": "79044d11",
   "metadata": {},
   "outputs": [
    {
     "data": {
      "text/plain": [
       "1"
      ]
     },
     "execution_count": 16,
     "metadata": {},
     "output_type": "execute_result"
    }
   ],
   "source": [
    "# It is important to note that to have a closure, the inner function should access the nonlocal variables of the outer function. \n",
    "# When no free variable is accessed inside the inner function, \n",
    "# it does not capture them since it is already a closed term and does not need to be closed.\n",
    "\n",
    "def f(x):\n",
    "    z = 2\n",
    "    def g(y):\n",
    "        return y\n",
    "    return g\n",
    "a = 5\n",
    "b = 1\n",
    "h = f(a) # not a closure\n",
    "h(b)  # Output is 1\n",
    "# the nonlocal variables x and z are not accessed inside g(y) and there is no need for g(y) to capture them"
   ]
  },
  {
   "cell_type": "code",
   "execution_count": 17,
   "id": "55de2521",
   "metadata": {},
   "outputs": [
    {
     "data": {
      "text/plain": [
       "()"
      ]
     },
     "execution_count": 17,
     "metadata": {},
     "output_type": "execute_result"
    }
   ],
   "source": [
    "h.__code__.co_freevars"
   ]
  },
  {
   "cell_type": "code",
   "execution_count": 18,
   "id": "319eac77",
   "metadata": {},
   "outputs": [
    {
     "name": "stdout",
     "output_type": "stream",
     "text": [
      "None\n"
     ]
    }
   ],
   "source": [
    "print(h.__closure__)"
   ]
  },
  {
   "cell_type": "code",
   "execution_count": 19,
   "id": "3858bb8e",
   "metadata": {},
   "outputs": [
    {
     "data": {
      "text/plain": [
       "1"
      ]
     },
     "execution_count": 19,
     "metadata": {},
     "output_type": "execute_result"
    }
   ],
   "source": [
    "# If we do not access a nonlocal variable but define it as nonlocal inside the inner function, \n",
    "# it is still captured by the closure. \n",
    "def f(x):\n",
    "    z = 2\n",
    "    t = 3\n",
    "    def g(y): # closure\n",
    "        nonlocal t\n",
    "        return y\n",
    "    return g\n",
    "a = 5\n",
    "b = 1\n",
    "h = f(a)\n",
    "h(b)  \n"
   ]
  },
  {
   "cell_type": "code",
   "execution_count": 20,
   "id": "e673c1db",
   "metadata": {},
   "outputs": [
    {
     "data": {
      "text/plain": [
       "('t',)"
      ]
     },
     "execution_count": 20,
     "metadata": {},
     "output_type": "execute_result"
    }
   ],
   "source": [
    "h.__code__.co_freevars  # Output is ('t',)"
   ]
  },
  {
   "cell_type": "code",
   "execution_count": 21,
   "id": "a7f6475b",
   "metadata": {},
   "outputs": [
    {
     "data": {
      "text/plain": [
       "5"
      ]
     },
     "execution_count": 21,
     "metadata": {},
     "output_type": "execute_result"
    }
   ],
   "source": [
    "# here g(y) is not a closure here since the value of x is just used to initialize y and g does not need to capture x.\n",
    "def f(x):\n",
    "    def g(y = x):\n",
    "        return y\n",
    "    return g\n",
    "a = 5\n",
    "b = 1\n",
    "h = f(a)\n",
    "h()  # Output is 5"
   ]
  },
  {
   "cell_type": "code",
   "execution_count": 22,
   "id": "cb71ecae",
   "metadata": {},
   "outputs": [
    {
     "data": {
      "text/plain": [
       "()"
      ]
     },
     "execution_count": 22,
     "metadata": {},
     "output_type": "execute_result"
    }
   ],
   "source": [
    "h.__code__.co_freevars "
   ]
  },
  {
   "cell_type": "code",
   "execution_count": 23,
   "id": "2f32bd0e",
   "metadata": {},
   "outputs": [
    {
     "data": {
      "text/plain": [
       "10"
      ]
     },
     "execution_count": 23,
     "metadata": {},
     "output_type": "execute_result"
    }
   ],
   "source": [
    "# multiple nested functions, each closure is able to capture all the nonlocal variables which are at higher levels\n",
    "def f(x):\n",
    "    def g(y):\n",
    "        def h(z):\n",
    "            return x * y * z\n",
    "        return h\n",
    "    return g\n",
    "a = 5\n",
    "b = 2\n",
    "c = 1\n",
    "f(a)(b)(c)  # Output is 10"
   ]
  },
  {
   "cell_type": "code",
   "execution_count": 24,
   "id": "c81e54d0",
   "metadata": {},
   "outputs": [
    {
     "data": {
      "text/plain": [
       "('x', 'y')"
      ]
     },
     "execution_count": 24,
     "metadata": {},
     "output_type": "execute_result"
    }
   ],
   "source": [
    "# f(a)(b) refers to h\n",
    "f(a)(b).__code__.co_freevars"
   ]
  },
  {
   "cell_type": "code",
   "execution_count": 25,
   "id": "5089d18f",
   "metadata": {},
   "outputs": [
    {
     "data": {
      "text/plain": [
       "('x',)"
      ]
     },
     "execution_count": 25,
     "metadata": {},
     "output_type": "execute_result"
    }
   ],
   "source": [
    "# g(y) is also a closure and it captures x as a nonlocal variable. \n",
    "# We can easily check it (remember that f(a) refers to g(y)):\n",
    "f(a).__code__.co_freevars  # Output is ('x',)"
   ]
  },
  {
   "cell_type": "code",
   "execution_count": 26,
   "id": "56b90d28",
   "metadata": {},
   "outputs": [
    {
     "data": {
      "text/plain": [
       "()"
      ]
     },
     "execution_count": 26,
     "metadata": {},
     "output_type": "execute_result"
    }
   ],
   "source": [
    "# g(y) is not a closure, because h(z) does not need to capture x. \n",
    "# As a result, g(y) doesn't capture it either, and doesn't become a closure. \n",
    "def f(x):\n",
    "    def g(y): \n",
    "        def h(z):\n",
    "            return y * z\n",
    "        return h\n",
    "    return g\n",
    "a = 5\n",
    "b = 2\n",
    "c = 1\n",
    "f(a).__code__.co_freevars  # Output is ()"
   ]
  },
  {
   "cell_type": "code",
   "execution_count": 27,
   "id": "fb0a0fee",
   "metadata": {},
   "outputs": [
    {
     "data": {
      "text/plain": [
       "11"
      ]
     },
     "execution_count": 27,
     "metadata": {},
     "output_type": "execute_result"
    }
   ],
   "source": [
    "# Listing 15\n",
    "def f(x):\n",
    "    z = 2\n",
    "    return lambda y: z*x+y\n",
    "a = 5\n",
    "b = 1\n",
    "f(a)(b)  # Output is 11"
   ]
  },
  {
   "cell_type": "code",
   "execution_count": 28,
   "id": "1c1016a2",
   "metadata": {},
   "outputs": [
    {
     "name": "stdout",
     "output_type": "stream",
     "text": [
      "3.0\n",
      "3.0\n"
     ]
    }
   ],
   "source": [
    "# class vs function:\n",
    "class NthRoot:\n",
    "    def __init__(self, n=2):\n",
    "        self.n = n\n",
    "    def set_root(n):\n",
    "        self.n = n\n",
    "    def calc(self, x):\n",
    "        return x ** (1/self.n)\n",
    "    \n",
    "thirdRoot = NthRoot(3)\n",
    "print(thirdRoot.calc(27))  # Output is 3\n",
    "\n",
    "# functional programming, closures make it possible to bind data to a function without actually passing them as parameters.\n",
    "def nth_root(n=2):\n",
    "    def calc(x):\n",
    "        return x ** (1/n)\n",
    "    return calc\n",
    "\n",
    "third_root = nth_root(3)\n",
    "print(third_root(27))  # Output is 3"
   ]
  },
  {
   "cell_type": "markdown",
   "id": "60daf5bb",
   "metadata": {},
   "source": [
    "#### Composition\n",
    "If we have two functions f and g, we can combine them in such a way so that the output of f becomes the input of g. In mathematics, this operation is called a composition. "
   ]
  },
  {
   "cell_type": "code",
   "execution_count": 29,
   "id": "e35a902a",
   "metadata": {},
   "outputs": [],
   "source": [
    "def compose(g, f):\n",
    "    def h(*args, **kwargs):\n",
    "        return g(f(*args, **kwargs))\n",
    "    return h\n"
   ]
  },
  {
   "cell_type": "code",
   "execution_count": 30,
   "id": "6fb96c3a",
   "metadata": {},
   "outputs": [
    {
     "data": {
      "text/plain": [
       "0.3048"
      ]
     },
     "execution_count": 30,
     "metadata": {},
     "output_type": "execute_result"
    }
   ],
   "source": [
    "inch_to_foot= lambda x: x/12\n",
    "foot_meter= lambda x: x * 0.3048\n",
    "\n",
    "inch_to_meter = compose(foot_meter, inch_to_foot)\n",
    "inch_to_meter(12)   # Output 0.3048"
   ]
  },
  {
   "cell_type": "markdown",
   "id": "5d0f7493",
   "metadata": {},
   "source": [
    "#### Partial application\n",
    "In mathematics, the number of arguments that a function takes is called the arity of that function. Partial application is an operation that reduces the arity of a function. It means it allows you to fix the values of some of the arguments and freeze them to get a function with fewer parameters. So it somehow simplifies the function.\n",
    "\n",
    "For example, the arity of f(x, y, z) is 3. We can fix the value of argument x at a to have f(x=a, y ,z) = g(y,z). Now the arity of g(y,z)is 2, and it is the result of partial application of f(x, y, z). So partial(f) => g. We can implement the partial application using closures:"
   ]
  },
  {
   "cell_type": "code",
   "execution_count": 31,
   "id": "02882cb4",
   "metadata": {},
   "outputs": [],
   "source": [
    "def partial(f, *f_args, **f_keywords):\n",
    "    def g(*args, **keywords):\n",
    "        new_keywords = f_keywords.copy()\n",
    "        new_keywords.update(keywords)\n",
    "        return f(*(f_args + args), **new_keywords)\n",
    "    return g"
   ]
  },
  {
   "cell_type": "code",
   "execution_count": 32,
   "id": "3ffd92a5",
   "metadata": {},
   "outputs": [
    {
     "data": {
      "text/plain": [
       "8"
      ]
     },
     "execution_count": 32,
     "metadata": {},
     "output_type": "execute_result"
    }
   ],
   "source": [
    "func = lambda x,y,z: x**2 + 2*y + z\n",
    "\n",
    "pfunc = partial(func, 1)\n",
    "pfunc(2, 3)  # Output is 8"
   ]
  },
  {
   "cell_type": "markdown",
   "id": "e73ec2f6",
   "metadata": {},
   "source": [
    "#### Currying\n",
    "In mathematics, currying means transforming a function with multiple parameters into a sequence of nested unary functions. As mentioned before a unary function is a function that only takes one argument. So for example, if we have a function f(x, y, z). Currying transforms it to g(x)(y)(z) = ((g(x))(y))(z). "
   ]
  },
  {
   "cell_type": "code",
   "execution_count": 33,
   "id": "add4eb5e",
   "metadata": {},
   "outputs": [],
   "source": [
    "def curry(f):\n",
    "    argc = f.__code__.co_argcount\n",
    "    f_args = []\n",
    "    f_kwargs = {}\n",
    "    def g(*args, **kwargs):\n",
    "        nonlocal f_args, f_kwargs\n",
    "        f_args += args\n",
    "        f_kwargs.update(kwargs)\n",
    "        if len(f_args)+len(f_kwargs) == argc:\n",
    "            return f(*f_args, **f_kwargs)\n",
    "        else:\n",
    "            return g          \n",
    "    return g"
   ]
  },
  {
   "cell_type": "code",
   "execution_count": 34,
   "id": "70bcc00c",
   "metadata": {},
   "outputs": [
    {
     "data": {
      "text/plain": [
       "<function __main__.curry.<locals>.g(*args, **kwargs)>"
      ]
     },
     "execution_count": 34,
     "metadata": {},
     "output_type": "execute_result"
    }
   ],
   "source": [
    "cfunc = curry(func)\n",
    "cfunc(1)(2)# Output:\n",
    "# <function __main__.curry.<locals>.g(*args, **kwargs)>"
   ]
  },
  {
   "cell_type": "code",
   "execution_count": 35,
   "id": "6b2fffb0",
   "metadata": {},
   "outputs": [
    {
     "data": {
      "text/plain": [
       "8"
      ]
     },
     "execution_count": 35,
     "metadata": {},
     "output_type": "execute_result"
    }
   ],
   "source": [
    "cfunc(3)  # Output is 8"
   ]
  },
  {
   "cell_type": "code",
   "execution_count": 36,
   "id": "bfebcc10",
   "metadata": {},
   "outputs": [
    {
     "data": {
      "text/plain": [
       "8"
      ]
     },
     "execution_count": 36,
     "metadata": {},
     "output_type": "execute_result"
    }
   ],
   "source": [
    "cfunc = curry(func)\n",
    "cfunc(1, 2)\n",
    "cfunc(3) # Output is 8"
   ]
  },
  {
   "cell_type": "markdown",
   "id": "37186b1a",
   "metadata": {},
   "source": [
    "### Decoration and decorators"
   ]
  },
  {
   "cell_type": "code",
   "execution_count": 37,
   "id": "5c0d28ff",
   "metadata": {},
   "outputs": [
    {
     "name": "stdout",
     "output_type": "stream",
     "text": [
      "f is referring to  f definition\n",
      "g is referring to  g definition\n",
      "1488418415952 1488418363856\n"
     ]
    }
   ],
   "source": [
    "# When we define a function in Python, the name of that function is simply \n",
    "# a reference to the body of the function (function definition). \n",
    "def f():\n",
    "    return(\"f definition\")\n",
    "def g():\n",
    "    return(\"g definition\")\n",
    "\n",
    "print(\"f is referring to \", f())\n",
    "print(\"g is referring to \", g())\n",
    "print(id(f),id(g))"
   ]
  },
  {
   "cell_type": "code",
   "execution_count": 38,
   "id": "3c906cd2",
   "metadata": {},
   "outputs": [
    {
     "name": "stdout",
     "output_type": "stream",
     "text": [
      "Swapping f and g\n",
      "f is referring to  g definition\n",
      "g is referring to  f definition\n",
      "1488418363856 1488418415952\n"
     ]
    }
   ],
   "source": [
    "print(\"Swapping f and g\")\n",
    "temp = f\n",
    "f = g\n",
    "g = temp\n",
    "\n",
    "print(\"f is referring to \", f())\n",
    "print(\"g is referring to \", g())\n",
    "print(id(f),id(g))"
   ]
  },
  {
   "cell_type": "code",
   "execution_count": 39,
   "id": "642cc972",
   "metadata": {},
   "outputs": [
    {
     "data": {
      "text/plain": [
       "4"
      ]
     },
     "execution_count": 39,
     "metadata": {},
     "output_type": "execute_result"
    }
   ],
   "source": [
    "def deco(f):\n",
    "    def g(*args, **kwargs):\n",
    "        return f(*args, **kwargs)\n",
    "    return g\n",
    "\n",
    "def func(x):\n",
    "     return 2*x\n",
    "    \n",
    "func = deco(func)\n",
    "func(2)  # Output is 4"
   ]
  },
  {
   "cell_type": "code",
   "execution_count": 40,
   "id": "b1b599d3",
   "metadata": {},
   "outputs": [
    {
     "data": {
      "text/plain": [
       "'g'"
      ]
     },
     "execution_count": 40,
     "metadata": {},
     "output_type": "execute_result"
    }
   ],
   "source": [
    "func.__name__"
   ]
  },
  {
   "cell_type": "code",
   "execution_count": 41,
   "id": "3c7b19ff",
   "metadata": {},
   "outputs": [
    {
     "name": "stdout",
     "output_type": "stream",
     "text": [
      "Calling  func\n"
     ]
    },
    {
     "data": {
      "text/plain": [
       "4"
      ]
     },
     "execution_count": 41,
     "metadata": {},
     "output_type": "execute_result"
    }
   ],
   "source": [
    "def deco(f):\n",
    "    def g(*args, **kwargs):\n",
    "        print(\"Calling \", f.__name__)\n",
    "        return f(*args, **kwargs)\n",
    "    return g\n",
    "\n",
    "def func(x):\n",
    "    return 2*x\n",
    "\n",
    "func = deco(func)\n",
    "func(2)  "
   ]
  },
  {
   "cell_type": "markdown",
   "id": "8ffb700a",
   "metadata": {},
   "source": [
    "#### Memoization\n",
    "As the name suggests, it is based on memorizing or caching the results of expensive function calls. If the same input or a function call with the same parameters is used, the previously cached results will be used to avoid unnecessary calculations. In Python, we can automatically memoize functions using closures and decorators."
   ]
  },
  {
   "cell_type": "code",
   "execution_count": 42,
   "id": "5e939f58",
   "metadata": {},
   "outputs": [
    {
     "name": "stdout",
     "output_type": "stream",
     "text": [
      "0 1 1 2 3 5 "
     ]
    }
   ],
   "source": [
    "# Fibonacci \n",
    "def fib(n):\n",
    "    if n == 0:\n",
    "        return 0\n",
    "    elif n == 1:\n",
    "        return 1\n",
    "    else:\n",
    "        return fib(n-1) + fib(n-2)\n",
    "for i in range(6):\n",
    "    print(fib(i), end=\" \")\n",
    "    \n",
    "# Output\n",
    "# 0 1 1 2 3 5"
   ]
  },
  {
   "cell_type": "code",
   "execution_count": 43,
   "id": "d59ce9f2",
   "metadata": {},
   "outputs": [],
   "source": [
    "# function which can memoize another function:\n",
    "\n",
    "def memoize(f):\n",
    "    memo = {}\n",
    "    def memoized_func(n):\n",
    "        if n not in memo:            \n",
    "            memo[n] = f(n)\n",
    "        return memo[n]\n",
    "    return memoized_func"
   ]
  },
  {
   "cell_type": "code",
   "execution_count": 44,
   "id": "e1ab3565",
   "metadata": {},
   "outputs": [
    {
     "data": {
      "text/plain": [
       "832040"
      ]
     },
     "execution_count": 44,
     "metadata": {},
     "output_type": "execute_result"
    }
   ],
   "source": [
    "fib = memoize(fib)\n",
    "fib(30) # Output is 832040"
   ]
  },
  {
   "cell_type": "markdown",
   "id": "b050a38c",
   "metadata": {},
   "source": [
    "#### Tracing recursive functions"
   ]
  },
  {
   "cell_type": "code",
   "execution_count": 45,
   "id": "3eabf583",
   "metadata": {},
   "outputs": [],
   "source": [
    "def trace(f):\n",
    "    level = 1\n",
    "    def helper(*arg):\n",
    "        nonlocal level\n",
    "        print((level-1)*\"  │\",  \"  ┌\",  f.__name__,\n",
    "              \"(\", \",\".join(map(str, arg)), \")\", sep=\"\")\n",
    "        level += 1\n",
    "        result = f(*arg)\n",
    "        level -= 1\n",
    "        print((level-1)*\"  │\", \"  └\",  result, sep=\"\")\n",
    "        return result\n",
    "    return helper"
   ]
  },
  {
   "cell_type": "code",
   "execution_count": 46,
   "id": "818bafb0",
   "metadata": {},
   "outputs": [
    {
     "name": "stdout",
     "output_type": "stream",
     "text": [
      "  ┌fib(4)\n",
      "  │  ┌fib(3)\n",
      "  │  │  ┌fib(2)\n",
      "  │  │  │  ┌fib(1)\n",
      "  │  │  │  └1\n",
      "  │  │  │  ┌fib(0)\n",
      "  │  │  │  └0\n",
      "  │  │  └1\n",
      "  │  │  ┌fib(1)\n",
      "  │  │  └1\n",
      "  │  └2\n",
      "  │  ┌fib(2)\n",
      "  │  │  ┌fib(1)\n",
      "  │  │  └1\n",
      "  │  │  ┌fib(0)\n",
      "  │  │  └0\n",
      "  │  └1\n",
      "  └3\n"
     ]
    },
    {
     "data": {
      "text/plain": [
       "3"
      ]
     },
     "execution_count": 46,
     "metadata": {},
     "output_type": "execute_result"
    }
   ],
   "source": [
    "def fib(n):\n",
    "    if n == 0:\n",
    "        return 0\n",
    "    elif n == 1:\n",
    "        return 1\n",
    "    else:\n",
    "        return fib(n-1) + fib(n-2)\n",
    "fib = trace(fib)\n",
    "fib(4)"
   ]
  },
  {
   "cell_type": "markdown",
   "id": "8b4b3267",
   "metadata": {},
   "source": [
    "### Syntactic sugar"
   ]
  },
  {
   "cell_type": "code",
   "execution_count": 47,
   "id": "d0acc0ae",
   "metadata": {},
   "outputs": [
    {
     "data": {
      "text/plain": [
       "4"
      ]
     },
     "execution_count": 47,
     "metadata": {},
     "output_type": "execute_result"
    }
   ],
   "source": [
    "def deco(f):\n",
    "    def g(*args, **kwargs):\n",
    "        print(\"Calling \", f.__name__)\n",
    "        return f(*args, **kwargs)\n",
    "    return g@deco\n",
    "\n",
    "def func(x):\n",
    "    return 2*x\n",
    "\n",
    "func(2)"
   ]
  },
  {
   "cell_type": "markdown",
   "id": "5d057c34",
   "metadata": {},
   "source": [
    "#### Stacked decorators"
   ]
  },
  {
   "cell_type": "code",
   "execution_count": 48,
   "id": "9be1cb05",
   "metadata": {},
   "outputs": [
    {
     "name": "stdout",
     "output_type": "stream",
     "text": [
      "Calling  g1 using deco2\n",
      "Calling  func using deco1\n"
     ]
    },
    {
     "data": {
      "text/plain": [
       "4"
      ]
     },
     "execution_count": 48,
     "metadata": {},
     "output_type": "execute_result"
    }
   ],
   "source": [
    "def deco1(f):\n",
    "    def g1(*args, **kwargs):\n",
    "        print(\"Calling \", f.__name__, \"using deco1\")\n",
    "        return f(*args, **kwargs)\n",
    "    return g1\n",
    "\n",
    "def deco2(f):\n",
    "    def g2(*args, **kwargs):\n",
    "        print(\"Calling \", f.__name__, \"using deco2\")\n",
    "        return f(*args, **kwargs)\n",
    "    return g2\n",
    "\n",
    "def func(x):\n",
    "    return 2*x\n",
    "\n",
    "func = deco2(deco1(func))\n",
    "func(2)"
   ]
  },
  {
   "cell_type": "code",
   "execution_count": 49,
   "id": "f9726130",
   "metadata": {},
   "outputs": [
    {
     "name": "stdout",
     "output_type": "stream",
     "text": [
      "Calling  g1 using deco2\n",
      "Calling  func using deco1\n"
     ]
    },
    {
     "data": {
      "text/plain": [
       "4"
      ]
     },
     "execution_count": 49,
     "metadata": {},
     "output_type": "execute_result"
    }
   ],
   "source": [
    "# use the pie syntax to apply stacked decorators to a function. \n",
    "def deco1(f):\n",
    "    def g1(*args, **kwargs):\n",
    "        print(\"Calling \", f.__name__, \"using deco1\")\n",
    "        return f(*args, **kwargs)\n",
    "    return g1\n",
    "\n",
    "def deco2(f):\n",
    "    def g2(*args, **kwargs):\n",
    "        print(\"Calling \", f.__name__, \"using deco2\")\n",
    "        return f(*args, **kwargs)\n",
    "    return g2\n",
    "\n",
    "@deco2\n",
    "@deco1\n",
    "def func(x):\n",
    "    return 2*x\n",
    "\n",
    "func(2)"
   ]
  },
  {
   "cell_type": "code",
   "execution_count": 50,
   "id": "cd98ed68",
   "metadata": {},
   "outputs": [
    {
     "name": "stdout",
     "output_type": "stream",
     "text": [
      "Calling  g1 using deco2\n",
      "Calling  func using deco1\n"
     ]
    },
    {
     "data": {
      "text/plain": [
       "4"
      ]
     },
     "execution_count": 50,
     "metadata": {},
     "output_type": "execute_result"
    }
   ],
   "source": [
    "# use the function compose to combine these two decorators before applying them to the target function.\n",
    "\n",
    "def deco1(f):\n",
    "    def g1(*args, **kwargs):\n",
    "        print(\"Calling \", f.__name__, \"using deco1\")\n",
    "        return f(*args, **kwargs)\n",
    "    return g1\n",
    "\n",
    "def deco2(f):\n",
    "    def g2(*args, **kwargs):\n",
    "        print(\"Calling \", f.__name__, \"using deco2\")\n",
    "        return f(*args, **kwargs)\n",
    "    return g2\n",
    "\n",
    "deco = compose(deco2, deco1) \n",
    "@deco\n",
    "def func(x):\n",
    "    return 2*x\n",
    "\n",
    "func(2)"
   ]
  },
  {
   "cell_type": "code",
   "execution_count": 51,
   "id": "9a2f3c24",
   "metadata": {},
   "outputs": [
    {
     "name": "stdout",
     "output_type": "stream",
     "text": [
      "  ┌memoized_func(5)\n",
      "  │  ┌memoized_func(4)\n",
      "  │  │  ┌memoized_func(3)\n",
      "  │  │  │  ┌memoized_func(2)\n",
      "  │  │  │  │  ┌memoized_func(1)\n",
      "  │  │  │  │  └1\n",
      "  │  │  │  │  ┌memoized_func(0)\n",
      "  │  │  │  │  └0\n",
      "  │  │  │  └1\n",
      "  │  │  │  ┌memoized_func(1)\n",
      "  │  │  │  └1\n",
      "  │  │  └2\n",
      "  │  │  ┌memoized_func(2)\n",
      "  │  │  └1\n",
      "  │  └3\n",
      "  │  ┌memoized_func(3)\n",
      "  │  └2\n",
      "  └5\n"
     ]
    },
    {
     "data": {
      "text/plain": [
       "5"
      ]
     },
     "execution_count": 51,
     "metadata": {},
     "output_type": "execute_result"
    }
   ],
   "source": [
    "# decorate the Fibonacci function with the memoize decorator and the trace decorator\n",
    "\n",
    "@trace\n",
    "@memoize\n",
    "def fib(n):\n",
    "    if n == 0:\n",
    "        return 0\n",
    "    elif n == 1:\n",
    "        return 1\n",
    "    else:\n",
    "        return fib(n-1) + fib(n-2)\n",
    "    \n",
    "fib(5)"
   ]
  },
  {
   "cell_type": "markdown",
   "id": "167db4f1",
   "metadata": {},
   "source": [
    "### Decorators with additional parameters"
   ]
  },
  {
   "cell_type": "code",
   "execution_count": 52,
   "id": "6c70887f",
   "metadata": {},
   "outputs": [
    {
     "name": "stdout",
     "output_type": "stream",
     "text": [
      "Starting func\n",
      "Finished func\n"
     ]
    },
    {
     "data": {
      "text/plain": [
       "4"
      ]
     },
     "execution_count": 52,
     "metadata": {},
     "output_type": "execute_result"
    }
   ],
   "source": [
    "def deco(msg_before, msg_after):\n",
    "    def original_deco(f):\n",
    "        def g(*args, **kwargs):\n",
    "            print(msg_before + \" \" + f.__name__)\n",
    "            result =  f(*args, **kwargs)\n",
    "            print(msg_after + \" \" + f.__name__)\n",
    "            return result\n",
    "        return g\n",
    "    return original_deco\n",
    "\n",
    "def func(x):\n",
    "    return 2*x\n",
    "\n",
    "func = deco(\"Starting\", \"Finished\")(func)\n",
    "func(2)"
   ]
  },
  {
   "cell_type": "code",
   "execution_count": 53,
   "id": "d2953610",
   "metadata": {},
   "outputs": [
    {
     "name": "stdout",
     "output_type": "stream",
     "text": [
      "Starting func\n",
      "Finished func\n"
     ]
    },
    {
     "data": {
      "text/plain": [
       "4"
      ]
     },
     "execution_count": 53,
     "metadata": {},
     "output_type": "execute_result"
    }
   ],
   "source": [
    "def deco(msg_before, msg_after):\n",
    "    def original_deco(f):\n",
    "        def g(*args, **kwargs):\n",
    "            print(msg_before + \" \" + f.__name__)\n",
    "            result =  f(*args, **kwargs)\n",
    "            print(msg_after + \" \" + f.__name__)\n",
    "            return result\n",
    "        return g\n",
    "    return original_deco\n",
    "\n",
    "@deco(\"Starting\", \"Finished\")\n",
    "def func(x):\n",
    "    return 2*x\n",
    "\n",
    "func(2)"
   ]
  },
  {
   "cell_type": "code",
   "execution_count": 54,
   "id": "27d84711",
   "metadata": {},
   "outputs": [
    {
     "name": "stdout",
     "output_type": "stream",
     "text": [
      "Starting func\n",
      "Finished func\n"
     ]
    },
    {
     "data": {
      "text/plain": [
       "4"
      ]
     },
     "execution_count": 54,
     "metadata": {},
     "output_type": "execute_result"
    }
   ],
   "source": [
    "def deco(msg_before, msg_after, f):\n",
    "    def g(*args, **kwargs):\n",
    "        print(msg_before + \" \" + f.__name__)\n",
    "        result =  f(*args, **kwargs)\n",
    "        print(msg_after + \" \" + f.__name__)\n",
    "        return result\n",
    "    return g\n",
    "    \n",
    "def func(x):\n",
    "    return 2*x\n",
    "func = deco(\"Starting\", \"Finished\", func)\n",
    "func(2)\n",
    "#sds"
   ]
  },
  {
   "cell_type": "code",
   "execution_count": 55,
   "id": "9860b01d",
   "metadata": {},
   "outputs": [
    {
     "ename": "TypeError",
     "evalue": "deco() missing 1 required positional argument: 'f'",
     "output_type": "error",
     "traceback": [
      "\u001b[1;31m---------------------------------------------------------------------------\u001b[0m",
      "\u001b[1;31mTypeError\u001b[0m                                 Traceback (most recent call last)",
      "\u001b[1;32m<ipython-input-55-b210b2d180ac>\u001b[0m in \u001b[0;36m<module>\u001b[1;34m\u001b[0m\n\u001b[0;32m      1\u001b[0m \u001b[1;31m# This does not work:\u001b[0m\u001b[1;33m\u001b[0m\u001b[1;33m\u001b[0m\u001b[1;33m\u001b[0m\u001b[0m\n\u001b[1;32m----> 2\u001b[1;33m \u001b[1;33m@\u001b[0m\u001b[0mdeco\u001b[0m\u001b[1;33m(\u001b[0m\u001b[1;34m\"Starting\"\u001b[0m\u001b[1;33m,\u001b[0m \u001b[1;34m\"Finished\"\u001b[0m\u001b[1;33m)\u001b[0m\u001b[1;33m\u001b[0m\u001b[1;33m\u001b[0m\u001b[0m\n\u001b[0m\u001b[0;32m      3\u001b[0m \u001b[1;32mdef\u001b[0m \u001b[0mfunc\u001b[0m\u001b[1;33m(\u001b[0m\u001b[0mx\u001b[0m\u001b[1;33m)\u001b[0m\u001b[1;33m:\u001b[0m\u001b[1;33m\u001b[0m\u001b[1;33m\u001b[0m\u001b[0m\n\u001b[0;32m      4\u001b[0m     \u001b[1;32mreturn\u001b[0m \u001b[1;36m2\u001b[0m\u001b[1;33m*\u001b[0m\u001b[0mx\u001b[0m\u001b[1;33m\u001b[0m\u001b[1;33m\u001b[0m\u001b[0m\n\u001b[0;32m      5\u001b[0m \u001b[1;31m#func = deco(\"Starting\", \"Finished\")\u001b[0m\u001b[1;33m\u001b[0m\u001b[1;33m\u001b[0m\u001b[1;33m\u001b[0m\u001b[0m\n",
      "\u001b[1;31mTypeError\u001b[0m: deco() missing 1 required positional argument: 'f'"
     ]
    }
   ],
   "source": [
    "# This does not work:\n",
    "@deco(\"Starting\", \"Finished\")\n",
    "def func(x):\n",
    "    return 2*x\n",
    "#func = deco(\"Starting\", \"Finished\")\n",
    "func(2)"
   ]
  },
  {
   "cell_type": "code",
   "execution_count": null,
   "id": "c5b43bd8",
   "metadata": {},
   "outputs": [],
   "source": [
    "# use the function curry that we defined to simplify the decorator function. \n",
    "\n",
    "@curry\n",
    "def deco(msg_before, msg_after, f):\n",
    "    def g(*args, **kwargs):\n",
    "        print(msg_before + \" \" + f.__name__)\n",
    "        result =  f(*args, **kwargs)\n",
    "        print(msg_after + \" \" + f.__name__)\n",
    "        return result\n",
    "    return g\n",
    "    \n",
    "@deco(\"Starting\", \"Finished\")\n",
    "def func(x):\n",
    "    return 2*x\n",
    "\n",
    "func(2)"
   ]
  },
  {
   "cell_type": "code",
   "execution_count": null,
   "id": "4f9d07fc",
   "metadata": {},
   "outputs": [],
   "source": [
    "def wraps(f):\n",
    "    def decorator(g):\n",
    "        def helper(*args, **kwargs):\n",
    "            return g(*args, **kwargs)\n",
    "        attributes = ('__module__', '__name__', '__qualname__',\n",
    "                      '__doc__', '__annotations__')         \n",
    "        for attr in attributes:\n",
    "            try:\n",
    "                value = getattr(f, attr)\n",
    "            except AttributeError:\n",
    "                pass\n",
    "            else:\n",
    "                setattr(helper, attr, value)\n",
    "        return helper\n",
    "    return decorator"
   ]
  },
  {
   "cell_type": "code",
   "execution_count": null,
   "id": "294820bc",
   "metadata": {},
   "outputs": [],
   "source": [
    "def memoize(f):\n",
    "    memo = {}\n",
    "    @wraps(f)\n",
    "    def memoized_func(n):\n",
    "        if n not in memo:            \n",
    "            memo[n] = f(n)\n",
    "        return memo[n]\n",
    "    return memoized_func"
   ]
  },
  {
   "cell_type": "code",
   "execution_count": null,
   "id": "0126c1f9",
   "metadata": {},
   "outputs": [],
   "source": [
    "@trace\n",
    "@memoize\n",
    "def fib(n):\n",
    "    if n == 0:\n",
    "        return 0\n",
    "    elif n == 1:\n",
    "        return 1\n",
    "    else:\n",
    "        return fib(n-1) + fib(n-2)\n",
    "    \n",
    "fib(5)"
   ]
  },
  {
   "cell_type": "code",
   "execution_count": null,
   "id": "ac86945c",
   "metadata": {},
   "outputs": [],
   "source": [
    "fib(6)"
   ]
  }
 ],
 "metadata": {
  "kernelspec": {
   "display_name": "Python 3",
   "language": "python",
   "name": "python3"
  },
  "language_info": {
   "codemirror_mode": {
    "name": "ipython",
    "version": 3
   },
   "file_extension": ".py",
   "mimetype": "text/x-python",
   "name": "python",
   "nbconvert_exporter": "python",
   "pygments_lexer": "ipython3",
   "version": "3.8.8"
  }
 },
 "nbformat": 4,
 "nbformat_minor": 5
}
