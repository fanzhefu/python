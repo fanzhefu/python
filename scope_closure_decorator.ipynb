{
 "cells": [
  {
   "cell_type": "code",
   "execution_count": 78,
   "id": "dfe7812b",
   "metadata": {},
   "outputs": [],
   "source": [
    "# https://towardsdatascience.com/closures-and-decorators-in-python-2551abbc6eb6"
   ]
  },
  {
   "cell_type": "markdown",
   "id": "bd2008b4",
   "metadata": {},
   "source": [
    "### Scope of variables\n"
   ]
  },
  {
   "cell_type": "markdown",
   "id": "a83822b6",
   "metadata": {},
   "source": [
    "Global scope: When a variable is defined outside all functions. A global variable can be accessed by all the functions in the file.\n",
    "\n",
    "Local scope: When a variable is defined inside a function, it is local to that function. A local variable can be only accessed inside the function in which it was defined.\n",
    "\n",
    "Nonlocal scope: When a variable is assigned in an enclosing function, it is nonlocal to its nested functions. A nonlocal variable can be accessed by the function in which it was defined and all its nested functions."
   ]
  },
  {
   "cell_type": "code",
   "execution_count": 21,
   "id": "3e75d359",
   "metadata": {},
   "outputs": [
    {
     "name": "stdout",
     "output_type": "stream",
     "text": [
      "Local variable x = 2\n",
      "Global variable y = 6\n",
      "Local variable z = 10\n",
      "Global variable  x = 1\n",
      "Global variable y = 6\n"
     ]
    }
   ],
   "source": [
    "x = 1 # x is a global variable  \n",
    "y = 5 # y is a global variable \n",
    "def f():\n",
    "    # change a global value inside a function, use the \"global\" keyword.\n",
    "    global y \n",
    "    x = 2   # x is a local variable, globl x is shadowed \n",
    "    y += 1  # Reassigning the global variable y\n",
    "    z = 10   # z is a local variable\n",
    "    print(\"Local variable x =\", x)\n",
    "    print(\"Global variable y =\", y)\n",
    "    print(\"Local variable z =\", z)\n",
    "f()\n",
    "print(\"Global variable  x =\", x)\n",
    "print(\"Global variable y =\", y)"
   ]
  },
  {
   "cell_type": "code",
   "execution_count": 35,
   "id": "32f76291",
   "metadata": {},
   "outputs": [
    {
     "name": "stdout",
     "output_type": "stream",
     "text": [
      "a= [1, 2, 3, 4]\n",
      "b= 5\n"
     ]
    }
   ],
   "source": [
    "# In Python, everything is an object, and the variables are references to these objects. \n",
    "# When we pass a variable to a function, Python passes a copy of the reference to the object to which the variable refers. \n",
    "# It does not send the object or the original reference to the function. So both the original reference and \n",
    "# the copied reference that the function receives as its argument are referring to the same object. \n",
    "# Now if we pass a global object that is immutable (like an integer or a string), the function cannot modify it using its argument. \n",
    "# However, if the object is mutable (like a list), the function can modify it. Here is an example:\n",
    "\n",
    "a = [1, 2, 3]   # a->[1,2,3]\n",
    "b = 5           # b->5\n",
    "def func(x, y): # x->[1,2,3]; y->5\n",
    "    x.append(4) # x->[1,2,3,4]; a->[1,2,3,4]\n",
    "    y = y + 1   # y->6; b->5  \n",
    "    \n",
    "func(a, b)\n",
    "print(\"a=\", a)  #  Output is a=[1, 2, 3, 4]\n",
    "print(\"b=\", b)  #  Output is b=5"
   ]
  },
  {
   "cell_type": "code",
   "execution_count": 38,
   "id": "45dc6568",
   "metadata": {},
   "outputs": [
    {
     "name": "stdout",
     "output_type": "stream",
     "text": [
      "Local variable t = 10\n",
      "Nonlocal variable x = 5\n",
      "Local variable z = 20\n",
      "Nonlocal variable x = 5\n",
      "Nonlocal variable y = 6\n",
      "Local variable z = 10\n"
     ]
    }
   ],
   "source": [
    "# nested function. The local variables of the outer function are nonlocal to its inner function.\n",
    "# The inner function can access the nonlocal variables but cannot change them. \n",
    "# Reassigning them simply creates a new local variable with the same name in the inner function \"z\", \n",
    "# and does not affect the nonlocal variable.\n",
    "# if we want to make a change to a nonlocal variable in a nested function, we must use the nonlocal keyword \"y\".\n",
    "# he outer function parameters behave like nonlocal variables and can be also accessed (or read) by the inner function.\n",
    "def f(x): # outer function \n",
    "    y = 5\n",
    "    z = 10\n",
    "    t = 10\n",
    "    def g(): # inner function\n",
    "        nonlocal y #\n",
    "        y += 1\n",
    "        z = 20\n",
    "        print(\"Nonlocal variable x =\", x)\n",
    "        print(\"Local variable z =\", z) \n",
    "    print(\"Local variable t =\", t)    \n",
    "    g()\n",
    "    print(\"Nonlocal variable x =\", x)\n",
    "    print(\"Nonlocal variable y =\", y)\n",
    "    print(\"Local variable z =\", z)\n",
    "f(5)\n",
    "# This does not work:\n",
    "# g()"
   ]
  },
  {
   "cell_type": "markdown",
   "id": "45c5406a",
   "metadata": {},
   "source": [
    "### Closure\n",
    "Closures make it possible to call an inner function outside the outer function and still access its nonlocal variables.\n",
    "The name “closure” comes from the fact that it captures the bindings of its free (nonlocal) variables and is the result of closing an open term.\n",
    "\n",
    "So a closure is an open term which is closed by capturing the bindings of its free (nonlocal) variables. \n",
    "\n",
    "1 - It should be returned by the outer function.\n",
    "\n",
    "2 - it should capture some of the nonlocal variables of the outer function. This can be done by accessing those variables, or defining them as a nonlocal variable or having a nested closure that needs to capture them."
   ]
  },
  {
   "cell_type": "code",
   "execution_count": 40,
   "id": "89a828d8",
   "metadata": {},
   "outputs": [
    {
     "name": "stdout",
     "output_type": "stream",
     "text": [
      "5\n"
     ]
    }
   ],
   "source": [
    "# after running h=f(), all the local variables of f() are gone, and we cannot access x and y anymore. \n",
    "# But we still have the value of x that it is returned and stored in h. \n",
    "def f():\n",
    "    x = 5\n",
    "    y = 10\n",
    "    return x\n",
    "h=f()\n",
    "print(h)"
   ]
  },
  {
   "cell_type": "code",
   "execution_count": 41,
   "id": "dd4b4980",
   "metadata": {},
   "outputs": [
    {
     "data": {
      "text/plain": [
       "1"
      ]
     },
     "execution_count": 41,
     "metadata": {},
     "output_type": "execute_result"
    }
   ],
   "source": [
    "# we can make the outer function to return the inner function. \n",
    "# This is possible in Python since Python functions are first class. \n",
    "# It means that Python treats functions as values, so we can assign a function to a variable, \n",
    "# pass it as a function argument or return it by another function. \n",
    "# here the outer function f(x) return its inner function g.\n",
    "def f(x):\n",
    "    def g(y):\n",
    "        return y\n",
    "    return g # not \"return g(y)\"\n",
    "a = 5\n",
    "b = 1\n",
    "h=f(a) # h->g\n",
    "h(b)  # Output is 1"
   ]
  },
  {
   "cell_type": "code",
   "execution_count": 42,
   "id": "c3ab9d8a",
   "metadata": {},
   "outputs": [
    {
     "data": {
      "text/plain": [
       "'g'"
      ]
     },
     "execution_count": 42,
     "metadata": {},
     "output_type": "execute_result"
    }
   ],
   "source": [
    "h.__name__   "
   ]
  },
  {
   "cell_type": "code",
   "execution_count": 43,
   "id": "911fe189",
   "metadata": {},
   "outputs": [
    {
     "data": {
      "text/plain": [
       "1"
      ]
     },
     "execution_count": 43,
     "metadata": {},
     "output_type": "execute_result"
    }
   ],
   "source": [
    "# A function that only takes one argument is called a unary function.\n",
    "def f(x):\n",
    "    def g(y):\n",
    "        return y\n",
    "    return g\n",
    "a = 5\n",
    "b = 1\n",
    "f(a)(b)  # Output is 1"
   ]
  },
  {
   "cell_type": "code",
   "execution_count": 44,
   "id": "b09d0c8a",
   "metadata": {},
   "outputs": [
    {
     "data": {
      "text/plain": [
       "1"
      ]
     },
     "execution_count": 44,
     "metadata": {},
     "output_type": "execute_result"
    }
   ],
   "source": [
    "# three nested unary functions. The first function f(x) has an inner function g(y) and g(y) has an inner function h(z). \n",
    "# Each outer function returns its inner function.\n",
    "def f(x):\n",
    "    def g(y):\n",
    "        def h(z):\n",
    "            return z\n",
    "        return h\n",
    "    return g\n",
    "a = 5\n",
    "b = 2\n",
    "c = 1\n",
    "f(a)(b)(c)  # Output is 1"
   ]
  },
  {
   "cell_type": "code",
   "execution_count": 45,
   "id": "48a00d39",
   "metadata": {},
   "outputs": [
    {
     "data": {
      "text/plain": [
       "11"
      ]
     },
     "execution_count": 45,
     "metadata": {},
     "output_type": "execute_result"
    }
   ],
   "source": [
    "# A closure is an inner function with an extended scope that encompasses nonlocal variables of the outer function. \n",
    "def f(x):\n",
    "    z = 2\n",
    "    # A variable like y which is in the local scope of the inner function g(y) is called a \"bound variable\"\n",
    "    # A function that only has bound variables is called a \"close term\".\n",
    "    # a nonlocal variable like z is called a \"free variable\" since it is free to be defined outside g(y), \n",
    "    # and a function that contains free variables is called an \"open term.\"\n",
    "    def g(y): # closure\n",
    "        return z*x + y\n",
    "    return g\n",
    "a = 5\n",
    "b = 1\n",
    "h = f(a)\n",
    "h(b)  # Output is 11\n",
    "\n",
    "# the inner function g(y) is not a closure as long as it has a free variable which is not bound yet (x and z). \n",
    "# Once we evaluate h=f(a), the enclosing function f(x) is evaluated, and the free variables x and z become bound to 5 and 2 respectively. \n",
    "# So g(y) returned by f(a) becomes a closure, and h is now referring to a closure"
   ]
  },
  {
   "cell_type": "code",
   "execution_count": 46,
   "id": "3530486c",
   "metadata": {},
   "outputs": [
    {
     "data": {
      "text/plain": [
       "('x', 'z')"
      ]
     },
     "execution_count": 46,
     "metadata": {},
     "output_type": "execute_result"
    }
   ],
   "source": [
    "# free variables are captured by the inner function. \n",
    "h.__code__.co_freevars"
   ]
  },
  {
   "cell_type": "code",
   "execution_count": 47,
   "id": "285e1ca7",
   "metadata": {},
   "outputs": [
    {
     "name": "stdout",
     "output_type": "stream",
     "text": [
      "x = 5\n",
      "z = 2\n"
     ]
    }
   ],
   "source": [
    "# also get the value of these free variables using the closure attribute:\n",
    "\n",
    "print(h.__code__.co_freevars[0], \"=\", h.__closure__[0].cell_contents) \n",
    "print(h.__code__.co_freevars[1], \"=\", h.__closure__[1].cell_contents)"
   ]
  },
  {
   "cell_type": "code",
   "execution_count": 48,
   "id": "faf80a1a",
   "metadata": {},
   "outputs": [
    {
     "data": {
      "text/plain": [
       "1"
      ]
     },
     "execution_count": 48,
     "metadata": {},
     "output_type": "execute_result"
    }
   ],
   "source": [
    "# It is important to note that to have a closure, the inner function should access the nonlocal variables of the outer function. \n",
    "# When no free variable is accessed inside the inner function, \n",
    "# it does not capture them since it is already a closed term and does not need to be closed.\n",
    "\n",
    "def f(x):\n",
    "    z = 2\n",
    "    def g(y):\n",
    "        return y\n",
    "    return g\n",
    "a = 5\n",
    "b = 1\n",
    "h = f(a) # not a closure\n",
    "h(b)  # Output is 1\n",
    "# the nonlocal variables x and z are not accessed inside g(y) and there is no need for g(y) to capture them"
   ]
  },
  {
   "cell_type": "code",
   "execution_count": 49,
   "id": "c16483e8",
   "metadata": {},
   "outputs": [
    {
     "data": {
      "text/plain": [
       "()"
      ]
     },
     "execution_count": 49,
     "metadata": {},
     "output_type": "execute_result"
    }
   ],
   "source": [
    "h.__code__.co_freevars"
   ]
  },
  {
   "cell_type": "code",
   "execution_count": 52,
   "id": "c8597dc4",
   "metadata": {},
   "outputs": [
    {
     "name": "stdout",
     "output_type": "stream",
     "text": [
      "None\n"
     ]
    }
   ],
   "source": [
    "print(h.__closure__)"
   ]
  },
  {
   "cell_type": "code",
   "execution_count": 54,
   "id": "bb43e671",
   "metadata": {},
   "outputs": [
    {
     "data": {
      "text/plain": [
       "1"
      ]
     },
     "execution_count": 54,
     "metadata": {},
     "output_type": "execute_result"
    }
   ],
   "source": [
    "# If we do not access a nonlocal variable but define it as nonlocal inside the inner function, \n",
    "# it is still captured by the closure. \n",
    "def f(x):\n",
    "    z = 2\n",
    "    t = 3\n",
    "    def g(y): # closure\n",
    "        nonlocal t\n",
    "        return y\n",
    "    return g\n",
    "a = 5\n",
    "b = 1\n",
    "h = f(a)\n",
    "h(b)  \n"
   ]
  },
  {
   "cell_type": "code",
   "execution_count": 55,
   "id": "42c558a5",
   "metadata": {},
   "outputs": [
    {
     "data": {
      "text/plain": [
       "('t',)"
      ]
     },
     "execution_count": 55,
     "metadata": {},
     "output_type": "execute_result"
    }
   ],
   "source": [
    "h.__code__.co_freevars  # Output is ('t',)"
   ]
  },
  {
   "cell_type": "code",
   "execution_count": 56,
   "id": "998d84f3",
   "metadata": {},
   "outputs": [
    {
     "data": {
      "text/plain": [
       "5"
      ]
     },
     "execution_count": 56,
     "metadata": {},
     "output_type": "execute_result"
    }
   ],
   "source": [
    "# here g(y) is not a closure here since the value of x is just used to initialize y and g does not need to capture x.\n",
    "def f(x):\n",
    "    def g(y = x):\n",
    "        return y\n",
    "    return g\n",
    "a = 5\n",
    "b = 1\n",
    "h = f(a)\n",
    "h()  # Output is 5"
   ]
  },
  {
   "cell_type": "code",
   "execution_count": 57,
   "id": "ad8e3e42",
   "metadata": {},
   "outputs": [
    {
     "data": {
      "text/plain": [
       "()"
      ]
     },
     "execution_count": 57,
     "metadata": {},
     "output_type": "execute_result"
    }
   ],
   "source": [
    "h.__code__.co_freevars "
   ]
  },
  {
   "cell_type": "code",
   "execution_count": 59,
   "id": "cac3f076",
   "metadata": {},
   "outputs": [
    {
     "data": {
      "text/plain": [
       "10"
      ]
     },
     "execution_count": 59,
     "metadata": {},
     "output_type": "execute_result"
    }
   ],
   "source": [
    "# multiple nested functions, each closure is able to capture all the nonlocal variables which are at higher levels\n",
    "def f(x):\n",
    "    def g(y):\n",
    "        def h(z):\n",
    "            return x * y * z\n",
    "        return h\n",
    "    return g\n",
    "a = 5\n",
    "b = 2\n",
    "c = 1\n",
    "f(a)(b)(c)  # Output is 10"
   ]
  },
  {
   "cell_type": "code",
   "execution_count": 60,
   "id": "012e843d",
   "metadata": {},
   "outputs": [
    {
     "data": {
      "text/plain": [
       "('x', 'y')"
      ]
     },
     "execution_count": 60,
     "metadata": {},
     "output_type": "execute_result"
    }
   ],
   "source": [
    "# f(a)(b) refers to h\n",
    "f(a)(b).__code__.co_freevars"
   ]
  },
  {
   "cell_type": "code",
   "execution_count": 61,
   "id": "21f3aa27",
   "metadata": {},
   "outputs": [
    {
     "data": {
      "text/plain": [
       "('x',)"
      ]
     },
     "execution_count": 61,
     "metadata": {},
     "output_type": "execute_result"
    }
   ],
   "source": [
    "# g(y) is also a closure and it captures x as a nonlocal variable. \n",
    "# We can easily check it (remember that f(a) refers to g(y)):\n",
    "f(a).__code__.co_freevars  # Output is ('x',)"
   ]
  },
  {
   "cell_type": "code",
   "execution_count": null,
   "id": "6b6b2c38",
   "metadata": {},
   "outputs": [],
   "source": [
    "# g(y) is not a closure, because h(z) does not need to capture x. \n",
    "# As a result, g(y) doesn't capture it either, and doesn't become a closure. \n",
    "def f(x):\n",
    "    def g(y): \n",
    "        def h(z):\n",
    "            return y * z\n",
    "        return h\n",
    "    return g\n",
    "a = 5\n",
    "b = 2\n",
    "c = 1\n",
    "f(a).__code__.co_freevars  # Output is ()"
   ]
  },
  {
   "cell_type": "code",
   "execution_count": 63,
   "id": "eccbcebc",
   "metadata": {},
   "outputs": [
    {
     "data": {
      "text/plain": [
       "11"
      ]
     },
     "execution_count": 63,
     "metadata": {},
     "output_type": "execute_result"
    }
   ],
   "source": [
    "# Listing 15\n",
    "def f(x):\n",
    "    z = 2\n",
    "    return lambda y: z*x+y\n",
    "a = 5\n",
    "b = 1\n",
    "f(a)(b)  # Output is 11"
   ]
  },
  {
   "cell_type": "code",
   "execution_count": 66,
   "id": "b8eed0f1",
   "metadata": {},
   "outputs": [
    {
     "name": "stdout",
     "output_type": "stream",
     "text": [
      "3.0\n",
      "3.0\n"
     ]
    }
   ],
   "source": [
    "# class vs function:\n",
    "class NthRoot:\n",
    "    def __init__(self, n=2):\n",
    "        self.n = n\n",
    "    def set_root(n):\n",
    "        self.n = n\n",
    "    def calc(self, x):\n",
    "        return x ** (1/self.n)\n",
    "    \n",
    "thirdRoot = NthRoot(3)\n",
    "print(thirdRoot.calc(27))  # Output is 3\n",
    "\n",
    "# functional programming, closures make it possible to bind data to a function without actually passing them as parameters.\n",
    "def nth_root(n=2):\n",
    "    def calc(x):\n",
    "        return x ** (1/n)\n",
    "    return calc\n",
    "\n",
    "third_root = nth_root(3)\n",
    "print(third_root(27))  # Output is 3"
   ]
  },
  {
   "cell_type": "markdown",
   "id": "efaf16e0",
   "metadata": {},
   "source": [
    "#### Composition\n",
    "If we have two functions f and g, we can combine them in such a way so that the output of f becomes the input of g. In mathematics, this operation is called a composition. "
   ]
  },
  {
   "cell_type": "code",
   "execution_count": 67,
   "id": "a7415b26",
   "metadata": {},
   "outputs": [],
   "source": [
    "def compose(g, f):\n",
    "    def h(*args, **kwargs):\n",
    "        return g(f(*args, **kwargs))\n",
    "    return h\n"
   ]
  },
  {
   "cell_type": "code",
   "execution_count": 70,
   "id": "4fbfe2d5",
   "metadata": {},
   "outputs": [
    {
     "data": {
      "text/plain": [
       "0.3048"
      ]
     },
     "execution_count": 70,
     "metadata": {},
     "output_type": "execute_result"
    }
   ],
   "source": [
    "inch_to_foot= lambda x: x/12\n",
    "foot_meter= lambda x: x * 0.3048\n",
    "\n",
    "inch_to_meter = compose(foot_meter, inch_to_foot)\n",
    "inch_to_meter(12)   # Output 0.3048"
   ]
  },
  {
   "cell_type": "markdown",
   "id": "cd8b74e8",
   "metadata": {},
   "source": [
    "#### Partial application\n",
    "In mathematics, the number of arguments that a function takes is called the arity of that function. Partial application is an operation that reduces the arity of a function. It means it allows you to fix the values of some of the arguments and freeze them to get a function with fewer parameters. So it somehow simplifies the function.\n",
    "\n",
    "For example, the arity of f(x, y, z) is 3. We can fix the value of argument x at a to have f(x=a, y ,z) = g(y,z). Now the arity of g(y,z)is 2, and it is the result of partial application of f(x, y, z). So partial(f) => g. We can implement the partial application using closures:"
   ]
  },
  {
   "cell_type": "code",
   "execution_count": 72,
   "id": "90877556",
   "metadata": {},
   "outputs": [],
   "source": [
    "def partial(f, *f_args, **f_keywords):\n",
    "    def g(*args, **keywords):\n",
    "        new_keywords = f_keywords.copy()\n",
    "        new_keywords.update(keywords)\n",
    "        return f(*(f_args + args), **new_keywords)\n",
    "    return g"
   ]
  },
  {
   "cell_type": "code",
   "execution_count": 74,
   "id": "43d13269",
   "metadata": {},
   "outputs": [
    {
     "data": {
      "text/plain": [
       "8"
      ]
     },
     "execution_count": 74,
     "metadata": {},
     "output_type": "execute_result"
    }
   ],
   "source": [
    "func = lambda x,y,z: x**2 + 2*y + z\n",
    "\n",
    "pfunc = partial(func, 1)\n",
    "pfunc(2, 3)  # Output is 8"
   ]
  },
  {
   "cell_type": "markdown",
   "id": "502b87e3",
   "metadata": {},
   "source": [
    "#### Currying\n",
    "In mathematics, currying means transforming a function with multiple parameters into a sequence of nested unary functions. As mentioned before a unary function is a function that only takes one argument. So for example, if we have a function f(x, y, z). Currying transforms it to g(x)(y)(z) = ((g(x))(y))(z). "
   ]
  },
  {
   "cell_type": "code",
   "execution_count": 75,
   "id": "f1a2fcb3",
   "metadata": {},
   "outputs": [],
   "source": [
    "def curry(f):\n",
    "    argc = f.__code__.co_argcount\n",
    "    f_args = []\n",
    "    f_kwargs = {}\n",
    "    def g(*args, **kwargs):\n",
    "        nonlocal f_args, f_kwargs\n",
    "        f_args += args\n",
    "        f_kwargs.update(kwargs)\n",
    "        if len(f_args)+len(f_kwargs) == argc:\n",
    "            return f(*f_args, **f_kwargs)\n",
    "        else:\n",
    "            return g          \n",
    "    return g"
   ]
  },
  {
   "cell_type": "code",
   "execution_count": 76,
   "id": "e8b482bc",
   "metadata": {},
   "outputs": [
    {
     "data": {
      "text/plain": [
       "<function __main__.curry.<locals>.g(*args, **kwargs)>"
      ]
     },
     "execution_count": 76,
     "metadata": {},
     "output_type": "execute_result"
    }
   ],
   "source": [
    "cfunc = curry(func)\n",
    "cfunc(1)(2)# Output:\n",
    "# <function __main__.curry.<locals>.g(*args, **kwargs)>"
   ]
  },
  {
   "cell_type": "code",
   "execution_count": 77,
   "id": "bfa32b45",
   "metadata": {},
   "outputs": [
    {
     "data": {
      "text/plain": [
       "8"
      ]
     },
     "execution_count": 77,
     "metadata": {},
     "output_type": "execute_result"
    }
   ],
   "source": [
    "cfunc(3)  # Output is 8"
   ]
  },
  {
   "cell_type": "markdown",
   "id": "2954ff01",
   "metadata": {},
   "source": [
    "### Decoration and decorators"
   ]
  },
  {
   "cell_type": "code",
   "execution_count": 18,
   "id": "53adde65",
   "metadata": {},
   "outputs": [
    {
     "name": "stdout",
     "output_type": "stream",
     "text": [
      "f is referring to  f definition\n",
      "g is referring to  g definition\n",
      "2361010188144 2361010187712\n"
     ]
    }
   ],
   "source": [
    "# When we define a function in Python, the name of that function is simply \n",
    "# a reference to the body of the function (function definition). \n",
    "def f():\n",
    "    return(\"f definition\")\n",
    "def g():\n",
    "    return(\"g definition\")\n",
    "\n",
    "print(\"f is referring to \", f())\n",
    "print(\"g is referring to \", g())\n",
    "print(id(f),id(g))"
   ]
  },
  {
   "cell_type": "code",
   "execution_count": 19,
   "id": "4782e36a",
   "metadata": {},
   "outputs": [
    {
     "name": "stdout",
     "output_type": "stream",
     "text": [
      "Swapping f and g\n",
      "f is referring to  g definition\n",
      "g is referring to  f definition\n",
      "2361010187712 2361010188144\n"
     ]
    }
   ],
   "source": [
    "print(\"Swapping f and g\")\n",
    "temp = f\n",
    "f = g\n",
    "g = temp\n",
    "\n",
    "print(\"f is referring to \", f())\n",
    "print(\"g is referring to \", g())\n",
    "print(id(f),id(g))"
   ]
  },
  {
   "cell_type": "code",
   "execution_count": null,
   "id": "6a52997c",
   "metadata": {},
   "outputs": [],
   "source": []
  },
  {
   "cell_type": "code",
   "execution_count": null,
   "id": "fbd850c6",
   "metadata": {},
   "outputs": [],
   "source": []
  },
  {
   "cell_type": "code",
   "execution_count": null,
   "id": "75fc7901",
   "metadata": {},
   "outputs": [],
   "source": []
  }
 ],
 "metadata": {
  "kernelspec": {
   "display_name": "Python 3",
   "language": "python",
   "name": "python3"
  },
  "language_info": {
   "codemirror_mode": {
    "name": "ipython",
    "version": 3
   },
   "file_extension": ".py",
   "mimetype": "text/x-python",
   "name": "python",
   "nbconvert_exporter": "python",
   "pygments_lexer": "ipython3",
   "version": "3.8.8"
  }
 },
 "nbformat": 4,
 "nbformat_minor": 5
}
