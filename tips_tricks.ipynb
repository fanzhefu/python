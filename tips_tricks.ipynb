{
 "cells": [
  {
   "cell_type": "code",
   "execution_count": 1,
   "id": "2be4e437",
   "metadata": {},
   "outputs": [
    {
     "name": "stdout",
     "output_type": "stream",
     "text": [
      "1 2 3\n"
     ]
    }
   ],
   "source": [
    "# 0. Exctract List to Variables\n",
    "arr = [1, 2, 3]\n",
    "a, b, c = arr\n",
    "print(a, b, c)"
   ]
  },
  {
   "cell_type": "code",
   "execution_count": 2,
   "id": "5e6eb246",
   "metadata": {},
   "outputs": [
    {
     "name": "stdout",
     "output_type": "stream",
     "text": [
      "tset a tsuj si sihT\n"
     ]
    }
   ],
   "source": [
    "# 1. Reverse a String\n",
    "sentence = \"This is just a test\"\n",
    "reversed = sentence[::-1]\n",
    "print(reversed)"
   ]
  },
  {
   "cell_type": "code",
   "execution_count": 3,
   "id": "bf824713",
   "metadata": {},
   "outputs": [
    {
     "name": "stdout",
     "output_type": "stream",
     "text": [
      "True\n"
     ]
    }
   ],
   "source": [
    "# 2. Mathematical Comparison Chains\n",
    "x = 100\n",
    "res = 1 < x < 200\n",
    "print(res)"
   ]
  },
  {
   "cell_type": "code",
   "execution_count": 4,
   "id": "6ca1b0d2",
   "metadata": {},
   "outputs": [],
   "source": [
    "# 3. Simplify If Statement Comparisons\n",
    "#if n == 0 or n == 1 or n == 2 or n == 3 or n == 4 or n == 5:\n",
    "n = 3\n",
    "if n in [0, 1, 2, 3, 4, 5]:\n",
    "    pass"
   ]
  },
  {
   "cell_type": "code",
   "execution_count": 5,
   "id": "cfc1c198",
   "metadata": {},
   "outputs": [
    {
     "name": "stdout",
     "output_type": "stream",
     "text": [
      "[1, 4, 9, 16, 25]\n"
     ]
    }
   ],
   "source": [
    "# 4. One-Liner For Loops\n",
    "numbers = [1, 2, 3, 4, 5]\n",
    "squared_numbers = [n*n for n in numbers]\n",
    "\n",
    "print(squared_numbers)"
   ]
  },
  {
   "cell_type": "code",
   "execution_count": 6,
   "id": "c068238b",
   "metadata": {},
   "outputs": [
    {
     "name": "stdout",
     "output_type": "stream",
     "text": [
      "Adult\n"
     ]
    }
   ],
   "source": [
    "# 5. One-Liner If-Else Statements\n",
    "age = 30\n",
    "age_group = \"Adult\" if age > 18 else \"Child\"\n",
    "print(age_group)"
   ]
  },
  {
   "cell_type": "code",
   "execution_count": 7,
   "id": "013befe0",
   "metadata": {},
   "outputs": [
    {
     "name": "stdout",
     "output_type": "stream",
     "text": [
      "This is a Test\n"
     ]
    }
   ],
   "source": [
    "# 6. List of Strings to a String\n",
    "words = [\"This\", \"is\", \"a\", \"Test\"]\n",
    "combined = \" \".join(words)\n",
    "print(combined)"
   ]
  },
  {
   "cell_type": "code",
   "execution_count": 9,
   "id": "96400040",
   "metadata": {},
   "outputs": [
    {
     "name": "stdout",
     "output_type": "stream",
     "text": [
      "2\n",
      "2\n"
     ]
    }
   ],
   "source": [
    "# 7. Most Frequent Element in a List\n",
    "numbers = [6, 2, 2, 3, 4, 2, 2, 90, 2, 41]\n",
    "most_frequent = max(set(numbers), key = numbers.count)\n",
    "print(most_frequent)\n",
    "# max(...)\n",
    "#    max(iterable, *[, default=obj, key=func]) -> value\n",
    "#    max(arg1, arg2, *args, *[, key=func]) -> value\n",
    "\n",
    "# another way\n",
    "import statistics\n",
    "numbers = [6, 2, 2, 3, 4, 2, 2, 90, 2, 41]\n",
    "\n",
    "most_frequent = statistics.mode(numbers)\n",
    "print(most_frequent)"
   ]
  },
  {
   "cell_type": "code",
   "execution_count": 12,
   "id": "4d03a1b2",
   "metadata": {},
   "outputs": [],
   "source": [
    "# 8. Assignment\n",
    "x = y = z = 2\n",
    "x, y, z = 2, 4, 8\n",
    "x, *y, z = 2, 4, 8, 16"
   ]
  },
  {
   "cell_type": "code",
   "execution_count": 10,
   "id": "f7c56d64",
   "metadata": {},
   "outputs": [
    {
     "name": "stdout",
     "output_type": "stream",
     "text": [
      "Python This ... \n"
     ]
    }
   ],
   "source": [
    "# 9. dict get(key, value)\n",
    "s = '''Clguba Guvf ... '''\n",
    "d = {}\n",
    "for c in (65, 97):\n",
    "    for i in range(26):\n",
    "        d[chr(i+c)] = chr((i+13) % 26 + c)\n",
    "\n",
    "print(\"\".join([d.get(c, c) for c in s]))\n",
    "# get(c,c) if c is in s return value, else return c ***  "
   ]
  },
  {
   "cell_type": "code",
   "execution_count": 11,
   "id": "36d130ab",
   "metadata": {},
   "outputs": [
    {
     "name": "stdout",
     "output_type": "stream",
     "text": [
      "True\n",
      "False\n"
     ]
    }
   ],
   "source": [
    "# 10. Checking if two words are anagrams\n",
    "from collections import Counter\n",
    "def is_anagram(str1, str2):\n",
    "\treturn Counter(str1) == Counter(str2)\n",
    "\n",
    "# or without having to import anything\n",
    "def is_anagram(str1, str2):\n",
    "\treturn sorted(str1) == sorted(str2)\n",
    "\n",
    "print(is_anagram('geek', 'eegk'))\n",
    "print(is_anagram('geek', 'peek'))\t\n"
   ]
  },
  {
   "cell_type": "code",
   "execution_count": 13,
   "id": "6fb1f396",
   "metadata": {},
   "outputs": [
    {
     "data": {
      "text/plain": [
       "{'u': 1, 'v': 2, 'w': 4}"
      ]
     },
     "execution_count": 13,
     "metadata": {},
     "output_type": "execute_result"
    }
   ],
   "source": [
    "# 11. Merge Dictionaries\n",
    ">>> x = {'u': 1}\n",
    ">>> y = {'v': 2}\n",
    ">>> z = {**x, **y, 'w': 4}\n",
    ">>> z"
   ]
  },
  {
   "cell_type": "code",
   "execution_count": 15,
   "id": "f86e09d4",
   "metadata": {},
   "outputs": [
    {
     "data": {
      "text/plain": [
       "3"
      ]
     },
     "execution_count": 15,
     "metadata": {},
     "output_type": "execute_result"
    }
   ],
   "source": [
    "# 12 Obtain the Index of the Maximal (or Minimal) Element\n",
    ">>> x = [2, 1, 4, 16, 8]\n",
    ">>> max(range(len(x)), key=lambda i: x[i])\n",
    "\n",
    ">>> y = [2, 1, 4, 8, 8]\n",
    ">>> max(range(len(y)), key=lambda i: x[i])\n"
   ]
  },
  {
   "cell_type": "code",
   "execution_count": 16,
   "id": "14661780",
   "metadata": {},
   "outputs": [
    {
     "data": {
      "text/plain": [
       "[('u', 4), ('w', 2), ('v', 1)]"
      ]
     },
     "execution_count": 16,
     "metadata": {},
     "output_type": "execute_result"
    }
   ],
   "source": [
    "# 15. Sort Dictionaries\n",
    ">>> x = {'u': 4, 'w': 2, 'v': 1}\n",
    ">>> sorted(x.items())\n",
    "[('u', 4), ('v', 1), ('w', 2)]\n",
    "\n",
    ">>> sorted(x.items(), key=lambda item: item[1])\n",
    "[('v', 1), ('w', 2), ('u', 4)]\n",
    ">>> sorted(x.items(), key=lambda item: item[1], reverse=True)\n",
    "[('u', 4), ('w', 2), ('v', 1)]"
   ]
  },
  {
   "cell_type": "code",
   "execution_count": null,
   "id": "fb13c183",
   "metadata": {},
   "outputs": [],
   "source": []
  }
 ],
 "metadata": {
  "kernelspec": {
   "display_name": "Python 3",
   "language": "python",
   "name": "python3"
  },
  "language_info": {
   "codemirror_mode": {
    "name": "ipython",
    "version": 3
   },
   "file_extension": ".py",
   "mimetype": "text/x-python",
   "name": "python",
   "nbconvert_exporter": "python",
   "pygments_lexer": "ipython3",
   "version": "3.8.8"
  }
 },
 "nbformat": 4,
 "nbformat_minor": 5
}
