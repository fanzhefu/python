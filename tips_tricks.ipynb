{
 "cells": [
  {
   "cell_type": "code",
   "execution_count": 1,
   "id": "af818c6a",
   "metadata": {},
   "outputs": [
    {
     "name": "stdout",
     "output_type": "stream",
     "text": [
      "1 2 3\n"
     ]
    }
   ],
   "source": [
    "# 0. Exctract List to Variables\n",
    "arr = [1, 2, 3]\n",
    "a, b, c = arr\n",
    "print(a, b, c)"
   ]
  },
  {
   "cell_type": "code",
   "execution_count": 2,
   "id": "68e16dc1",
   "metadata": {},
   "outputs": [
    {
     "name": "stdout",
     "output_type": "stream",
     "text": [
      "tset a tsuj si sihT\n"
     ]
    }
   ],
   "source": [
    "# 1. Reverse a String\n",
    "sentence = \"This is just a test\"\n",
    "reversed = sentence[::-1]\n",
    "print(reversed)"
   ]
  },
  {
   "cell_type": "code",
   "execution_count": 3,
   "id": "5c65396b",
   "metadata": {},
   "outputs": [
    {
     "name": "stdout",
     "output_type": "stream",
     "text": [
      "True\n"
     ]
    }
   ],
   "source": [
    "# 2. Mathematical Comparison Chains\n",
    "x = 100\n",
    "res = 1 < x < 200\n",
    "print(res)"
   ]
  },
  {
   "cell_type": "code",
   "execution_count": 4,
   "id": "202a9891",
   "metadata": {},
   "outputs": [],
   "source": [
    "# 3. Simplify If Statement Comparisons\n",
    "#if n == 0 or n == 1 or n == 2 or n == 3 or n == 4 or n == 5:\n",
    "n = 3\n",
    "if n in [0, 1, 2, 3, 4, 5]:\n",
    "    pass"
   ]
  },
  {
   "cell_type": "code",
   "execution_count": 5,
   "id": "1096598d",
   "metadata": {},
   "outputs": [
    {
     "name": "stdout",
     "output_type": "stream",
     "text": [
      "[1, 4, 9, 16, 25]\n"
     ]
    }
   ],
   "source": [
    "# 4. One-Liner For Loops\n",
    "numbers = [1, 2, 3, 4, 5]\n",
    "squared_numbers = [n*n for n in numbers]\n",
    "\n",
    "print(squared_numbers)"
   ]
  },
  {
   "cell_type": "code",
   "execution_count": 6,
   "id": "3af49f04",
   "metadata": {},
   "outputs": [
    {
     "name": "stdout",
     "output_type": "stream",
     "text": [
      "Adult\n"
     ]
    }
   ],
   "source": [
    "# 5. One-Liner If-Else Statements\n",
    "age = 30\n",
    "age_group = \"Adult\" if age > 18 else \"Child\"\n",
    "print(age_group)"
   ]
  },
  {
   "cell_type": "code",
   "execution_count": 7,
   "id": "00e9369c",
   "metadata": {},
   "outputs": [
    {
     "name": "stdout",
     "output_type": "stream",
     "text": [
      "This is a Test\n"
     ]
    }
   ],
   "source": [
    "# 6. List of Strings to a String\n",
    "words = [\"This\", \"is\", \"a\", \"Test\"]\n",
    "combined = \" \".join(words)\n",
    "print(combined)"
   ]
  },
  {
   "cell_type": "code",
   "execution_count": 8,
   "id": "46c964e4",
   "metadata": {},
   "outputs": [
    {
     "name": "stdout",
     "output_type": "stream",
     "text": [
      "2\n",
      "2\n"
     ]
    }
   ],
   "source": [
    "# 7. Most Frequent Element in a List\n",
    "numbers = [6, 2, 2, 3, 4, 2, 2, 90, 2, 41]\n",
    "most_frequent = max(set(numbers), key = numbers.count)\n",
    "print(most_frequent)\n",
    "# max(...)\n",
    "#    max(iterable, *[, default=obj, key=func]) -> value\n",
    "#    max(arg1, arg2, *args, *[, key=func]) -> value\n",
    "\n",
    "# another way\n",
    "import statistics\n",
    "numbers = [6, 2, 2, 3, 4, 2, 2, 90, 2, 41]\n",
    "\n",
    "most_frequent = statistics.mode(numbers)\n",
    "print(most_frequent)"
   ]
  },
  {
   "cell_type": "code",
   "execution_count": 9,
   "id": "8b9e75a0",
   "metadata": {},
   "outputs": [],
   "source": [
    "# 8. Assignment\n",
    "x = y = z = 2\n",
    "x, y, z = 2, 4, 8\n",
    "x, *y, z = 2, 4, 8, 16"
   ]
  },
  {
   "cell_type": "code",
   "execution_count": 10,
   "id": "418adbb1",
   "metadata": {},
   "outputs": [
    {
     "name": "stdout",
     "output_type": "stream",
     "text": [
      "Python This ... \n"
     ]
    }
   ],
   "source": [
    "# 9. dict get(key, value)\n",
    "s = '''Clguba Guvf ... '''\n",
    "d = {}\n",
    "for c in (65, 97):\n",
    "    for i in range(26):\n",
    "        d[chr(i+c)] = chr((i+13) % 26 + c)\n",
    "\n",
    "print(\"\".join([d.get(c, c) for c in s]))\n",
    "# get(c,c) if c is in s return value, else return c ***  "
   ]
  },
  {
   "cell_type": "code",
   "execution_count": 11,
   "id": "4804941d",
   "metadata": {},
   "outputs": [
    {
     "name": "stdout",
     "output_type": "stream",
     "text": [
      "True\n",
      "False\n"
     ]
    }
   ],
   "source": [
    "# 10. Checking if two words are anagrams\n",
    "from collections import Counter\n",
    "def is_anagram(str1, str2):\n",
    "\treturn Counter(str1) == Counter(str2)\n",
    "\n",
    "# or without having to import anything\n",
    "def is_anagram(str1, str2):\n",
    "\treturn sorted(str1) == sorted(str2)\n",
    "\n",
    "print(is_anagram('geek', 'eegk'))\n",
    "print(is_anagram('geek', 'peek'))\t\n"
   ]
  },
  {
   "cell_type": "code",
   "execution_count": 12,
   "id": "bf3f5414",
   "metadata": {},
   "outputs": [
    {
     "data": {
      "text/plain": [
       "{'u': 1, 'v': 2, 'w': 4}"
      ]
     },
     "execution_count": 12,
     "metadata": {},
     "output_type": "execute_result"
    }
   ],
   "source": [
    "# 11. Merge Dictionaries\n",
    ">>> x = {'u': 1}\n",
    ">>> y = {'v': 2}\n",
    ">>> z = {**x, **y, 'w': 4}\n",
    ">>> z"
   ]
  },
  {
   "cell_type": "code",
   "execution_count": 13,
   "id": "15114b4b",
   "metadata": {},
   "outputs": [
    {
     "data": {
      "text/plain": [
       "3"
      ]
     },
     "execution_count": 13,
     "metadata": {},
     "output_type": "execute_result"
    }
   ],
   "source": [
    "# 12 Obtain the Index of the Maximal (or Minimal) Element\n",
    ">>> x = [2, 1, 4, 16, 8]\n",
    ">>> max(range(len(x)), key=lambda i: x[i])\n",
    "\n",
    ">>> y = [2, 1, 4, 8, 8]\n",
    ">>> max(range(len(y)), key=lambda i: x[i])\n"
   ]
  },
  {
   "cell_type": "code",
   "execution_count": 14,
   "id": "d1cb0c9a",
   "metadata": {},
   "outputs": [
    {
     "data": {
      "text/plain": [
       "[('u', 4), ('w', 2), ('v', 1)]"
      ]
     },
     "execution_count": 14,
     "metadata": {},
     "output_type": "execute_result"
    }
   ],
   "source": [
    "# 15. Sort Dictionaries\n",
    ">>> x = {'u': 4, 'w': 2, 'v': 1}\n",
    ">>> sorted(x.items())\n",
    "[('u', 4), ('v', 1), ('w', 2)]\n",
    "\n",
    ">>> sorted(x.items(), key=lambda item: item[1])\n",
    "[('v', 1), ('w', 2), ('u', 4)]\n",
    ">>> sorted(x.items(), key=lambda item: item[1], reverse=True)\n",
    "[('u', 4), ('w', 2), ('v', 1)]"
   ]
  },
  {
   "cell_type": "code",
   "execution_count": 15,
   "id": "f0bf3047",
   "metadata": {},
   "outputs": [
    {
     "name": "stdout",
     "output_type": "stream",
     "text": [
      "55\n"
     ]
    }
   ],
   "source": [
    "# Fibonacci series\n",
    "fibo = lambda n : n if n <= 1 else fibo(n-1) + fibo(n-2)\n",
    "print(fibo(10))"
   ]
  },
  {
   "cell_type": "code",
   "execution_count": 16,
   "id": "56ca99df",
   "metadata": {},
   "outputs": [],
   "source": [
    "import functools\n",
    "@functools.lru_cache(maxsize=128)\n",
    "def fibo(n):\n",
    "    if n == 0:\n",
    "        return 0\n",
    "    elif n == 1:\n",
    "        return 1\n",
    "    return fibo(n - 1) + fibo(n - 2)"
   ]
  },
  {
   "cell_type": "code",
   "execution_count": 17,
   "id": "0f334465",
   "metadata": {},
   "outputs": [
    {
     "data": {
      "text/plain": [
       "43466557686937456435688527675040625802564660517371780402481729089536555417949051890403879840079255169295922593080322634775209689623239873322471161642996440906533187938298969649928516003704476137795166849228875"
      ]
     },
     "execution_count": 17,
     "metadata": {},
     "output_type": "execute_result"
    }
   ],
   "source": [
    "n=1000\n",
    "fibo(n)"
   ]
  },
  {
   "cell_type": "code",
   "execution_count": 18,
   "id": "0cb58d3b",
   "metadata": {},
   "outputs": [
    {
     "data": {
      "text/plain": [
       "[0, 2, 6, 12, 20]"
      ]
     },
     "execution_count": 18,
     "metadata": {},
     "output_type": "execute_result"
    }
   ],
   "source": [
    "# Cumulative summing a sequence of numbers (calculating the cumulative sum of zero to ten with skips).\n",
    "import numpy as np\n",
    "res = list(np.cumsum(range(0,10,2)))\n",
    "res\n"
   ]
  },
  {
   "cell_type": "code",
   "execution_count": 19,
   "id": "d552e2a4",
   "metadata": {},
   "outputs": [
    {
     "data": {
      "text/plain": [
       "[(0, 'Hello'), (1, 'world'), (2, '!')]"
      ]
     },
     "execution_count": 19,
     "metadata": {},
     "output_type": "execute_result"
    }
   ],
   "source": [
    "# Given each iterable we construct a tuple by adding an index.\n",
    "a = ['Hello', 'world', '!']\n",
    "list(enumerate(a))"
   ]
  },
  {
   "cell_type": "code",
   "execution_count": 20,
   "id": "fb24e3c8",
   "metadata": {},
   "outputs": [
    {
     "name": "stdout",
     "output_type": "stream",
     "text": [
      "(1, 'a')\n",
      "(2, 'b')\n",
      "(3, 'c')\n"
     ]
    }
   ],
   "source": [
    "# Combining two iterables\n",
    ">>> a = [1, 2, 3]\n",
    ">>> b = ['a', 'b', 'c']\n",
    ">>> z = zip(a, b)\n",
    ">>> for i in z:print(i)"
   ]
  },
  {
   "cell_type": "code",
   "execution_count": 21,
   "id": "85118d04",
   "metadata": {},
   "outputs": [
    {
     "data": {
      "text/plain": [
       "[(1, 2, 3), ('a', 'b', 'c')]"
      ]
     },
     "execution_count": 21,
     "metadata": {},
     "output_type": "execute_result"
    }
   ],
   "source": [
    "# Pivoting list of tuples\n",
    ">>> zip(*z)\n",
    "[(1, 2, 3), ('a', 'b', 'c')]"
   ]
  },
  {
   "cell_type": "code",
   "execution_count": 22,
   "id": "75e2aaac",
   "metadata": {},
   "outputs": [
    {
     "data": {
      "text/plain": [
       "[3, 4, 5]"
      ]
     },
     "execution_count": 22,
     "metadata": {},
     "output_type": "execute_result"
    }
   ],
   "source": [
    "# Naming slices (slice(start, end, step))\n",
    ">>> a = [0, 1, 2, 3, 4, 5]\n",
    ">>> LASTTHREE = slice(-3, None)\n",
    ">>> LASTTHREE\n",
    "# slice(-3, None, None)\n",
    ">>> a[LASTTHREE]\n"
   ]
  },
  {
   "cell_type": "code",
   "execution_count": 23,
   "id": "3f047182",
   "metadata": {},
   "outputs": [
    {
     "data": {
      "text/plain": [
       "1"
      ]
     },
     "execution_count": 23,
     "metadata": {},
     "output_type": "execute_result"
    }
   ],
   "source": [
    ">>> a = [\"foo\", \"bar\", \"baz\"]\n",
    ">>> a.index(\"bar\")"
   ]
  },
  {
   "cell_type": "code",
   "execution_count": 24,
   "id": "c28cc1c8",
   "metadata": {},
   "outputs": [
    {
     "name": "stdout",
     "output_type": "stream",
     "text": [
      "[1, 2, 3, 4]\n",
      "[4, 1, 2, 3]\n",
      "[3, 4, 1, 2]\n",
      "[2, 3, 4, 1]\n"
     ]
    }
   ],
   "source": [
    "# Rotating iterable by k elements.\n",
    "a = [1, 2, 3, 4]\n",
    "for k in range(len(a)):\n",
    "    print(a[-k:] + a[:-k])\n"
   ]
  },
  {
   "cell_type": "code",
   "execution_count": 25,
   "id": "cc82a624",
   "metadata": {},
   "outputs": [
    {
     "name": "stdout",
     "output_type": "stream",
     "text": [
      "Exception occured\n",
      "Always gets here\n"
     ]
    }
   ],
   "source": [
    "# Try-catch-else construct.\n",
    "try:\n",
    "  foo() \n",
    "except Exception: \n",
    "  print(\"Exception occured\")\n",
    "else:\n",
    "  print(\"Exception didnt occur\")\n",
    "finally:\n",
    "  print(\"Always gets here\")"
   ]
  },
  {
   "cell_type": "markdown",
   "id": "cfeeb3ef",
   "metadata": {},
   "source": [
    "### Python Itertools tricks"
   ]
  },
  {
   "cell_type": "code",
   "execution_count": 26,
   "id": "99999e20",
   "metadata": {},
   "outputs": [
    {
     "data": {
      "text/plain": [
       "[1, 2, 3, 4, 5, 6]"
      ]
     },
     "execution_count": 26,
     "metadata": {},
     "output_type": "execute_result"
    }
   ],
   "source": [
    "#Flatten iterables.\n",
    "import itertools\n",
    "a = [[1, 2], [3, 4], [5, 6]]\n",
    "list(itertools.chain.from_iterable(a))"
   ]
  },
  {
   "cell_type": "code",
   "execution_count": 27,
   "id": "7cbd9165",
   "metadata": {},
   "outputs": [
    {
     "name": "stdout",
     "output_type": "stream",
     "text": [
      "1,4\n",
      "1,5\n",
      "2,4\n",
      "2,5\n",
      "3,4\n",
      "3,5\n"
     ]
    }
   ],
   "source": [
    "# Creating cartesian products from iterables.\n",
    "for p in itertools.product([1, 2, 3], [4, 5]):\n",
    "    print(','.join(str(x) for x in p))"
   ]
  },
  {
   "cell_type": "code",
   "execution_count": 28,
   "id": "62b50583",
   "metadata": {},
   "outputs": [
    {
     "name": "stdout",
     "output_type": "stream",
     "text": [
      "1 2 3 4\n",
      "1 2 4 3\n",
      "1 3 2 4\n",
      "1 3 4 2\n",
      "1 4 2 3\n",
      "1 4 3 2\n",
      "2 1 3 4\n",
      "2 1 4 3\n",
      "2 3 1 4\n",
      "2 3 4 1\n",
      "2 4 1 3\n",
      "2 4 3 1\n",
      "3 1 2 4\n",
      "3 1 4 2\n",
      "3 2 1 4\n",
      "3 2 4 1\n",
      "3 4 1 2\n",
      "3 4 2 1\n",
      "4 1 2 3\n",
      "4 1 3 2\n",
      "4 2 1 3\n",
      "4 2 3 1\n",
      "4 3 1 2\n",
      "4 3 2 1\n"
     ]
    }
   ],
   "source": [
    "for p in itertools.permutations([1, 2, 3, 4]):\n",
    "      print(' '.join(str(x) for x in p))"
   ]
  },
  {
   "cell_type": "code",
   "execution_count": 29,
   "id": "82e407f6",
   "metadata": {},
   "outputs": [
    {
     "data": {
      "text/plain": [
       "[(20, 20, 20),\n",
       " (20, 20, 10),\n",
       " (20, 20, 10),\n",
       " (20, 20, 10),\n",
       " (20, 20, 10),\n",
       " (20, 20, 10),\n",
       " (20, 20, 5),\n",
       " (20, 20, 5),\n",
       " (20, 20, 1),\n",
       " (20, 20, 1),\n",
       " (20, 20, 1),\n",
       " (20, 20, 1),\n",
       " (20, 20, 1),\n",
       " (20, 20, 10),\n",
       " (20, 20, 10),\n",
       " (20, 20, 10),\n",
       " (20, 20, 10),\n",
       " (20, 20, 10),\n",
       " (20, 20, 5),\n",
       " (20, 20, 5),\n",
       " (20, 20, 1),\n",
       " (20, 20, 1),\n",
       " (20, 20, 1),\n",
       " (20, 20, 1),\n",
       " (20, 20, 1),\n",
       " (20, 10, 10),\n",
       " (20, 10, 10),\n",
       " (20, 10, 10),\n",
       " (20, 10, 10),\n",
       " (20, 10, 5),\n",
       " (20, 10, 5),\n",
       " (20, 10, 1),\n",
       " (20, 10, 1),\n",
       " (20, 10, 1),\n",
       " (20, 10, 1),\n",
       " (20, 10, 1),\n",
       " (20, 10, 10),\n",
       " (20, 10, 10),\n",
       " (20, 10, 10),\n",
       " (20, 10, 5),\n",
       " (20, 10, 5),\n",
       " (20, 10, 1),\n",
       " (20, 10, 1),\n",
       " (20, 10, 1),\n",
       " (20, 10, 1),\n",
       " (20, 10, 1),\n",
       " (20, 10, 10),\n",
       " (20, 10, 10),\n",
       " (20, 10, 5),\n",
       " (20, 10, 5),\n",
       " (20, 10, 1),\n",
       " (20, 10, 1),\n",
       " (20, 10, 1),\n",
       " (20, 10, 1),\n",
       " (20, 10, 1),\n",
       " (20, 10, 10),\n",
       " (20, 10, 5),\n",
       " (20, 10, 5),\n",
       " (20, 10, 1),\n",
       " (20, 10, 1),\n",
       " (20, 10, 1),\n",
       " (20, 10, 1),\n",
       " (20, 10, 1),\n",
       " (20, 10, 5),\n",
       " (20, 10, 5),\n",
       " (20, 10, 1),\n",
       " (20, 10, 1),\n",
       " (20, 10, 1),\n",
       " (20, 10, 1),\n",
       " (20, 10, 1),\n",
       " (20, 5, 5),\n",
       " (20, 5, 1),\n",
       " (20, 5, 1),\n",
       " (20, 5, 1),\n",
       " (20, 5, 1),\n",
       " (20, 5, 1),\n",
       " (20, 5, 1),\n",
       " (20, 5, 1),\n",
       " (20, 5, 1),\n",
       " (20, 5, 1),\n",
       " (20, 5, 1),\n",
       " (20, 1, 1),\n",
       " (20, 1, 1),\n",
       " (20, 1, 1),\n",
       " (20, 1, 1),\n",
       " (20, 1, 1),\n",
       " (20, 1, 1),\n",
       " (20, 1, 1),\n",
       " (20, 1, 1),\n",
       " (20, 1, 1),\n",
       " (20, 1, 1),\n",
       " (20, 20, 10),\n",
       " (20, 20, 10),\n",
       " (20, 20, 10),\n",
       " (20, 20, 10),\n",
       " (20, 20, 10),\n",
       " (20, 20, 5),\n",
       " (20, 20, 5),\n",
       " (20, 20, 1),\n",
       " (20, 20, 1),\n",
       " (20, 20, 1),\n",
       " (20, 20, 1),\n",
       " (20, 20, 1),\n",
       " (20, 10, 10),\n",
       " (20, 10, 10),\n",
       " (20, 10, 10),\n",
       " (20, 10, 10),\n",
       " (20, 10, 5),\n",
       " (20, 10, 5),\n",
       " (20, 10, 1),\n",
       " (20, 10, 1),\n",
       " (20, 10, 1),\n",
       " (20, 10, 1),\n",
       " (20, 10, 1),\n",
       " (20, 10, 10),\n",
       " (20, 10, 10),\n",
       " (20, 10, 10),\n",
       " (20, 10, 5),\n",
       " (20, 10, 5),\n",
       " (20, 10, 1),\n",
       " (20, 10, 1),\n",
       " (20, 10, 1),\n",
       " (20, 10, 1),\n",
       " (20, 10, 1),\n",
       " (20, 10, 10),\n",
       " (20, 10, 10),\n",
       " (20, 10, 5),\n",
       " (20, 10, 5),\n",
       " (20, 10, 1),\n",
       " (20, 10, 1),\n",
       " (20, 10, 1),\n",
       " (20, 10, 1),\n",
       " (20, 10, 1),\n",
       " (20, 10, 10),\n",
       " (20, 10, 5),\n",
       " (20, 10, 5),\n",
       " (20, 10, 1),\n",
       " (20, 10, 1),\n",
       " (20, 10, 1),\n",
       " (20, 10, 1),\n",
       " (20, 10, 1),\n",
       " (20, 10, 5),\n",
       " (20, 10, 5),\n",
       " (20, 10, 1),\n",
       " (20, 10, 1),\n",
       " (20, 10, 1),\n",
       " (20, 10, 1),\n",
       " (20, 10, 1),\n",
       " (20, 5, 5),\n",
       " (20, 5, 1),\n",
       " (20, 5, 1),\n",
       " (20, 5, 1),\n",
       " (20, 5, 1),\n",
       " (20, 5, 1),\n",
       " (20, 5, 1),\n",
       " (20, 5, 1),\n",
       " (20, 5, 1),\n",
       " (20, 5, 1),\n",
       " (20, 5, 1),\n",
       " (20, 1, 1),\n",
       " (20, 1, 1),\n",
       " (20, 1, 1),\n",
       " (20, 1, 1),\n",
       " (20, 1, 1),\n",
       " (20, 1, 1),\n",
       " (20, 1, 1),\n",
       " (20, 1, 1),\n",
       " (20, 1, 1),\n",
       " (20, 1, 1),\n",
       " (20, 10, 10),\n",
       " (20, 10, 10),\n",
       " (20, 10, 10),\n",
       " (20, 10, 10),\n",
       " (20, 10, 5),\n",
       " (20, 10, 5),\n",
       " (20, 10, 1),\n",
       " (20, 10, 1),\n",
       " (20, 10, 1),\n",
       " (20, 10, 1),\n",
       " (20, 10, 1),\n",
       " (20, 10, 10),\n",
       " (20, 10, 10),\n",
       " (20, 10, 10),\n",
       " (20, 10, 5),\n",
       " (20, 10, 5),\n",
       " (20, 10, 1),\n",
       " (20, 10, 1),\n",
       " (20, 10, 1),\n",
       " (20, 10, 1),\n",
       " (20, 10, 1),\n",
       " (20, 10, 10),\n",
       " (20, 10, 10),\n",
       " (20, 10, 5),\n",
       " (20, 10, 5),\n",
       " (20, 10, 1),\n",
       " (20, 10, 1),\n",
       " (20, 10, 1),\n",
       " (20, 10, 1),\n",
       " (20, 10, 1),\n",
       " (20, 10, 10),\n",
       " (20, 10, 5),\n",
       " (20, 10, 5),\n",
       " (20, 10, 1),\n",
       " (20, 10, 1),\n",
       " (20, 10, 1),\n",
       " (20, 10, 1),\n",
       " (20, 10, 1),\n",
       " (20, 10, 5),\n",
       " (20, 10, 5),\n",
       " (20, 10, 1),\n",
       " (20, 10, 1),\n",
       " (20, 10, 1),\n",
       " (20, 10, 1),\n",
       " (20, 10, 1),\n",
       " (20, 5, 5),\n",
       " (20, 5, 1),\n",
       " (20, 5, 1),\n",
       " (20, 5, 1),\n",
       " (20, 5, 1),\n",
       " (20, 5, 1),\n",
       " (20, 5, 1),\n",
       " (20, 5, 1),\n",
       " (20, 5, 1),\n",
       " (20, 5, 1),\n",
       " (20, 5, 1),\n",
       " (20, 1, 1),\n",
       " (20, 1, 1),\n",
       " (20, 1, 1),\n",
       " (20, 1, 1),\n",
       " (20, 1, 1),\n",
       " (20, 1, 1),\n",
       " (20, 1, 1),\n",
       " (20, 1, 1),\n",
       " (20, 1, 1),\n",
       " (20, 1, 1),\n",
       " (10, 10, 10),\n",
       " (10, 10, 10),\n",
       " (10, 10, 10),\n",
       " (10, 10, 5),\n",
       " (10, 10, 5),\n",
       " (10, 10, 1),\n",
       " (10, 10, 1),\n",
       " (10, 10, 1),\n",
       " (10, 10, 1),\n",
       " (10, 10, 1),\n",
       " (10, 10, 10),\n",
       " (10, 10, 10),\n",
       " (10, 10, 5),\n",
       " (10, 10, 5),\n",
       " (10, 10, 1),\n",
       " (10, 10, 1),\n",
       " (10, 10, 1),\n",
       " (10, 10, 1),\n",
       " (10, 10, 1),\n",
       " (10, 10, 10),\n",
       " (10, 10, 5),\n",
       " (10, 10, 5),\n",
       " (10, 10, 1),\n",
       " (10, 10, 1),\n",
       " (10, 10, 1),\n",
       " (10, 10, 1),\n",
       " (10, 10, 1),\n",
       " (10, 10, 5),\n",
       " (10, 10, 5),\n",
       " (10, 10, 1),\n",
       " (10, 10, 1),\n",
       " (10, 10, 1),\n",
       " (10, 10, 1),\n",
       " (10, 10, 1),\n",
       " (10, 5, 5),\n",
       " (10, 5, 1),\n",
       " (10, 5, 1),\n",
       " (10, 5, 1),\n",
       " (10, 5, 1),\n",
       " (10, 5, 1),\n",
       " (10, 5, 1),\n",
       " (10, 5, 1),\n",
       " (10, 5, 1),\n",
       " (10, 5, 1),\n",
       " (10, 5, 1),\n",
       " (10, 1, 1),\n",
       " (10, 1, 1),\n",
       " (10, 1, 1),\n",
       " (10, 1, 1),\n",
       " (10, 1, 1),\n",
       " (10, 1, 1),\n",
       " (10, 1, 1),\n",
       " (10, 1, 1),\n",
       " (10, 1, 1),\n",
       " (10, 1, 1),\n",
       " (10, 10, 10),\n",
       " (10, 10, 10),\n",
       " (10, 10, 5),\n",
       " (10, 10, 5),\n",
       " (10, 10, 1),\n",
       " (10, 10, 1),\n",
       " (10, 10, 1),\n",
       " (10, 10, 1),\n",
       " (10, 10, 1),\n",
       " (10, 10, 10),\n",
       " (10, 10, 5),\n",
       " (10, 10, 5),\n",
       " (10, 10, 1),\n",
       " (10, 10, 1),\n",
       " (10, 10, 1),\n",
       " (10, 10, 1),\n",
       " (10, 10, 1),\n",
       " (10, 10, 5),\n",
       " (10, 10, 5),\n",
       " (10, 10, 1),\n",
       " (10, 10, 1),\n",
       " (10, 10, 1),\n",
       " (10, 10, 1),\n",
       " (10, 10, 1),\n",
       " (10, 5, 5),\n",
       " (10, 5, 1),\n",
       " (10, 5, 1),\n",
       " (10, 5, 1),\n",
       " (10, 5, 1),\n",
       " (10, 5, 1),\n",
       " (10, 5, 1),\n",
       " (10, 5, 1),\n",
       " (10, 5, 1),\n",
       " (10, 5, 1),\n",
       " (10, 5, 1),\n",
       " (10, 1, 1),\n",
       " (10, 1, 1),\n",
       " (10, 1, 1),\n",
       " (10, 1, 1),\n",
       " (10, 1, 1),\n",
       " (10, 1, 1),\n",
       " (10, 1, 1),\n",
       " (10, 1, 1),\n",
       " (10, 1, 1),\n",
       " (10, 1, 1),\n",
       " (10, 10, 10),\n",
       " (10, 10, 5),\n",
       " (10, 10, 5),\n",
       " (10, 10, 1),\n",
       " (10, 10, 1),\n",
       " (10, 10, 1),\n",
       " (10, 10, 1),\n",
       " (10, 10, 1),\n",
       " (10, 10, 5),\n",
       " (10, 10, 5),\n",
       " (10, 10, 1),\n",
       " (10, 10, 1),\n",
       " (10, 10, 1),\n",
       " (10, 10, 1),\n",
       " (10, 10, 1),\n",
       " (10, 5, 5),\n",
       " (10, 5, 1),\n",
       " (10, 5, 1),\n",
       " (10, 5, 1),\n",
       " (10, 5, 1),\n",
       " (10, 5, 1),\n",
       " (10, 5, 1),\n",
       " (10, 5, 1),\n",
       " (10, 5, 1),\n",
       " (10, 5, 1),\n",
       " (10, 5, 1),\n",
       " (10, 1, 1),\n",
       " (10, 1, 1),\n",
       " (10, 1, 1),\n",
       " (10, 1, 1),\n",
       " (10, 1, 1),\n",
       " (10, 1, 1),\n",
       " (10, 1, 1),\n",
       " (10, 1, 1),\n",
       " (10, 1, 1),\n",
       " (10, 1, 1),\n",
       " (10, 10, 5),\n",
       " (10, 10, 5),\n",
       " (10, 10, 1),\n",
       " (10, 10, 1),\n",
       " (10, 10, 1),\n",
       " (10, 10, 1),\n",
       " (10, 10, 1),\n",
       " (10, 5, 5),\n",
       " (10, 5, 1),\n",
       " (10, 5, 1),\n",
       " (10, 5, 1),\n",
       " (10, 5, 1),\n",
       " (10, 5, 1),\n",
       " (10, 5, 1),\n",
       " (10, 5, 1),\n",
       " (10, 5, 1),\n",
       " (10, 5, 1),\n",
       " (10, 5, 1),\n",
       " (10, 1, 1),\n",
       " (10, 1, 1),\n",
       " (10, 1, 1),\n",
       " (10, 1, 1),\n",
       " (10, 1, 1),\n",
       " (10, 1, 1),\n",
       " (10, 1, 1),\n",
       " (10, 1, 1),\n",
       " (10, 1, 1),\n",
       " (10, 1, 1),\n",
       " (10, 5, 5),\n",
       " (10, 5, 1),\n",
       " (10, 5, 1),\n",
       " (10, 5, 1),\n",
       " (10, 5, 1),\n",
       " (10, 5, 1),\n",
       " (10, 5, 1),\n",
       " (10, 5, 1),\n",
       " (10, 5, 1),\n",
       " (10, 5, 1),\n",
       " (10, 5, 1),\n",
       " (10, 1, 1),\n",
       " (10, 1, 1),\n",
       " (10, 1, 1),\n",
       " (10, 1, 1),\n",
       " (10, 1, 1),\n",
       " (10, 1, 1),\n",
       " (10, 1, 1),\n",
       " (10, 1, 1),\n",
       " (10, 1, 1),\n",
       " (10, 1, 1),\n",
       " (5, 5, 1),\n",
       " (5, 5, 1),\n",
       " (5, 5, 1),\n",
       " (5, 5, 1),\n",
       " (5, 5, 1),\n",
       " (5, 1, 1),\n",
       " (5, 1, 1),\n",
       " (5, 1, 1),\n",
       " (5, 1, 1),\n",
       " (5, 1, 1),\n",
       " (5, 1, 1),\n",
       " (5, 1, 1),\n",
       " (5, 1, 1),\n",
       " (5, 1, 1),\n",
       " (5, 1, 1),\n",
       " (5, 1, 1),\n",
       " (5, 1, 1),\n",
       " (5, 1, 1),\n",
       " (5, 1, 1),\n",
       " (5, 1, 1),\n",
       " (5, 1, 1),\n",
       " (5, 1, 1),\n",
       " (5, 1, 1),\n",
       " (5, 1, 1),\n",
       " (5, 1, 1),\n",
       " (1, 1, 1),\n",
       " (1, 1, 1),\n",
       " (1, 1, 1),\n",
       " (1, 1, 1),\n",
       " (1, 1, 1),\n",
       " (1, 1, 1),\n",
       " (1, 1, 1),\n",
       " (1, 1, 1),\n",
       " (1, 1, 1),\n",
       " (1, 1, 1)]"
      ]
     },
     "execution_count": 29,
     "metadata": {},
     "output_type": "execute_result"
    }
   ],
   "source": [
    "# Creating a combination of k things from an iterable of n\n",
    ">>> import itertools\n",
    ">>> bills = [20, 20, 20, 10, 10, 10, 10, 10, 5, 5, 1, 1, 1, 1, 1]\n",
    ">>> list(itertools.combinations(bills, 3))"
   ]
  },
  {
   "cell_type": "code",
   "execution_count": 30,
   "id": "436ba78a",
   "metadata": {},
   "outputs": [],
   "source": [
    "# Creating ngram from iterable.\n",
    ">>> from itertools import islice\n",
    ">>> def n_grams(a, n):\n",
    "...     z = (islice(a, i, None) for i in range(n))\n",
    "...     return zip(*z)"
   ]
  },
  {
   "cell_type": "code",
   "execution_count": 31,
   "id": "5bf53de5",
   "metadata": {},
   "outputs": [
    {
     "name": "stdout",
     "output_type": "stream",
     "text": [
      "(1, 2, 3)\n",
      "(2, 3, 4)\n",
      "(3, 4, 5)\n",
      "(4, 5, 6)\n"
     ]
    }
   ],
   "source": [
    ">>> a = [1, 2, 3, 4, 5, 6]\n",
    ">>> for n in n_grams(a, 3): print(n)"
   ]
  },
  {
   "cell_type": "code",
   "execution_count": 32,
   "id": "027f0765",
   "metadata": {},
   "outputs": [
    {
     "data": {
      "text/plain": [
       "[(1, 'a'), (2, 'b'), (3, 'c')]"
      ]
     },
     "execution_count": 32,
     "metadata": {},
     "output_type": "execute_result"
    }
   ],
   "source": [
    "# Combining two iterables of tuples with padding or pivot nested iterable with padding.\n",
    ">>> import itertools as it\n",
    ">>> x = [1, 2, 3, 4, 5]\n",
    ">>> y = ['a', 'b', 'c']\n",
    ">>> list(zip(x, y))\n",
    "# [(1, 'a'), (2, 'b'), (3, 'c')]"
   ]
  },
  {
   "cell_type": "code",
   "execution_count": 33,
   "id": "cfa35a4a",
   "metadata": {},
   "outputs": [
    {
     "data": {
      "text/plain": [
       "[(1, 'a'), (2, 'b'), (3, 'c'), (4, None), (5, None)]"
      ]
     },
     "execution_count": 33,
     "metadata": {},
     "output_type": "execute_result"
    }
   ],
   "source": [
    ">>> list(it.zip_longest(x, y))\n",
    "# [(1, 'a'), (2, 'b'), (3, 'c'), (4, None), (5, None)]"
   ]
  },
  {
   "cell_type": "code",
   "execution_count": 34,
   "id": "0a294440",
   "metadata": {},
   "outputs": [
    {
     "data": {
      "text/plain": [
       "[12, 32, 21]"
      ]
     },
     "execution_count": 34,
     "metadata": {},
     "output_type": "execute_result"
    }
   ],
   "source": [
    "# Creating an iterator that computes the function using arguments obtained from the iterable of iterables\n",
    ">>> import itertools \n",
    ">>> import operator\n",
    ">>> a = [(2, 6), (8, 4), (7, 3)]\n",
    ">>> list(itertools.starmap(operator.mul, a))"
   ]
  },
  {
   "cell_type": "code",
   "execution_count": 35,
   "id": "329762f9",
   "metadata": {},
   "outputs": [
    {
     "data": {
      "text/plain": [
       "[None, False, 0]"
      ]
     },
     "execution_count": 35,
     "metadata": {},
     "output_type": "execute_result"
    }
   ],
   "source": [
    "# Creating an iterator that filters elements from iterable returning only those for which the predicate is _False_\n",
    ">>> import itertools\n",
    "# keeping only false values\n",
    ">>> list(itertools.filterfalse(bool, [None, False, 1, 0, 10]))"
   ]
  },
  {
   "cell_type": "code",
   "execution_count": 36,
   "id": "075b956a",
   "metadata": {},
   "outputs": [
    {
     "data": {
      "text/plain": [
       "<itertools.dropwhile at 0x2a37b2458c0>"
      ]
     },
     "execution_count": 36,
     "metadata": {},
     "output_type": "execute_result"
    }
   ],
   "source": [
    "# Creating an iterator that returns elements from the iterable as long as the predicate is true\n",
    "import itertools\n",
    "itertools.takewhile(lambda x: x < 3, [0, 1, 2, 3, 4])  \n",
    "# [0, 1, 2]\n",
    "\n",
    "it.dropwhile(lambda x: x < 3, [0, 1, 2, 3, 4])\n",
    "# [3, 4]"
   ]
  },
  {
   "cell_type": "code",
   "execution_count": 37,
   "id": "e7d4d4a3",
   "metadata": {},
   "outputs": [
    {
     "data": {
      "text/plain": [
       "[9, 9, 9, 5, 5, 5, 2, 2]"
      ]
     },
     "execution_count": 37,
     "metadata": {},
     "output_type": "execute_result"
    }
   ],
   "source": [
    "# Creating accumulated results of iterable given a function\n",
    ">>> import itertools\n",
    ">>> list(itertools.accumulate([9, 21, 17, 5, 11, 12, 2, 6], min))"
   ]
  },
  {
   "cell_type": "markdown",
   "id": "87f434ed",
   "metadata": {},
   "source": [
    "### 6. Python collections tricks"
   ]
  },
  {
   "cell_type": "code",
   "execution_count": 38,
   "id": "0d805a51",
   "metadata": {},
   "outputs": [
    {
     "name": "stdout",
     "output_type": "stream",
     "text": [
      "{1, 2, 3, 4, 5, 6, 7}\n",
      "{3}\n",
      "{1, 2}\n",
      "{4, 5, 6, 7}\n",
      "{1, 2, 4, 5, 6, 7}\n",
      "True\n"
     ]
    }
   ],
   "source": [
    "A = {1, 2, 3, 3}\n",
    "B = {3, 4, 5, 6, 7}\n",
    "print(A | B)\n",
    "# set([1, 2, 3, 4, 5, 6, 7])\n",
    "print(A & B)\n",
    "# set([3])\n",
    "print(A - B)\n",
    "# set([1, 2])\n",
    "print(B - A)\n",
    "# set([4, 5, 6, 7])\n",
    "print(A ^ B)\n",
    "# set([1, 2, 4, 5, 6, 7])\n",
    "print( (A ^ B) == ((A - B) | (B - A)) )\n",
    "# True"
   ]
  },
  {
   "cell_type": "code",
   "execution_count": 39,
   "id": "1335d935",
   "metadata": {},
   "outputs": [
    {
     "name": "stdout",
     "output_type": "stream",
     "text": [
      "Counter({3: 4, 1: 2, 2: 2, 4: 1, 5: 1, 6: 1, 7: 1})\n",
      "[(3, 4)]\n",
      "[(3, 4), (1, 2), (2, 2)]\n"
     ]
    }
   ],
   "source": [
    "import collections\n",
    "\n",
    "A = collections.Counter([1, 1, 2, 2, 3, 3, 3, 3, 4, 5, 6, 7])\n",
    "print(A)\n",
    "# Counter({3: 4, 1: 2, 2: 2, 4: 1, 5: 1, 6: 1, 7: 1})\n",
    "print(A.most_common(1))\n",
    "# [(3, 4)]\n",
    "print(A.most_common(3))\n",
    "# [(3, 4), (1, 2), (2, 2)]"
   ]
  },
  {
   "cell_type": "code",
   "execution_count": 40,
   "id": "605297e0",
   "metadata": {},
   "outputs": [
    {
     "name": "stdout",
     "output_type": "stream",
     "text": [
      "OrderedDict([('a', None), ('b', None), ('c', None), ('d', None), ('e', None)])\n",
      "a c d e b\n",
      "bacde\n"
     ]
    }
   ],
   "source": [
    "# Ordered dict structure (a subclass of dictionary that keeps order).\n",
    "from collections import OrderedDict\n",
    "\n",
    "d = OrderedDict.fromkeys('abcde')\n",
    "print(d)\n",
    "d.move_to_end('b')\n",
    "print(' '.join(d.keys()))\n",
    "# 'acdeb'\n",
    "\n",
    "d.move_to_end('b', last=False)\n",
    "print(''.join(d.keys()))\n",
    "# 'bacde'"
   ]
  },
  {
   "cell_type": "code",
   "execution_count": 41,
   "id": "82c1cf28",
   "metadata": {},
   "outputs": [
    {
     "data": {
      "text/plain": [
       "deque([])"
      ]
     },
     "execution_count": 41,
     "metadata": {},
     "output_type": "execute_result"
    }
   ],
   "source": [
    "# Deques structure (Deques are a generalization of stacks and queues).\n",
    "import collections\n",
    "Q = collections.deque()\n",
    "Q"
   ]
  },
  {
   "cell_type": "code",
   "execution_count": 42,
   "id": "d18521a3",
   "metadata": {},
   "outputs": [
    {
     "data": {
      "text/plain": [
       "deque([6, 5, 2, 1, 3, 4])"
      ]
     },
     "execution_count": 42,
     "metadata": {},
     "output_type": "execute_result"
    }
   ],
   "source": [
    ">>> Q.append(1)\n",
    ">>> Q.appendleft(2)\n",
    ">>> Q.extend([3, 4])\n",
    ">>> Q.extendleft([5, 6])\n",
    ">>> Q"
   ]
  },
  {
   "cell_type": "code",
   "execution_count": 43,
   "id": "3a6d269c",
   "metadata": {},
   "outputs": [
    {
     "data": {
      "text/plain": [
       "4"
      ]
     },
     "execution_count": 43,
     "metadata": {},
     "output_type": "execute_result"
    }
   ],
   "source": [
    ">>> Q.pop()"
   ]
  },
  {
   "cell_type": "code",
   "execution_count": 44,
   "id": "b7045de0",
   "metadata": {},
   "outputs": [
    {
     "data": {
      "text/plain": [
       "6"
      ]
     },
     "execution_count": 44,
     "metadata": {},
     "output_type": "execute_result"
    }
   ],
   "source": [
    ">>> Q.popleft()"
   ]
  },
  {
   "cell_type": "code",
   "execution_count": 45,
   "id": "2065ac0e",
   "metadata": {},
   "outputs": [
    {
     "name": "stdout",
     "output_type": "stream",
     "text": [
      "deque([5, 2, 1, 3])\n"
     ]
    },
    {
     "data": {
      "text/plain": [
       "deque([2, 1, 3, 5])"
      ]
     },
     "execution_count": 45,
     "metadata": {},
     "output_type": "execute_result"
    }
   ],
   "source": [
    "print(Q)\n",
    "#     Rotate the deque n steps to the right (default n=1).  If n is negative, rotates left.\n",
    "Q.rotate(3)\n",
    "Q"
   ]
  },
  {
   "cell_type": "code",
   "execution_count": 46,
   "id": "25236f7e",
   "metadata": {},
   "outputs": [
    {
     "data": {
      "text/plain": [
       "deque([5, 2, 1, 3])"
      ]
     },
     "execution_count": 46,
     "metadata": {},
     "output_type": "execute_result"
    }
   ],
   "source": [
    ">>> Q.rotate(-3)\n",
    ">>> Q"
   ]
  },
  {
   "cell_type": "code",
   "execution_count": 47,
   "id": "a776ea89",
   "metadata": {},
   "outputs": [
    {
     "name": "stdout",
     "output_type": "stream",
     "text": [
      "0\n",
      "0, 1\n",
      "0, 1, 2\n",
      "1, 2, 3\n"
     ]
    }
   ],
   "source": [
    ">>> last_three = collections.deque(maxlen=3)\n",
    ">>> for i in range(4):\n",
    "...     last_three.append(i)\n",
    "...     print(', '.join(str(x) for x in last_three) )"
   ]
  },
  {
   "cell_type": "code",
   "execution_count": 48,
   "id": "595d4ece",
   "metadata": {},
   "outputs": [
    {
     "data": {
      "text/plain": [
       "2.0"
      ]
     },
     "execution_count": 48,
     "metadata": {},
     "output_type": "execute_result"
    }
   ],
   "source": [
    "# Named tuples structure (create tuple-like objects that have fields accessible by attribute lookup as well as being indexable and iterable).\n",
    ">>> import collections\n",
    ">>> Point = collections.namedtuple('Point', ['x', 'y'])\n",
    ">>> p = Point(x=1.0, y=2.0)\n",
    ">>> p\n",
    "Point(x=1.0, y=2.0)\n",
    ">>> p.x\n",
    "1.0\n",
    ">>> p.y\n",
    "2.0"
   ]
  },
  {
   "cell_type": "code",
   "execution_count": 49,
   "id": "4e289038",
   "metadata": {},
   "outputs": [
    {
     "data": {
      "text/plain": [
       "6"
      ]
     },
     "execution_count": 49,
     "metadata": {},
     "output_type": "execute_result"
    }
   ],
   "source": [
    "# Use A Dictionary To Store A Switch.\n",
    "func_dict = {'sum': lambda x,y: x+y, 'subtract': lambda x,y: x-y}\n",
    "func_dict['sum'](9,3)\n",
    "# 12\n",
    "func_dict['subtract'](9,3)\n",
    "# 6"
   ]
  },
  {
   "cell_type": "code",
   "execution_count": 50,
   "id": "08fddd1c",
   "metadata": {},
   "outputs": [
    {
     "data": {
      "text/plain": [
       "True"
      ]
     },
     "execution_count": 50,
     "metadata": {},
     "output_type": "execute_result"
    }
   ],
   "source": [
    "# Data classes structure\n",
    "from dataclasses import dataclass\n",
    "@dataclass\n",
    "class DataClassCard:\n",
    "    rank: str\n",
    "    suit: str\n",
    "    \n",
    "queen_of_hearts = DataClassCard('Q', 'Hearts')\n",
    "queen_of_hearts.rank\n",
    "# 'Q'\n",
    "queen_of_hearts\n",
    "DataClassCard(rank='Q', suit='Hearts')\n",
    "queen_of_hearts == DataClassCard('Q', 'Hearts')\n",
    "# True"
   ]
  },
  {
   "cell_type": "code",
   "execution_count": 51,
   "id": "43b791c7",
   "metadata": {},
   "outputs": [],
   "source": [
    "# 7. Other Python tricks"
   ]
  },
  {
   "cell_type": "code",
   "execution_count": 52,
   "id": "999ceb08",
   "metadata": {},
   "outputs": [
    {
     "data": {
      "text/plain": [
       "UUID('7037b217-ce6e-4482-8e41-55eebbde2826')"
      ]
     },
     "execution_count": 52,
     "metadata": {},
     "output_type": "execute_result"
    }
   ],
   "source": [
    "# This creates a randomized 128-bit number that will almost certainly be unique.\n",
    "# In fact, there are over 2¹²² possible UUIDs that can be generated. That’s over five undecillion (or 5,000,000,000,000,000,000,000,000,000,000,000,000).\n",
    "\n",
    "import uuid\n",
    "user_id = uuid.uuid4()\n",
    "user_id \n",
    "# UUID('7c2faedd-805a-478e-bd6a-7b26210425c7')"
   ]
  },
  {
   "cell_type": "code",
   "execution_count": 53,
   "id": "8b7ca88f",
   "metadata": {},
   "outputs": [],
   "source": [
    "# An elegant way to deal with a file path (3.4≥)\n",
    "from pathlib import Path\n",
    "data_folder = Path(\"c:/users/fan.z\")\n",
    "\n",
    "# Path calculation and metadata\n",
    "file_to_open = data_folder / \"data.csv\""
   ]
  },
  {
   "cell_type": "code",
   "execution_count": 54,
   "id": "3dff96ac",
   "metadata": {},
   "outputs": [
    {
     "data": {
      "text/plain": [
       "'data.csv'"
      ]
     },
     "execution_count": 54,
     "metadata": {},
     "output_type": "execute_result"
    }
   ],
   "source": [
    "file_to_open.name\n",
    "# \"data.csv\""
   ]
  },
  {
   "cell_type": "code",
   "execution_count": 55,
   "id": "2273de20",
   "metadata": {},
   "outputs": [
    {
     "data": {
      "text/plain": [
       "'.csv'"
      ]
     },
     "execution_count": 55,
     "metadata": {},
     "output_type": "execute_result"
    }
   ],
   "source": [
    "file_to_open.suffix\n",
    "# \"csv\""
   ]
  },
  {
   "cell_type": "code",
   "execution_count": 56,
   "id": "c523af7e",
   "metadata": {},
   "outputs": [
    {
     "data": {
      "text/plain": [
       "'data'"
      ]
     },
     "execution_count": 56,
     "metadata": {},
     "output_type": "execute_result"
    }
   ],
   "source": [
    "file_to_open.stem\n",
    "# \"data\""
   ]
  },
  {
   "cell_type": "code",
   "execution_count": 57,
   "id": "c3cff765",
   "metadata": {},
   "outputs": [
    {
     "data": {
      "text/plain": [
       "'name,role,age\\n\\n'"
      ]
     },
     "execution_count": 57,
     "metadata": {},
     "output_type": "execute_result"
    }
   ],
   "source": [
    "# Files functions                       \n",
    "f = open(file_to_open)\n",
    "f.read()"
   ]
  },
  {
   "cell_type": "code",
   "execution_count": 58,
   "id": "a52262e1",
   "metadata": {},
   "outputs": [
    {
     "data": {
      "text/plain": [
       "True"
      ]
     },
     "execution_count": 58,
     "metadata": {},
     "output_type": "execute_result"
    }
   ],
   "source": [
    " file_to_open.exists()"
   ]
  },
  {
   "cell_type": "code",
   "execution_count": 59,
   "id": "bebe8e3b",
   "metadata": {},
   "outputs": [
    {
     "data": {
      "text/plain": [
       "'ham sandwich'"
      ]
     },
     "execution_count": 59,
     "metadata": {},
     "output_type": "execute_result"
    }
   ],
   "source": [
    "# Creating decorator to separate concerns\n",
    "from functools import wraps\n",
    "\n",
    "def add_sandwich(wrapped):\n",
    "    @wraps(wrapped)\n",
    "    def wrapper(*args, **kwargs):\n",
    "        return wrapped(*args, **kwargs) + ' sandwich'\n",
    "    return wrapper\n",
    "\n",
    "@add_sandwich\n",
    "def ham():\n",
    "    return 'ham'\n",
    "\n",
    "ham()"
   ]
  },
  {
   "cell_type": "code",
   "execution_count": 60,
   "id": "ff527d0e",
   "metadata": {},
   "outputs": [
    {
     "data": {
      "text/plain": [
       "[1, 2, 3, 6]"
      ]
     },
     "execution_count": 60,
     "metadata": {},
     "output_type": "execute_result"
    }
   ],
   "source": [
    "# Using yield to create a simple iterator\n",
    "def foo(lst):\n",
    "    for x in lst:\n",
    "        yield x\n",
    "        yield x*2\n",
    "\n",
    "a = [1, 3]\n",
    "list(foo(a))\n",
    "# [1, 2, 3, 6]"
   ]
  }
 ],
 "metadata": {
  "kernelspec": {
   "display_name": "Python 3",
   "language": "python",
   "name": "python3"
  },
  "language_info": {
   "codemirror_mode": {
    "name": "ipython",
    "version": 3
   },
   "file_extension": ".py",
   "mimetype": "text/x-python",
   "name": "python",
   "nbconvert_exporter": "python",
   "pygments_lexer": "ipython3",
   "version": "3.8.8"
  }
 },
 "nbformat": 4,
 "nbformat_minor": 5
}
