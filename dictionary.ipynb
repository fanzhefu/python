{
 "cells": [
  {
   "cell_type": "markdown",
   "id": "f8a8b541",
   "metadata": {},
   "source": [
    "### Basic Work with Dictionaries"
   ]
  },
  {
   "cell_type": "code",
   "execution_count": 7,
   "id": "390d71c8",
   "metadata": {},
   "outputs": [
    {
     "name": "stdout",
     "output_type": "stream",
     "text": [
      "Mike\n",
      "Bob\n",
      "m\n"
     ]
    }
   ],
   "source": [
    "person = {'name': \"Mike\", 'age': 25, 'weight': 80.5}\n",
    "print(person['name'])\n",
    "\n",
    "person['name'] = \"Bob\" # Changing existing value\n",
    "print(person['name'])\n",
    "\n",
    "person['gender'] = 'm' # Creating new key-value pair\n",
    "print(person['gender'])"
   ]
  },
  {
   "cell_type": "markdown",
   "id": "02940d1a",
   "metadata": {},
   "source": [
    "### Iterate Over Dictionaries "
   ]
  },
  {
   "cell_type": "code",
   "execution_count": 10,
   "id": "911b0b09",
   "metadata": {},
   "outputs": [
    {
     "name": "stdout",
     "output_type": "stream",
     "text": [
      "Bob Anna Max John "
     ]
    }
   ],
   "source": [
    "names_ages = {'Bob':50,'Anna':28,'Max':30,'John':76}\n",
    "\n",
    "for element in names_ages:\n",
    "    print(element, end=' ')\n",
    "    \n",
    "# Output: Bob  Anna  Max  John"
   ]
  },
  {
   "cell_type": "code",
   "execution_count": 11,
   "id": "07bd7c91",
   "metadata": {},
   "outputs": [
    {
     "name": "stdout",
     "output_type": "stream",
     "text": [
      "['Bob', 'Anna', 'Max', 'John']\n",
      "[50, 28, 30, 76]\n",
      "[('Bob', 50), ('Anna', 28), ('Max', 30), ('John', 76)]\n"
     ]
    }
   ],
   "source": [
    "print(list(names_ages.keys()))\n",
    "print(list(names_ages.values()))\n",
    "print(list(names_ages.items()))"
   ]
  },
  {
   "cell_type": "markdown",
   "id": "4f8b0c71",
   "metadata": {},
   "source": [
    "### Copy Dictionaries"
   ]
  },
  {
   "cell_type": "code",
   "execution_count": 14,
   "id": "ec46e151",
   "metadata": {},
   "outputs": [
    {
     "name": "stdout",
     "output_type": "stream",
     "text": [
      "{'a': 10, 'b': 20, 'c': 50}\n",
      "{'a': 10, 'b': 20, 'c': 50}\n"
     ]
    }
   ],
   "source": [
    "d1 = {'a': 10, 'b': 20, 'c': 30}\n",
    "d2 = d1        # copy\n",
    "d2['c'] = 50    \n",
    "\n",
    "print(d1)\n",
    "print(d2)\n",
    "# d1, d2 both changed"
   ]
  },
  {
   "cell_type": "code",
   "execution_count": 16,
   "id": "964ece64",
   "metadata": {},
   "outputs": [
    {
     "name": "stdout",
     "output_type": "stream",
     "text": [
      "{'a': 10, 'b': 20, 'c': 30}\n",
      "{'a': 10, 'b': 50, 'c': 30}\n",
      "{'a': -90, 'b': 20, 'c': 30}\n"
     ]
    }
   ],
   "source": [
    "d1 = {'a': 10, 'b': 20, 'c': 30}\n",
    "d2 = dict(d1)        # copy\n",
    "d3 = d1.copy()       # copy\n",
    "\n",
    "d2['b'] = 50\n",
    "d3['a'] = -90\n",
    "print(d1) # unchanged\n",
    "print(d2) \n",
    "print(d3)"
   ]
  },
  {
   "cell_type": "markdown",
   "id": "ea21f18e",
   "metadata": {},
   "source": [
    "### Merge Dictionaries"
   ]
  },
  {
   "cell_type": "code",
   "execution_count": 17,
   "id": "38995464",
   "metadata": {},
   "outputs": [
    {
     "name": "stdout",
     "output_type": "stream",
     "text": [
      "{'a': 10, 'b': 20, 'c': 40, 'd': 60, 'e': 20}\n",
      "{'a': 10, 'b': 20, 'c': 40, 'd': 60, 'e': 20}\n"
     ]
    }
   ],
   "source": [
    "d1 = {'a': 10, 'b': 20, 'c': 30}\n",
    "d2 = {'c': 40, 'd': 60, 'e': 20}\n",
    "d1.update(d2)\n",
    "print(d1)\n",
    "\n",
    "d1 = {'a': 10, 'b': 20, 'c': 30}\n",
    "d3 = {**d1, **d2}\n",
    "print(d3)"
   ]
  },
  {
   "cell_type": "code",
   "execution_count": 18,
   "id": "2117e0f0",
   "metadata": {},
   "outputs": [
    {
     "ename": "TypeError",
     "evalue": "unsupported operand type(s) for |: 'dict' and 'dict'",
     "output_type": "error",
     "traceback": [
      "\u001b[1;31m---------------------------------------------------------------------------\u001b[0m",
      "\u001b[1;31mTypeError\u001b[0m                                 Traceback (most recent call last)",
      "\u001b[1;32m<ipython-input-18-dfe2384117a1>\u001b[0m in \u001b[0;36m<module>\u001b[1;34m\u001b[0m\n\u001b[0;32m      3\u001b[0m \u001b[0md2\u001b[0m \u001b[1;33m=\u001b[0m \u001b[1;33m{\u001b[0m\u001b[1;34m'c'\u001b[0m\u001b[1;33m:\u001b[0m \u001b[1;36m40\u001b[0m\u001b[1;33m,\u001b[0m \u001b[1;34m'd'\u001b[0m\u001b[1;33m:\u001b[0m \u001b[1;36m60\u001b[0m\u001b[1;33m,\u001b[0m \u001b[1;34m'e'\u001b[0m\u001b[1;33m:\u001b[0m \u001b[1;36m20\u001b[0m\u001b[1;33m}\u001b[0m\u001b[1;33m\u001b[0m\u001b[1;33m\u001b[0m\u001b[0m\n\u001b[0;32m      4\u001b[0m \u001b[1;33m\u001b[0m\u001b[0m\n\u001b[1;32m----> 5\u001b[1;33m \u001b[0md3\u001b[0m \u001b[1;33m=\u001b[0m \u001b[0md1\u001b[0m \u001b[1;33m|\u001b[0m \u001b[0md2\u001b[0m  \u001b[1;31m# Merging\u001b[0m\u001b[1;33m\u001b[0m\u001b[1;33m\u001b[0m\u001b[0m\n\u001b[0m\u001b[0;32m      6\u001b[0m \u001b[0md1\u001b[0m \u001b[1;33m|=\u001b[0m \u001b[0md2\u001b[0m      \u001b[1;31m# Updating\u001b[0m\u001b[1;33m\u001b[0m\u001b[1;33m\u001b[0m\u001b[0m\n",
      "\u001b[1;31mTypeError\u001b[0m: unsupported operand type(s) for |: 'dict' and 'dict'"
     ]
    }
   ],
   "source": [
    "# In Python 3.9\n",
    "d1 = {'a': 10, 'b': 20, 'c': 30}\n",
    "d2 = {'c': 40, 'd': 60, 'e': 20}\n",
    "\n",
    "d3 = d1 | d2  # Merging\n",
    "d1 |= d2      # Updating"
   ]
  },
  {
   "cell_type": "code",
   "execution_count": null,
   "id": "e535a40a",
   "metadata": {},
   "outputs": [],
   "source": []
  }
 ],
 "metadata": {
  "kernelspec": {
   "display_name": "Python 3",
   "language": "python",
   "name": "python3"
  },
  "language_info": {
   "codemirror_mode": {
    "name": "ipython",
    "version": 3
   },
   "file_extension": ".py",
   "mimetype": "text/x-python",
   "name": "python",
   "nbconvert_exporter": "python",
   "pygments_lexer": "ipython3",
   "version": "3.8.8"
  }
 },
 "nbformat": 4,
 "nbformat_minor": 5
}
