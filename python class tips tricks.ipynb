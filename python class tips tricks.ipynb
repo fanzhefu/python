{
 "cells": [
  {
   "cell_type": "markdown",
   "id": "9137710e",
   "metadata": {},
   "source": [
    "### 1. Create a constant value @property"
   ]
  },
  {
   "cell_type": "code",
   "execution_count": 1,
   "id": "5244ffaa",
   "metadata": {},
   "outputs": [],
   "source": [
    "class Circle():\n",
    "  def __init__(self, radius):\n",
    "    self.radius = radius\n",
    "    self.pi = 3.14  \n",
    "    \n",
    "  def area(self):\n",
    "    return self.pi * self.radius * self.radius \n",
    "  \n",
    "  def perimeter(self):\n",
    "    return 2 * self.pi * self.radius"
   ]
  },
  {
   "cell_type": "code",
   "execution_count": 2,
   "id": "641f0a3c",
   "metadata": {},
   "outputs": [
    {
     "data": {
      "text/plain": [
       "80"
      ]
     },
     "execution_count": 2,
     "metadata": {},
     "output_type": "execute_result"
    }
   ],
   "source": [
    "c = Circle(4)\n",
    "c.pi = 5\n",
    "c.area()"
   ]
  },
  {
   "cell_type": "code",
   "execution_count": 3,
   "id": "b33b7789",
   "metadata": {},
   "outputs": [],
   "source": [
    "# fix this with @property\n",
    "class Circle():\n",
    "  def __init__(self, radius):\n",
    "    self.radius = radius\n",
    "   \n",
    "  @property\n",
    "  def pi(self):\n",
    "    return 3.14\n",
    "\n",
    "  def area(self):\n",
    "    return self.pi * self.radius * self.radius \n",
    "  \n",
    "  def perimeter(self):\n",
    "    return 2 * self.pi * self.radius"
   ]
  },
  {
   "cell_type": "code",
   "execution_count": 4,
   "id": "65f95b2b",
   "metadata": {},
   "outputs": [
    {
     "data": {
      "text/plain": [
       "3.14"
      ]
     },
     "execution_count": 4,
     "metadata": {},
     "output_type": "execute_result"
    }
   ],
   "source": [
    "c = Circle(4)\n",
    "c.pi"
   ]
  },
  {
   "cell_type": "code",
   "execution_count": 5,
   "id": "4938df40",
   "metadata": {},
   "outputs": [
    {
     "data": {
      "text/plain": [
       "25.12"
      ]
     },
     "execution_count": 5,
     "metadata": {},
     "output_type": "execute_result"
    }
   ],
   "source": [
    "c.perimeter()"
   ]
  },
  {
   "cell_type": "markdown",
   "id": "aaf89494",
   "metadata": {},
   "source": [
    "### 2. Multiple Class constructors"
   ]
  },
  {
   "cell_type": "code",
   "execution_count": 6,
   "id": "3b5fbafe",
   "metadata": {},
   "outputs": [],
   "source": [
    "class Date():\n",
    "  def __init__(self, day, month, year):\n",
    "    self.day = day\n",
    "    self.month = month\n",
    "    self.year = year\n",
    "    \n",
    "  @classmethod\n",
    "  def fromString(cls, s):\n",
    "   day = int(s[:2])\n",
    "   month = int(s[3:5])\n",
    "   year = int(s[6:])\n",
    "   return cls(day, month, year) # Return a new object"
   ]
  },
  {
   "cell_type": "code",
   "execution_count": 7,
   "id": "e1162a2a",
   "metadata": {},
   "outputs": [
    {
     "name": "stdout",
     "output_type": "stream",
     "text": [
      "21 7 2020\n"
     ]
    }
   ],
   "source": [
    "d = Date.fromString(\"21/07/2020\")\n",
    "print(d.day, d.month, d.year)"
   ]
  },
  {
   "cell_type": "markdown",
   "id": "67939563",
   "metadata": {},
   "source": [
    "### 3. Creating Enum"
   ]
  },
  {
   "cell_type": "code",
   "execution_count": 8,
   "id": "e0861387",
   "metadata": {},
   "outputs": [],
   "source": [
    "from enum import Enum\n",
    "\n",
    "class WeekDay(Enum):\n",
    "  Monday = 1\n",
    "  Tuesday = 2\n",
    "  Wednesday = 3\n",
    "  Thursday = 4\n",
    "  Friday = 5\n",
    "  Saturday = 6\n",
    "  Sunday = 7"
   ]
  },
  {
   "cell_type": "code",
   "execution_count": 9,
   "id": "190e90b9",
   "metadata": {
    "scrolled": true
   },
   "outputs": [],
   "source": [
    "day = WeekDay.Friday"
   ]
  },
  {
   "cell_type": "code",
   "execution_count": 10,
   "id": "ed0a6ac7",
   "metadata": {},
   "outputs": [
    {
     "name": "stdout",
     "output_type": "stream",
     "text": [
      "Friday 5\n"
     ]
    }
   ],
   "source": [
    "print(day.name, day.value)"
   ]
  },
  {
   "cell_type": "markdown",
   "id": "e46fcf8e",
   "metadata": {},
   "source": [
    "### 4. Backwords Iterators"
   ]
  },
  {
   "cell_type": "code",
   "execution_count": 11,
   "id": "f6aef403",
   "metadata": {},
   "outputs": [],
   "source": [
    "class Backward():\n",
    "  def __init__(self, data):\n",
    "    self.data = data # The list we want to iterate \n",
    "    self.index = len(self.data)  \n",
    "\n",
    "  def __iter__(self):\n",
    "    return self\n",
    "  \n",
    "  def __next__(self):\n",
    "    if(self.index == 0):\n",
    "      raise StopIteration\n",
    "    else:\n",
    "      self.index -= 1\n",
    "      return self.data[self.index]"
   ]
  },
  {
   "cell_type": "code",
   "execution_count": 12,
   "id": "2a545a08",
   "metadata": {},
   "outputs": [
    {
     "name": "stdout",
     "output_type": "stream",
     "text": [
      "5 4 3 2 1 "
     ]
    }
   ],
   "source": [
    "bw = Backward([1,2,3,4,5])\n",
    "for elem in bw:\n",
    "  print(elem, end=' ')"
   ]
  },
  {
   "cell_type": "markdown",
   "id": "f903bbda",
   "metadata": {},
   "source": [
    "### 5. Accessing a class as a list\n",
    "Here is a really easy example (it is a list whose size cannot be changed, and whose index start at 1):"
   ]
  },
  {
   "cell_type": "code",
   "execution_count": 13,
   "id": "6111a044",
   "metadata": {},
   "outputs": [],
   "source": [
    "class MyList():\n",
    "  def __init__(self, dimension):\n",
    "    self.l = [0 for i in range(dimension)]\n",
    "  \n",
    "  def __getitem__(self, idx):\n",
    "    return self.l[idx-1]\n",
    "  \n",
    "  def __setitem__(self, idx, data):\n",
    "    self.l[idx-1]=data\n"
   ]
  },
  {
   "cell_type": "code",
   "execution_count": 14,
   "id": "43b64ffe",
   "metadata": {},
   "outputs": [],
   "source": [
    "ml = MyList(5)\n",
    "ml[1] = 50 # Set the first element of ml to 50\n",
    "ml[2] = 100 # Set the second element of ml to 100\n",
    "x = ml[1] # x is now 50"
   ]
  },
  {
   "cell_type": "code",
   "execution_count": 15,
   "id": "6b57ad8c",
   "metadata": {},
   "outputs": [
    {
     "data": {
      "text/plain": [
       "50"
      ]
     },
     "execution_count": 15,
     "metadata": {},
     "output_type": "execute_result"
    }
   ],
   "source": [
    "x"
   ]
  },
  {
   "cell_type": "markdown",
   "id": "ab57a9af",
   "metadata": {},
   "source": [
    "#### 5.1 __getitem__ and __setitem__ how to"
   ]
  },
  {
   "cell_type": "code",
   "execution_count": 16,
   "id": "9b94ba59",
   "metadata": {},
   "outputs": [
    {
     "name": "stdout",
     "output_type": "stream",
     "text": [
      "DEF Inc\n"
     ]
    }
   ],
   "source": [
    "# Without using __getitem__ we would have a class like this :\n",
    "class Building(object):\n",
    "     def __init__(self, floors):\n",
    "         self._floors = [None]*floors\n",
    "     def occupy(self, floor_number, data):\n",
    "          self._floors[floor_number] = data\n",
    "     def get_floor_data(self, floor_number):\n",
    "          return self._floors[floor_number]\n",
    "\n",
    "building1 = Building(4) # Construct a building with 4 floors\n",
    "building1.occupy(0, 'Reception')\n",
    "building1.occupy(1, 'ABC Corp')\n",
    "building1.occupy(2, 'DEF Inc')\n",
    "print( building1.get_floor_data(2) )"
   ]
  },
  {
   "cell_type": "code",
   "execution_count": 17,
   "id": "90f1f6ca",
   "metadata": {},
   "outputs": [
    {
     "name": "stdout",
     "output_type": "stream",
     "text": [
      "DEF Inc\n"
     ]
    }
   ],
   "source": [
    "# We could however use __getitem__ (and its counterpart __setitem__) to make the usage of the Building class 'nicer'.\n",
    "class Building(object):\n",
    "     def __init__(self, floors):\n",
    "         self._floors = [None]*floors\n",
    "     def __setitem__(self, floor_number, data):\n",
    "          self._floors[floor_number] = data\n",
    "     def __getitem__(self, floor_number):\n",
    "          return self._floors[floor_number]\n",
    "\n",
    "building1 = Building(4) # Construct a building with 4 floors\n",
    "building1[0] = 'Reception'\n",
    "building1[1] = 'ABC Corp'\n",
    "building1[2] = 'DEF Inc'\n",
    "print( building1[2] )"
   ]
  },
  {
   "cell_type": "markdown",
   "id": "51ec64b6",
   "metadata": {},
   "source": [
    "#### 5.2 magic method __getattr__ "
   ]
  },
  {
   "cell_type": "code",
   "execution_count": 18,
   "id": "b7fba41e",
   "metadata": {},
   "outputs": [],
   "source": [
    "class Person(object):\n",
    "    def __init__(self, first_name, last_name, address):\n",
    "        self.first_name = first_name\n",
    "        self.last_name = last_name\n",
    "        self.address = address\n",
    "\n",
    "    @classmethod\n",
    "    def create_using_full_name(cls, full_name, address):\n",
    "        name = full_name.split(' ')\n",
    "        return cls(name[0], name[1], address)"
   ]
  },
  {
   "cell_type": "code",
   "execution_count": 19,
   "id": "85ffe064",
   "metadata": {},
   "outputs": [],
   "source": [
    "person1 = Person('Henry', 'Thiery', 'France')\n",
    "person2 = Person('Xaxi', 'Hernandez', 'Spain')\n",
    "person3 = Person('Erling', 'Haaland', 'Sweden')"
   ]
  },
  {
   "cell_type": "code",
   "execution_count": 20,
   "id": "17ce5ac3",
   "metadata": {},
   "outputs": [],
   "source": [
    "class Employees(object):\n",
    "    def __init__(self):\n",
    "        self.employees_list = []\n",
    "\n",
    "    def __len__(self):\n",
    "        return len(self.employees_list)\n",
    "\n",
    "    def __getitem__(self, item):\n",
    "        return self.employees_list[item]\n",
    "\n",
    "    @classmethod\n",
    "    def add_employee_to_list(cls, list_of_emps=[]):\n",
    "        self = cls()\n",
    "        for emp in list_of_emps:\n",
    "            self.employees_list.append(emp)\n",
    "        return self\n",
    "\n",
    "    def print_emp_name(self):\n",
    "        return [person.first_name + ' ' + person.last_name for person in self.employees_list]"
   ]
  },
  {
   "cell_type": "code",
   "execution_count": 21,
   "id": "3afc5cfd",
   "metadata": {},
   "outputs": [
    {
     "data": {
      "text/plain": [
       "['Henry Thiery', 'Xaxi Hernandez', 'Erling Haaland']"
      ]
     },
     "execution_count": 21,
     "metadata": {},
     "output_type": "execute_result"
    }
   ],
   "source": [
    "employees = Employees.add_employee_to_list([person1, person2, person3])\n",
    "employees.print_emp_name()\n",
    "# [‘HenryThiery’, ‘XaxiHernandez’, ‘ErlingHaaland’]"
   ]
  },
  {
   "cell_type": "code",
   "execution_count": 22,
   "id": "03408887",
   "metadata": {},
   "outputs": [
    {
     "data": {
      "text/plain": [
       "3"
      ]
     },
     "execution_count": 22,
     "metadata": {},
     "output_type": "execute_result"
    }
   ],
   "source": [
    "len(employees)"
   ]
  },
  {
   "cell_type": "code",
   "execution_count": 23,
   "id": "96d9a1c3",
   "metadata": {},
   "outputs": [
    {
     "data": {
      "text/plain": [
       "<__main__.Person at 0x26501701c40>"
      ]
     },
     "execution_count": 23,
     "metadata": {},
     "output_type": "execute_result"
    }
   ],
   "source": [
    "employees[1]"
   ]
  },
  {
   "cell_type": "code",
   "execution_count": 24,
   "id": "1c06c0b4",
   "metadata": {},
   "outputs": [
    {
     "data": {
      "text/plain": [
       "'Xaxi'"
      ]
     },
     "execution_count": 24,
     "metadata": {},
     "output_type": "execute_result"
    }
   ],
   "source": [
    "employees[1].first_name"
   ]
  },
  {
   "cell_type": "markdown",
   "id": "40197f81",
   "metadata": {},
   "source": [
    "Here employees is a List like object but not a List. Suppose we want to have append methods of List object available in Employees object we need to inherit from List object and override append method in the Employee class definition which is tight coupling and difficult to maintain if we want to support more methods from List object."
   ]
  },
  {
   "cell_type": "code",
   "execution_count": 25,
   "id": "78cfa82f",
   "metadata": {},
   "outputs": [],
   "source": [
    "# we can define a magic method __getattr__ which intercepts the ‘.’ \n",
    "# when we call an instance method and we can redirect it to the appropriate class \n",
    "# using the getattr method which we saw in the previous post.\n",
    "class Employees(object):\n",
    "    def __init__(self):\n",
    "        self.employees_list = []\n",
    "\n",
    "    def __len__(self):\n",
    "        return len(self.employees_list)\n",
    "\n",
    "    def __getitem__(self, item):\n",
    "        return self.employees_list[item]\n",
    "\n",
    "    def __getattr__(self, item):\n",
    "        return getattr(self.employees_list, item)\n",
    "\n",
    "    @classmethod\n",
    "    def add_employee_to_list(cls, list_of_emps=[]):\n",
    "        self = cls()\n",
    "        for emp in list_of_emps:\n",
    "            self.employees_list.append(emp)\n",
    "        return self\n",
    "    \n",
    "    def print_emp_name(self):\n",
    "        return [person.first_name + person.last_name for person in self.employees_list]"
   ]
  },
  {
   "cell_type": "code",
   "execution_count": 26,
   "id": "95bbe02c",
   "metadata": {},
   "outputs": [],
   "source": [
    "# Now the employee object magically has the methods of a List object, \n",
    "# it is actually being redirected to the main class because \n",
    "# we had intercepted the ‘.’ using getattr. Now onto our second problem.\n",
    "person4 = Person('Zhefu', 'Fan', 'Canada')\n",
    "employees = Employees.add_employee_to_list([person1, person2, person3])\n",
    "employees.append(person4)\n"
   ]
  },
  {
   "cell_type": "code",
   "execution_count": 27,
   "id": "0d27f779",
   "metadata": {},
   "outputs": [],
   "source": [
    "# employees.sort()"
   ]
  },
  {
   "cell_type": "code",
   "execution_count": 28,
   "id": "0efd57b9",
   "metadata": {},
   "outputs": [
    {
     "data": {
      "text/plain": [
       "1"
      ]
     },
     "execution_count": 28,
     "metadata": {},
     "output_type": "execute_result"
    }
   ],
   "source": [
    "employees.index(person2)"
   ]
  },
  {
   "cell_type": "code",
   "execution_count": 29,
   "id": "65313681",
   "metadata": {},
   "outputs": [
    {
     "name": "stdout",
     "output_type": "stream",
     "text": [
      "Henry Thiery: France\n",
      "Xaxi Hernandez: Spain\n",
      "Erling Haaland: Sweden\n",
      "Zhefu Fan: Canada\n"
     ]
    }
   ],
   "source": [
    "for employee in employees:\n",
    "#     print(employee.first_name + ' ' + employee.last_name + ':' + employee.address)\n",
    "    print(f'{employee.first_name} {employee.last_name}: {employee.address}')"
   ]
  },
  {
   "cell_type": "markdown",
   "id": "aa765956",
   "metadata": {},
   "source": [
    "### 6 Mixins"
   ]
  },
  {
   "cell_type": "code",
   "execution_count": 30,
   "id": "d913ddea",
   "metadata": {},
   "outputs": [],
   "source": [
    "class Person(object):\n",
    "    def __init__(self, name, age, sex, profession):\n",
    "        self.name = name\n",
    "        self.age = age\n",
    "        self.sex = sex\n",
    "        self.profession = profession"
   ]
  },
  {
   "cell_type": "code",
   "execution_count": 31,
   "id": "95f37393",
   "metadata": {},
   "outputs": [],
   "source": [
    "person1 = Person('Henry Thiery', '42', 'Male', 'Footballer')\n",
    "person2 = Person('Xaxi Hernandez', '35', 'Female', 'Footballer')\n",
    "person3 = Person('Erling Haaland', '21', 'Male', 'Footballer')"
   ]
  },
  {
   "cell_type": "code",
   "execution_count": 32,
   "id": "bbe1bcff",
   "metadata": {},
   "outputs": [],
   "source": [
    "persons = [person1, person2, person3]"
   ]
  },
  {
   "cell_type": "code",
   "execution_count": 33,
   "id": "5ff07fa4",
   "metadata": {},
   "outputs": [],
   "source": [
    "def print_table(objects, attrs):\n",
    "    for attr_name in attrs:\n",
    "        print(attr_name, end='\\t')\n",
    "    print()\n",
    "    for obj in objects:\n",
    "        for attr_name in attrs:\n",
    "            print(getattr(obj, attr_name), end=\"\\t\")\n",
    "        print()"
   ]
  },
  {
   "cell_type": "code",
   "execution_count": 34,
   "id": "b7b146d1",
   "metadata": {},
   "outputs": [],
   "source": [
    "def print_table(objects, attrs, format):\n",
    "    format.heading(attrs)\n",
    "    for obj in objects:\n",
    "        rows = [str(getattr(obj, attr_name)) for attr_name in attrs]\n",
    "        format.contents(rows)"
   ]
  },
  {
   "cell_type": "code",
   "execution_count": 35,
   "id": "6f84fa74",
   "metadata": {},
   "outputs": [],
   "source": [
    "class Formatter(object):\n",
    "    def __init__(self, save_file=None):\n",
    "        if save_file:\n",
    "            self.save_file = save_file\n",
    "\n",
    "    def heading(self, headers):\n",
    "        raise NotImplementedError\n",
    "\n",
    "    def contents(self, rows):\n",
    "        raise NotImplementedError\n",
    "\n",
    "class TextFormatter(\n",
    "    Formatter):  # if i want to support width param or add a feature then I would need to init parent and create my var\n",
    "\n",
    "    def __init__(self, save_file=None, width=20):\n",
    "        self.width = width\n",
    "        super().__init__(save_file=save_file)\n",
    "\n",
    "    def heading(self, headers):\n",
    "        for header in headers:\n",
    "            print(header, end='\\t')\n",
    "        print()\n",
    "\n",
    "    def contents(self, rows):\n",
    "        print()\n",
    "        for row in rows:\n",
    "            print({}.format(row), end=\"\\t\")\n",
    "\n",
    "class CVSFormatter(Formatter):\n",
    "    def heading(self, headers):\n",
    "        for header in headers:\n",
    "            print(header, end=',')\n",
    "        print()\n",
    "\n",
    "    def contents(self, rows):\n",
    "        for row in rows:\n",
    "            print('{}'.format(row), end=\",\")\n",
    "        print()\n",
    "\n",
    "class HTMLFormatter(Formatter):\n",
    "    def heading(self, headers):\n",
    "        for header in headers:\n",
    "            print('<h>{}</h>'.format(header), end=' ')\n",
    "        print()\n",
    "\n",
    "    def contents(self, rows):\n",
    "        for row in rows:\n",
    "            print('<t>{}</t>'.format(row), end=\" \")\n",
    "        print()\n",
    "        \n",
    "persons = [person1, person2, person3]"
   ]
  },
  {
   "cell_type": "code",
   "execution_count": 36,
   "id": "cb299533",
   "metadata": {},
   "outputs": [
    {
     "name": "stdout",
     "output_type": "stream",
     "text": [
      "name,age,profession,\n",
      "Henry Thiery,42,Footballer,\n",
      "Xaxi Hernandez,35,Footballer,\n",
      "Erling Haaland,21,Footballer,\n"
     ]
    }
   ],
   "source": [
    "# Creating a formatter\n",
    "formatter = CVSFormatter()\n",
    "print_table(persons, ['name', 'age', 'profession'], format=formatter)"
   ]
  },
  {
   "cell_type": "code",
   "execution_count": 37,
   "id": "e5add846",
   "metadata": {},
   "outputs": [
    {
     "name": "stdout",
     "output_type": "stream",
     "text": [
      "<h>name</h> <h>age</h> <h>profession</h> \n",
      "<t>Henry Thiery</t> <t>42</t> <t>Footballer</t> \n",
      "<t>Xaxi Hernandez</t> <t>35</t> <t>Footballer</t> \n",
      "<t>Erling Haaland</t> <t>21</t> <t>Footballer</t> \n"
     ]
    }
   ],
   "source": [
    "# Creating another formatter\n",
    "formatter = HTMLFormatter()\n",
    "print_table(persons, ['name', 'age', 'profession'], format=formatter)"
   ]
  },
  {
   "cell_type": "markdown",
   "id": "ab5d0ec8",
   "metadata": {},
   "source": [
    "## Mixin"
   ]
  },
  {
   "cell_type": "code",
   "execution_count": 38,
   "id": "59a42020",
   "metadata": {},
   "outputs": [
    {
     "name": "stdout",
     "output_type": "stream",
     "text": [
      "name,age,profession,\n",
      "\"Thiery Henry\",\"42\",\"Footballer\",\n",
      "\"Hernandez Xaxi\",\"35\",\"Footballer\",\n",
      "\"Erling Haaland\",\"21\",\"Footballer\",\n",
      "name,age,profession,\n",
      "Thiery Henry,42,Footballer,\n",
      "Hernandez Xaxi,35,Footballer,\n",
      "Erling Haaland,21,Footballer,\n",
      "<h>name</h> <h>age</h> <h>profession</h> \n",
      "<t>Thiery Henry</t> <t>42</t> <t>Footballer</t> \n",
      "<t>Hernandez Xaxi</t> <t>35</t> <t>Footballer</t> \n",
      "<t>Erling Haaland</t> <t>21</t> <t>Footballer</t> \n"
     ]
    }
   ],
   "source": [
    "class QuoterMixin(object):\n",
    "    def contents(self, rows):\n",
    "        quoted = ['\"{}\"'.format(text) for text in rows]\n",
    "        super().contents(quoted)\n",
    "\n",
    "class Formatter(QuoterMixin, CVSFormatter):\n",
    "    pass\n",
    "\n",
    "formatter = Formatter()\n",
    "person1 = Person('Thiery Henry', '42', 'M', 'Footballer')\n",
    "person2 = Person('Hernandez Xaxi', '35', 'M', 'Footballer')\n",
    "person3 = Person('Erling Haaland', '21', 'M', 'Footballer')\n",
    "\n",
    "persons = [person1, person2, person3]\n",
    "print_table(persons, ['name', 'age', 'profession'], format=formatter)\n",
    "formatter = CVSFormatter()\n",
    "print_table(persons, ['name', 'age', 'profession'], format=formatter)\n",
    "formatter = HTMLFormatter()\n",
    "print_table(persons, ['name', 'age', 'profession'], format=formatter)"
   ]
  },
  {
   "cell_type": "code",
   "execution_count": null,
   "id": "722c5945",
   "metadata": {},
   "outputs": [],
   "source": []
  },
  {
   "cell_type": "code",
   "execution_count": null,
   "id": "5ff1de6f",
   "metadata": {},
   "outputs": [],
   "source": []
  }
 ],
 "metadata": {
  "kernelspec": {
   "display_name": "Python 3",
   "language": "python",
   "name": "python3"
  },
  "language_info": {
   "codemirror_mode": {
    "name": "ipython",
    "version": 3
   },
   "file_extension": ".py",
   "mimetype": "text/x-python",
   "name": "python",
   "nbconvert_exporter": "python",
   "pygments_lexer": "ipython3",
   "version": "3.8.8"
  }
 },
 "nbformat": 4,
 "nbformat_minor": 5
}
