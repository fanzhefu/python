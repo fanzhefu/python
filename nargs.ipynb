{
 "cells": [
  {
   "cell_type": "code",
   "execution_count": 2,
   "id": "16bb18d6",
   "metadata": {},
   "outputs": [],
   "source": [
    "### nargs "
   ]
  },
  {
   "cell_type": "code",
   "execution_count": null,
   "id": "e67498e9",
   "metadata": {},
   "outputs": [],
   "source": [
    "import argparse\n",
    "\n",
    "parser = argparse.ArgumentParser()\n",
    "\n",
    "# By default it will fail with multiple arguments.\n",
    "parser.add_argument('--default')\n",
    "\n",
    "# Telling the type to be a list will also fail for multiple arguments,\n",
    "# but give incorrect results for a single argument.\n",
    "parser.add_argument('--list-type', type=list)\n",
    "\n",
    "# This will allow you to provide multiple arguments, but you will get\n",
    "# a list of lists which is not desired.\n",
    "parser.add_argument('--list-type-nargs', type=list, nargs='+')\n",
    "\n",
    "# This is the correct way to handle accepting multiple arguments.\n",
    "# '+' == 1 or more.\n",
    "# '*' == 0 or more.\n",
    "# '?' == 0 or 1.\n",
    "# An int is an explicit number of arguments to accept.\n",
    "parser.add_argument('--nargs', nargs='+')\n",
    "\n",
    "# To make the input integers\n",
    "parser.add_argument('--nargs-int-type', nargs='+', type=int)\n",
    "\n",
    "# An alternate way to accept multiple inputs, but you must\n",
    "# provide the flag once per input. Of course, you can use\n",
    "# type=int here if you want.\n",
    "parser.add_argument('--append-action', action='append')\n",
    "\n",
    "# To show the results of the given option to screen.\n",
    "for _, value in parser.parse_args()._get_kwargs():\n",
    "    if value is not None:\n",
    "        print(value)"
   ]
  },
  {
   "cell_type": "code",
   "execution_count": null,
   "id": "b646a56b",
   "metadata": {},
   "outputs": [],
   "source": [
    "# Here is the output you can expect:"
   ]
  },
  {
   "cell_type": "code",
   "execution_count": null,
   "id": "0d6eb89f",
   "metadata": {},
   "outputs": [],
   "source": [
    "$ python arg.py --default 1234 2345 3456 4567\n",
    "...\n",
    "arg.py: error: unrecognized arguments: 2345 3456 4567\n",
    "\n",
    "$ python arg.py --list-type 1234 2345 3456 4567\n",
    "...\n",
    "arg.py: error: unrecognized arguments: 2345 3456 4567\n",
    "\n",
    "$ # Quotes won't help here... \n",
    "$ python arg.py --list-type \"1234 2345 3456 4567\"\n",
    "['1', '2', '3', '4', ' ', '2', '3', '4', '5', ' ', '3', '4', '5', '6', ' ', '4', '5', '6', '7']\n",
    "\n",
    "$ python arg.py --list-type-nargs 1234 2345 3456 4567\n",
    "[['1', '2', '3', '4'], ['2', '3', '4', '5'], ['3', '4', '5', '6'], ['4', '5', '6', '7']]\n",
    "\n",
    "$ python arg.py --nargs 1234 2345 3456 4567\n",
    "['1234', '2345', '3456', '4567']\n",
    "\n",
    "$ python arg.py --nargs-int-type 1234 2345 3456 4567\n",
    "[1234, 2345, 3456, 4567]\n",
    "\n",
    "$ # Negative numbers are handled perfectly fine out of the box.\n",
    "$ python arg.py --nargs-int-type -1234 2345 -3456 4567\n",
    "[-1234, 2345, -3456, 4567]\n",
    "\n",
    "$ python arg.py --append-action 1234 --append-action 2345 --append-action 3456 --append-action 4567\n",
    "['1234', '2345', '3456', '4567']"
   ]
  },
  {
   "cell_type": "markdown",
   "id": "4c85259f",
   "metadata": {},
   "source": [
    "Takeaways:\n",
    "\n",
    "- Use nargs or action='append'\n",
    "  + nargs can be more straightforward from a user perspective, but it can be unintuitive if there are positional arguments because argparse can't tell what should be a positional argument and what belongs to the nargs; if you have positional arguments then action='append' may end up being a better choice.\n",
    "  + The above is only true if nargs is given '*', '+', or '?'. If you provide an integer number (such as 4) then there will be no problem mixing options with nargs and positional arguments because argparse will know exactly how many values to expect for the option.\n",
    "- Don't use quotes on the command line1\n",
    "- Don't use type=list, as it will return a list of lists\n",
    "  + This happens because under the hood argparse uses the value of type to coerce each individual given argument you your chosen type, not the aggregate of all arguments.\n",
    "  + You can use type=int (or whatever) to get a list of ints (or whatever)\n",
    "\n"
   ]
  },
  {
   "cell_type": "code",
   "execution_count": null,
   "id": "6d188f7c",
   "metadata": {},
   "outputs": [],
   "source": []
  }
 ],
 "metadata": {
  "kernelspec": {
   "display_name": "Python 3",
   "language": "python",
   "name": "python3"
  },
  "language_info": {
   "codemirror_mode": {
    "name": "ipython",
    "version": 3
   },
   "file_extension": ".py",
   "mimetype": "text/x-python",
   "name": "python",
   "nbconvert_exporter": "python",
   "pygments_lexer": "ipython3",
   "version": "3.8.8"
  }
 },
 "nbformat": 4,
 "nbformat_minor": 5
}
