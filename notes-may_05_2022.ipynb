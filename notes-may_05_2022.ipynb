{
 "cells": [
  {
   "cell_type": "code",
   "execution_count": 1,
   "id": "689e8343",
   "metadata": {},
   "outputs": [],
   "source": [
    "# lambda - one-time use function\n",
    "\n",
    "# Declare a list of tuples\n",
    "scores = [('John', 95), ('Danny', 98), ('Aaron', 90), ('Leo', 94), ('Lea', 99)]\n"
   ]
  },
  {
   "cell_type": "code",
   "execution_count": 2,
   "id": "068d7317",
   "metadata": {},
   "outputs": [
    {
     "data": {
      "text/plain": [
       "[('Leo', 94), ('Lea', 99), ('John', 95), ('Danny', 98), ('Aaron', 90)]"
      ]
     },
     "execution_count": 2,
     "metadata": {},
     "output_type": "execute_result"
    }
   ],
   "source": [
    "# Sort using the default order of the tuples\n",
    "sorted(scores, reverse=True)\n",
    "# only first letter"
   ]
  },
  {
   "cell_type": "code",
   "execution_count": 3,
   "id": "b43f7444",
   "metadata": {},
   "outputs": [
    {
     "data": {
      "text/plain": [
       "[('Lea', 99), ('Danny', 98), ('John', 95), ('Leo', 94), ('Aaron', 90)]"
      ]
     },
     "execution_count": 3,
     "metadata": {},
     "output_type": "execute_result"
    }
   ],
   "source": [
    "# Sort using the scores\n",
    "sorted(scores, key=lambda x: x[1], reverse=True)\n"
   ]
  },
  {
   "cell_type": "code",
   "execution_count": 28,
   "id": "007a5156",
   "metadata": {},
   "outputs": [
    {
     "data": {
      "text/plain": [
       "[1,\n",
       " 3,\n",
       " 10,\n",
       " 11,\n",
       " 12,\n",
       " 13,\n",
       " 14,\n",
       " 15,\n",
       " 16,\n",
       " 17,\n",
       " 18,\n",
       " 19,\n",
       " 30,\n",
       " 31,\n",
       " 32,\n",
       " 33,\n",
       " 34,\n",
       " 35,\n",
       " 36,\n",
       " 37,\n",
       " 38,\n",
       " 39]"
      ]
     },
     "execution_count": 28,
     "metadata": {},
     "output_type": "execute_result"
    }
   ],
   "source": [
    "# filter out numbers start with 1, 3\n",
    "list(filter(lambda x: str(x)[0] in ('1','3'), range(0,99)) )"
   ]
  },
  {
   "cell_type": "code",
   "execution_count": null,
   "id": "015bad6b",
   "metadata": {},
   "outputs": [],
   "source": []
  },
  {
   "cell_type": "code",
   "execution_count": 4,
   "id": "9f7b5b32",
   "metadata": {},
   "outputs": [],
   "source": [
    "# List Comprehension: [expr for x in iterable]\n",
    "# Dictionary Comprehension: {key_expr: value_expr for x in iterable}\n",
    "# Set Comprehension: {expr for x in iterable}With Optional Conditions:"
   ]
  },
  {
   "cell_type": "code",
   "execution_count": 5,
   "id": "bac2bb61",
   "metadata": {},
   "outputs": [
    {
     "data": {
      "text/plain": [
       "[1, 4, 9, 9, 4, 1]"
      ]
     },
     "execution_count": 5,
     "metadata": {},
     "output_type": "execute_result"
    }
   ],
   "source": [
    "# Create a list to be used in comprehensions\n",
    "numbers = [1, 2, 3, -3, -2, -1]\n",
    "# Create a new list of these numbers' squares\n",
    "[x*x for x in numbers]"
   ]
  },
  {
   "cell_type": "code",
   "execution_count": 6,
   "id": "9a77f2f0",
   "metadata": {},
   "outputs": [
    {
     "data": {
      "text/plain": [
       "{1: 10, 2: 100, 3: 1000, -3: 0.001, -2: 0.01, -1: 0.1}"
      ]
     },
     "execution_count": 6,
     "metadata": {},
     "output_type": "execute_result"
    }
   ],
   "source": [
    "# Create a new dictionary of these numbers' exponentiation\n",
    "{x: pow(10, x) for x in numbers}"
   ]
  },
  {
   "cell_type": "code",
   "execution_count": 7,
   "id": "b2bf539f",
   "metadata": {},
   "outputs": [
    {
     "data": {
      "text/plain": [
       "{1, 2, 3}"
      ]
     },
     "execution_count": 7,
     "metadata": {},
     "output_type": "execute_result"
    }
   ],
   "source": [
    "# Create a set of these numbers' absolutes\n",
    "{abs(x) for x in numbers}"
   ]
  },
  {
   "cell_type": "code",
   "execution_count": null,
   "id": "56cf191a",
   "metadata": {},
   "outputs": [],
   "source": [
    "# [expr for x in iterable if condition]\n",
    "# {key_expr: value_expr for x in iterable if condition}\n",
    "# {expr for x in iterable if condition}"
   ]
  },
  {
   "cell_type": "code",
   "execution_count": 25,
   "id": "4df56a2b",
   "metadata": {},
   "outputs": [
    {
     "data": {
      "text/plain": [
       "[4, 16, 36, 64, 100, 144, 196, 256, 324, 400, 484]"
      ]
     },
     "execution_count": 25,
     "metadata": {},
     "output_type": "execute_result"
    }
   ],
   "source": [
    "[i**2 for i in range(2, 24, 2) ]"
   ]
  },
  {
   "cell_type": "code",
   "execution_count": 24,
   "id": "211d61cc",
   "metadata": {},
   "outputs": [
    {
     "data": {
      "text/plain": [
       "[4, 16, 36, 64, 400, 484]"
      ]
     },
     "execution_count": 24,
     "metadata": {},
     "output_type": "execute_result"
    }
   ],
   "source": [
    "[i**2 for i in range(2, 24, 2) if str(i)[0]!='1']"
   ]
  },
  {
   "cell_type": "code",
   "execution_count": null,
   "id": "81872acc",
   "metadata": {},
   "outputs": [],
   "source": []
  },
  {
   "cell_type": "code",
   "execution_count": 8,
   "id": "7873f84b",
   "metadata": {},
   "outputs": [],
   "source": [
    "# Generator\n",
    "\n",
    "def abc_generator():\n",
    "    yield \"a\"\n",
    "    yield \"b\"\n",
    "    yield \"c\""
   ]
  },
  {
   "cell_type": "code",
   "execution_count": 9,
   "id": "54346dfa",
   "metadata": {},
   "outputs": [
    {
     "data": {
      "text/plain": [
       "<generator object abc_generator at 0x000001B261405900>"
      ]
     },
     "execution_count": 9,
     "metadata": {},
     "output_type": "execute_result"
    }
   ],
   "source": [
    "abc_gen = abc_generator()\n",
    "\n",
    "abc_gen"
   ]
  },
  {
   "cell_type": "code",
   "execution_count": 10,
   "id": "20d7a09d",
   "metadata": {},
   "outputs": [
    {
     "data": {
      "text/plain": [
       "['a', 'b', 'c']"
      ]
     },
     "execution_count": 10,
     "metadata": {},
     "output_type": "execute_result"
    }
   ],
   "source": [
    "list(abc_gen)"
   ]
  },
  {
   "cell_type": "code",
   "execution_count": 11,
   "id": "64532d6d",
   "metadata": {},
   "outputs": [
    {
     "data": {
      "text/plain": [
       "0"
      ]
     },
     "execution_count": 11,
     "metadata": {},
     "output_type": "execute_result"
    }
   ],
   "source": [
    "len(list(abc_gen)) ##### no more data to yield ######"
   ]
  },
  {
   "cell_type": "code",
   "execution_count": null,
   "id": "489d05aa",
   "metadata": {},
   "outputs": [],
   "source": []
  },
  {
   "cell_type": "code",
   "execution_count": 12,
   "id": "c832fd60",
   "metadata": {},
   "outputs": [],
   "source": [
    "limit = 1000000\n",
    "# Use a generator function\n",
    "def integer_generator():\n",
    "    n = 0\n",
    "    while n < limit:\n",
    "        n += 1\n",
    "        yield n\n",
    "\n",
    "int_gen = integer_generator()"
   ]
  },
  {
   "cell_type": "code",
   "execution_count": 13,
   "id": "d951d8bc",
   "metadata": {},
   "outputs": [
    {
     "name": "stdout",
     "output_type": "stream",
     "text": [
      "500000500000\n"
     ]
    }
   ],
   "source": [
    "int_sum0 = sum(int_gen)\n",
    "print(int_sum0)"
   ]
  },
  {
   "cell_type": "code",
   "execution_count": 14,
   "id": "29f545f2",
   "metadata": {},
   "outputs": [
    {
     "name": "stdout",
     "output_type": "stream",
     "text": [
      "500000500000\n"
     ]
    }
   ],
   "source": [
    "# Use generator expression\n",
    "int_sum1 = sum(x for x in range(1, limit+1))\n",
    "print(int_sum1)"
   ]
  },
  {
   "cell_type": "markdown",
   "id": "60513d29",
   "metadata": {},
   "source": [
    "### Closure and Decorators\n",
    "The decorator means that the func=decorator(func). \n",
    "Nested functions (closures):"
   ]
  },
  {
   "cell_type": "code",
   "execution_count": 22,
   "id": "bdcf7b75",
   "metadata": {},
   "outputs": [
    {
     "name": "stdout",
     "output_type": "stream",
     "text": [
      "calling func\n"
     ]
    },
    {
     "data": {
      "text/plain": [
       "6"
      ]
     },
     "execution_count": 22,
     "metadata": {},
     "output_type": "execute_result"
    }
   ],
   "source": [
    "def decorator(f): \n",
    "    def b(*args): \n",
    "        print (\"calling \"+f.__name__) \n",
    "        return f(*args) \n",
    "    return b \n",
    "   \n",
    "@decorator \n",
    "def func(a, b): \n",
    "    return a*b \n",
    "\n",
    "func(2,3)"
   ]
  },
  {
   "cell_type": "code",
   "execution_count": 15,
   "id": "1b6a4c6f",
   "metadata": {},
   "outputs": [],
   "source": [
    "# decorator\n",
    "from functools import wraps\n",
    "import time\n",
    "\n",
    "def timing(func):\n",
    "    @wraps(func)\n",
    "    def wrapped(*args, **kwargs):\n",
    "        start = time.time()\n",
    "        func(*args, **kwargs)\n",
    "        end = time.time()\n",
    "        print(f\"Time Elapsed: {end-start}\")\n",
    "\n",
    "    return wrapped\n",
    "\n",
    "@timing\n",
    "def sum_of_squares(n):\n",
    "    int_sum = sum(x*x for x in range(n))\n",
    "    print(f\"Sum of Squares from 1 to {n}: {int_sum}\")"
   ]
  },
  {
   "cell_type": "code",
   "execution_count": 16,
   "id": "ea7a7e0d",
   "metadata": {},
   "outputs": [
    {
     "name": "stdout",
     "output_type": "stream",
     "text": [
      "Sum of Squares from 1 to 100: 328350\n",
      "Time Elapsed: 0.0\n"
     ]
    }
   ],
   "source": [
    "sum_of_squares(100)"
   ]
  },
  {
   "cell_type": "code",
   "execution_count": 17,
   "id": "da3d48f2",
   "metadata": {},
   "outputs": [
    {
     "name": "stdout",
     "output_type": "stream",
     "text": [
      "*** N = 10      : 0.00105\n",
      "*** N = 100     : 0.00107\n",
      "*** N = 1000    : 0.00113\n",
      "*** N = 10000   : 0.00116\n",
      "*** N = 100000  : 0.00112\n"
     ]
    }
   ],
   "source": [
    "# Timeit, using lambda or stmt\n",
    "\n",
    "import random\n",
    "import timeit\n",
    " # Create a function to check the look up time\n",
    "def dict_look_up_time(n):\n",
    "    numbers = list(range(n))\n",
    "    random.shuffle(numbers)\n",
    "    d0 = {x: str(x) for x in numbers}\n",
    "    random_int = random.randint(0, n - 1)\n",
    "    t0 = timeit.timeit(lambda:d0[random_int], number=10000)\n",
    "    return t0\n",
    "\n",
    "\n",
    "for n in (10, 100, 1000, 10000, 100000):\n",
    "    elapse_time = dict_look_up_time(n)\n",
    "    print(f\"*** N = {n:<8}: {elapse_time:.5f}\")"
   ]
  },
  {
   "cell_type": "code",
   "execution_count": 18,
   "id": "fbcfa2ec",
   "metadata": {},
   "outputs": [
    {
     "name": "stdout",
     "output_type": "stream",
     "text": [
      "0.0007568000000000019\n"
     ]
    }
   ],
   "source": [
    "# importing the required module\n",
    "import timeit\n",
    "\n",
    "# code snippet to be executed only once\n",
    "mysetup = \"from math import sqrt\"\n",
    "\n",
    "# code snippet whose execution time is to be measured\n",
    "mycode = '''\n",
    "def example():\n",
    "    mylist = []\n",
    "    for x in range(100):\n",
    "        mylist.append(sqrt(x))\n",
    "'''\n",
    "\n",
    "# timeit statement\n",
    "print (timeit.timeit(setup = mysetup,\n",
    "                    stmt = mycode,\n",
    "                    number = 10000))\n"
   ]
  },
  {
   "cell_type": "code",
   "execution_count": null,
   "id": "9b35ed55",
   "metadata": {},
   "outputs": [],
   "source": []
  },
  {
   "cell_type": "code",
   "execution_count": null,
   "id": "d01bfe8f",
   "metadata": {},
   "outputs": [],
   "source": []
  },
  {
   "cell_type": "code",
   "execution_count": null,
   "id": "00f8e523",
   "metadata": {},
   "outputs": [],
   "source": []
  },
  {
   "cell_type": "code",
   "execution_count": null,
   "id": "387c11fa",
   "metadata": {},
   "outputs": [],
   "source": []
  },
  {
   "cell_type": "code",
   "execution_count": null,
   "id": "56134dcd",
   "metadata": {},
   "outputs": [],
   "source": [
    " "
   ]
  },
  {
   "cell_type": "code",
   "execution_count": null,
   "id": "2634989b",
   "metadata": {},
   "outputs": [],
   "source": []
  },
  {
   "cell_type": "code",
   "execution_count": null,
   "id": "96d84339",
   "metadata": {},
   "outputs": [],
   "source": []
  }
 ],
 "metadata": {
  "kernelspec": {
   "display_name": "Python 3",
   "language": "python",
   "name": "python3"
  },
  "language_info": {
   "codemirror_mode": {
    "name": "ipython",
    "version": 3
   },
   "file_extension": ".py",
   "mimetype": "text/x-python",
   "name": "python",
   "nbconvert_exporter": "python",
   "pygments_lexer": "ipython3",
   "version": "3.8.8"
  }
 },
 "nbformat": 4,
 "nbformat_minor": 5
}
