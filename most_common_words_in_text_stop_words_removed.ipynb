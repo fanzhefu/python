{
 "cells": [
  {
   "cell_type": "markdown",
   "id": "9eeced5c",
   "metadata": {},
   "source": [
    "### most common words in text"
   ]
  },
  {
   "cell_type": "code",
   "execution_count": 1,
   "id": "a410edd6",
   "metadata": {},
   "outputs": [],
   "source": [
    "import re\n",
    "from collections import Counter\n",
    "\n",
    "stopwords = ['TITLE', 'THE']\n",
    "\n",
    "with open('movies.xml') as f:\n",
    "    passage = f.read()\n",
    "\n",
    "def most_common_words(text, stopwords, n):\n",
    "    text = re.findall(r'\\w+', passage)\n",
    "    words_list = [word.upper() for word in text]\n",
    "    words_without_stopwords = [word for word in words_list if word not in stopwords]\n",
    "    word_counts = Counter(words_without_stopwords)\n",
    "    sorted_words = dict(sorted(word_counts.items(), key=lambda item: item[1], reverse=True))\n",
    "    common_words = list(sorted_words.keys())\n",
    "    return common_words[:n] "
   ]
  },
  {
   "cell_type": "code",
   "execution_count": 2,
   "id": "560c2939",
   "metadata": {},
   "outputs": [
    {
     "data": {
      "text/plain": [
       "['MOVIE', 'FORMAT', 'YEAR', 'RATING', 'DESCRIPTION']"
      ]
     },
     "execution_count": 2,
     "metadata": {},
     "output_type": "execute_result"
    }
   ],
   "source": [
    "most_common_words(passage, stopwords, 5)"
   ]
  },
  {
   "cell_type": "markdown",
   "id": "36422a85",
   "metadata": {},
   "source": [
    "### return first N key:value pairs from dict"
   ]
  },
  {
   "cell_type": "code",
   "execution_count": 3,
   "id": "e49e575a",
   "metadata": {},
   "outputs": [],
   "source": [
    "d = {'a': 3, 'b': 2, 'c': 3, 'd': 4, 'e': 5}\n",
    "from itertools import islice\n",
    "\n",
    "def take(n, iterable):\n",
    "    \"Return first n items of the iterable as a list\"\n",
    "    return list(islice(iterable, n))"
   ]
  },
  {
   "cell_type": "code",
   "execution_count": 4,
   "id": "121946f6",
   "metadata": {},
   "outputs": [],
   "source": [
    "n=5\n",
    "n_items = take(n, d.items())\n"
   ]
  },
  {
   "cell_type": "code",
   "execution_count": 5,
   "id": "3b36a6d4",
   "metadata": {},
   "outputs": [
    {
     "data": {
      "text/plain": [
       "[('a', 3), ('b', 2), ('c', 3), ('d', 4), ('e', 5)]"
      ]
     },
     "execution_count": 5,
     "metadata": {},
     "output_type": "execute_result"
    }
   ],
   "source": [
    "n_items"
   ]
  },
  {
   "cell_type": "code",
   "execution_count": null,
   "id": "3ede3042",
   "metadata": {},
   "outputs": [],
   "source": []
  }
 ],
 "metadata": {
  "kernelspec": {
   "display_name": "Python 3",
   "language": "python",
   "name": "python3"
  },
  "language_info": {
   "codemirror_mode": {
    "name": "ipython",
    "version": 3
   },
   "file_extension": ".py",
   "mimetype": "text/x-python",
   "name": "python",
   "nbconvert_exporter": "python",
   "pygments_lexer": "ipython3",
   "version": "3.8.8"
  }
 },
 "nbformat": 4,
 "nbformat_minor": 5
}
