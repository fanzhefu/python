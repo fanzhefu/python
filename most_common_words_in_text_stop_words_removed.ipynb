{
 "cells": [
  {
   "cell_type": "markdown",
   "id": "12a2e3ed",
   "metadata": {},
   "source": [
    "### 1 most common words in text"
   ]
  },
  {
   "cell_type": "code",
   "execution_count": 1,
   "id": "c5b8b88c",
   "metadata": {},
   "outputs": [],
   "source": [
    "import re\n",
    "from collections import Counter\n",
    "\n",
    "stopwords = ['TITLE', 'THE']\n",
    "\n",
    "with open('movies.xml') as f:\n",
    "    passage = f.read()\n",
    "\n",
    "def most_common_words(text, stopwords, n):\n",
    "    text = re.findall(r'\\w+', passage)\n",
    "    words_list = [word.upper() for word in text]\n",
    "    words_without_stopwords = [word for word in words_list if word not in stopwords]\n",
    "    word_counts = Counter(words_without_stopwords)\n",
    "    sorted_words = dict(sorted(word_counts.items(), key=lambda item: item[1], reverse=True))\n",
    "    common_words = list(sorted_words.keys())\n",
    "    return common_words[:n] "
   ]
  },
  {
   "cell_type": "code",
   "execution_count": 2,
   "id": "4b7fe6e1",
   "metadata": {},
   "outputs": [
    {
     "data": {
      "text/plain": [
       "['MOVIE', 'FORMAT', 'YEAR', 'RATING', 'DESCRIPTION']"
      ]
     },
     "execution_count": 2,
     "metadata": {},
     "output_type": "execute_result"
    }
   ],
   "source": [
    "most_common_words(passage, stopwords, 5)"
   ]
  },
  {
   "cell_type": "markdown",
   "id": "d94a4ea0",
   "metadata": {},
   "source": [
    "### 2 return first N key:value pairs from dict"
   ]
  },
  {
   "cell_type": "code",
   "execution_count": 3,
   "id": "3069950c",
   "metadata": {},
   "outputs": [],
   "source": [
    "d = {'a': 3, 'b': 2, 'c': 3, 'd': 4, 'e': 5}\n",
    "from itertools import islice\n",
    "\n",
    "def take(n, iterable):\n",
    "    \"Return first n items of the iterable as a list\"\n",
    "    return list(islice(iterable, n))"
   ]
  },
  {
   "cell_type": "code",
   "execution_count": 4,
   "id": "86622f40",
   "metadata": {},
   "outputs": [],
   "source": [
    "n=5\n",
    "n_items = take(n, d.items())\n"
   ]
  },
  {
   "cell_type": "code",
   "execution_count": 5,
   "id": "bdfaf3ce",
   "metadata": {},
   "outputs": [
    {
     "data": {
      "text/plain": [
       "[('a', 3), ('b', 2), ('c', 3), ('d', 4), ('e', 5)]"
      ]
     },
     "execution_count": 5,
     "metadata": {},
     "output_type": "execute_result"
    }
   ],
   "source": [
    "n_items"
   ]
  },
  {
   "cell_type": "markdown",
   "id": "b7159ac6",
   "metadata": {},
   "source": [
    "### 3 comoon words in text"
   ]
  },
  {
   "cell_type": "code",
   "execution_count": 6,
   "id": "244a1c77",
   "metadata": {},
   "outputs": [],
   "source": [
    "import re\n",
    "from collections import Counter\n",
    "\n",
    "stopwords = ['TITLE', 'THE']\n",
    "\n",
    "with open('movies.xml') as f:\n",
    "    passage = f.read()\n",
    "\n",
    "# two ways todo    \n",
    "words_list = re.findall(r'\\w+', passage)\n",
    "# words_list = text.split(' ') # not good way to do\n",
    "\n",
    "# all upper case\n",
    "words_list_upper = [word.upper() for word in words_list]\n",
    "\n",
    "# remove stopwords\n",
    "words_without_stopwords = [word for word in words_list_upper if word not in stopwords]\n",
    "\n",
    "# return most common\n",
    "most_common_words = Counter(words_without_stopwords).most_common(20)\n"
   ]
  },
  {
   "cell_type": "code",
   "execution_count": 7,
   "id": "8b2c7783",
   "metadata": {},
   "outputs": [
    {
     "data": {
      "text/plain": [
       "[('MOVIE', 19),\n",
       " ('FORMAT', 18),\n",
       " ('YEAR', 18),\n",
       " ('RATING', 18),\n",
       " ('DESCRIPTION', 18),\n",
       " ('FAVORITE', 9),\n",
       " ('MULTIPLE', 9),\n",
       " ('DECADE', 8),\n",
       " ('FALSE', 6),\n",
       " ('NO', 5),\n",
       " ('DVD', 5),\n",
       " ('GENRE', 4),\n",
       " ('YEARS', 4),\n",
       " ('TRUE', 4),\n",
       " ('PG', 4),\n",
       " ('YES', 3),\n",
       " ('COLLECTION', 2),\n",
       " ('CATEGORY', 2),\n",
       " ('1980S', 2),\n",
       " ('INDIANA', 2)]"
      ]
     },
     "execution_count": 7,
     "metadata": {},
     "output_type": "execute_result"
    }
   ],
   "source": [
    "most_common_words"
   ]
  },
  {
   "cell_type": "code",
   "execution_count": 8,
   "id": "61304453",
   "metadata": {},
   "outputs": [],
   "source": [
    "text = '''\n",
    "<collection>\n",
    "    <genre category=\"Action\">\n",
    "        <decade years=\"1980s\">\n",
    "            <movie favorite=\"True\" title=\"Indiana Jones: The raiders of the lost Ark\">\n",
    "                <format multiple=\"No\">DVD</format>\n",
    "                <year>1981</year>\n",
    "                <rating>PG</rating>\n",
    "                <description>\n",
    "                'Archaeologist and adventurer Indiana Jones \n",
    "                is hired by the U.S. government to find the Ark of  the Covenant before the Nazis.'\n",
    "                </description>\n",
    "            </movie>\n",
    "               <movie favorite=\"True\" title=\"THE KARATE KID\">\n",
    "               <format multiple=\"Yes\">DVD,Online</format>\n",
    "               <year>1984</year>\n",
    "               <rating>PG</rating>\n",
    "               <description>None provided.</description>\n",
    "            </movie>\n",
    "            <movie favorite=\"False\" title=\"Back 2 the Future\">\n",
    "               <format multiple=\"False\">Blu-ray</format>\n",
    "               <year>1985</year>\n",
    "               <rating>PG</rating>\n",
    "               <description>Marty McFly</description>\n",
    "            </movie>\n",
    "        </decade>\n",
    "        <decade years=\"1990s\">\n",
    "            <movie favorite=\"False\" title=\"X-Men\">\n",
    "               <format multiple=\"Yes\">dvd, digital</format>\n",
    "               <year>2000</year>\n",
    "               <rating>PG-13</rating>\n",
    "               <description>Two mutants come to a private academy for their kind whose resident superhero team must oppose a terrorist organization with similar powers.</description>\n",
    "            </movie>\n",
    "            <movie favorite=\"True\" title=\"Batman Returns\">\n",
    "               <format multiple=\"No\">VHS</format>\n",
    "               <year>1992</year>\n",
    "               <rating>PG13</rating>\n",
    "               <description>NA.</description>\n",
    "            </movie>\n",
    "               <movie favorite=\"False\" title=\"Reservoir Dogs\">\n",
    "               <format multiple=\"No\">Online</format>\n",
    "               <year>1992</year>\n",
    "               <rating>R</rating>\n",
    "               <description>WhAtEvER I Want!!!?!</description>\n",
    "            </movie>\n",
    "        </decade>    \n",
    "    </genre>\n",
    "\n",
    "    <genre category=\"Thriller\">\n",
    "        <decade years=\"1970s\">\n",
    "            <movie favorite=\"False\" title=\"ALIEN\">\n",
    "                <format multiple=\"Yes\">DVD</format>\n",
    "                <year>1979</year>\n",
    "                <rating>R</rating>\n",
    "                <description>\"\"\"\"\"\"\"\"\"</description>\n",
    "            </movie>\n",
    "        </decade>\n",
    "        <decade years=\"1980s\">\n",
    "            <movie favorite=\"True\" title=\"Ferris Bueller's Day Off\">\n",
    "                <format multiple=\"No\">DVD</format>\n",
    "                <year>1986</year>\n",
    "                <rating>PG13</rating>\n",
    "                <description>Funny movie on funny guy </description>\n",
    "            </movie>\n",
    "            <movie favorite=\"FALSE\" title=\"American Psycho\">\n",
    "                <format multiple=\"No\">blue-ray</format>\n",
    "                <year>2000</year>\n",
    "                <rating>Unrated</rating>\n",
    "                <description>psychopathic Bateman</description>\n",
    "            </movie>\n",
    "        </decade>\n",
    "    </genre>\n",
    "</collection>\n",
    "'''"
   ]
  },
  {
   "cell_type": "code",
   "execution_count": 9,
   "id": "2fb9c796",
   "metadata": {},
   "outputs": [],
   "source": [
    "import re\n",
    "from collections import Counter\n",
    "\n",
    "def most_common_words(text, n):\n",
    "    stopwords = ['TITLE', 'THE']\n",
    "    # ways todo    \n",
    "    words_list = re.findall(r'\\w+', text)\n",
    "\n",
    "    # all upper case\n",
    "    words_list_upper = [word.upper() for word in words_list]\n",
    "\n",
    "    # remove stopwords\n",
    "    words_without_stopwords = [word for word in words_list_upper if word not in stopwords]\n",
    "\n",
    "    # return most common\n",
    "    most_common_words = Counter(words_without_stopwords).most_common(n)\n",
    "    return most_common_words"
   ]
  },
  {
   "cell_type": "code",
   "execution_count": 10,
   "id": "df899fa9",
   "metadata": {},
   "outputs": [
    {
     "data": {
      "text/plain": [
       "[('MOVIE', 19),\n",
       " ('FORMAT', 18),\n",
       " ('YEAR', 18),\n",
       " ('RATING', 18),\n",
       " ('DESCRIPTION', 18),\n",
       " ('FAVORITE', 9),\n",
       " ('MULTIPLE', 9),\n",
       " ('DECADE', 8),\n",
       " ('FALSE', 6),\n",
       " ('NO', 5),\n",
       " ('DVD', 5),\n",
       " ('GENRE', 4),\n",
       " ('YEARS', 4),\n",
       " ('TRUE', 4),\n",
       " ('PG', 4),\n",
       " ('YES', 3),\n",
       " ('COLLECTION', 2),\n",
       " ('CATEGORY', 2),\n",
       " ('1980S', 2),\n",
       " ('INDIANA', 2)]"
      ]
     },
     "execution_count": 10,
     "metadata": {},
     "output_type": "execute_result"
    }
   ],
   "source": [
    "most_common_words(text, 20)"
   ]
  },
  {
   "cell_type": "code",
   "execution_count": null,
   "id": "857d6d51",
   "metadata": {},
   "outputs": [],
   "source": [
    "# https://openclassrooms.com/en/courses/6532301-introduction-to-natural-language-processing/6980726-remove-stop-words-from-a-block-of-text"
   ]
  }
 ],
 "metadata": {
  "kernelspec": {
   "display_name": "Python 3",
   "language": "python",
   "name": "python3"
  },
  "language_info": {
   "codemirror_mode": {
    "name": "ipython",
    "version": 3
   },
   "file_extension": ".py",
   "mimetype": "text/x-python",
   "name": "python",
   "nbconvert_exporter": "python",
   "pygments_lexer": "ipython3",
   "version": "3.8.8"
  }
 },
 "nbformat": 4,
 "nbformat_minor": 5
}
