{
 "cells": [
  {
   "cell_type": "code",
   "execution_count": 1,
   "id": "d7a8c097",
   "metadata": {},
   "outputs": [],
   "source": [
    "class Student(object):\n",
    "\n",
    "    def __init__(self, first_name, last_name):\n",
    "        self.first_name = first_name\n",
    "        self.last_name = last_name\n",
    "        \n",
    "    @classmethod\n",
    "    def from_string(cls, name_str):\n",
    "        first_name, last_name = map(str, name_str.split(' '))\n",
    "        student = cls(first_name, last_name)\n",
    "        return student\n",
    "    \n",
    "    @classmethod\n",
    "    def from_json(cls, json_obj):\n",
    "        # parse json...\n",
    "        return student\n",
    "\n",
    "    @classmethod\n",
    "    def from_pickle(cls, pickle_file):\n",
    "        # load pickle file...\n",
    "        return student    \n",
    "    \n",
    "    @staticmethod\n",
    "    def is_full_name(name_str):\n",
    "        names = name_str.split(' ')\n",
    "        return len(names) > 1"
   ]
  },
  {
   "cell_type": "code",
   "execution_count": 2,
   "id": "b2daff30",
   "metadata": {},
   "outputs": [
    {
     "name": "stdout",
     "output_type": "stream",
     "text": [
      "Scott Robinson\n"
     ]
    }
   ],
   "source": [
    "student = Student.from_string('Scott Robinson')\n",
    "print(student.first_name, student.last_name)"
   ]
  },
  {
   "cell_type": "code",
   "execution_count": 3,
   "id": "75dca62e",
   "metadata": {},
   "outputs": [
    {
     "data": {
      "text/plain": [
       "True"
      ]
     },
     "execution_count": 3,
     "metadata": {},
     "output_type": "execute_result"
    }
   ],
   "source": [
    "Student.is_full_name('Scott Robinson')   # True"
   ]
  },
  {
   "cell_type": "code",
   "execution_count": 4,
   "id": "ec8cc95c",
   "metadata": {},
   "outputs": [
    {
     "data": {
      "text/plain": [
       "False"
      ]
     },
     "execution_count": 4,
     "metadata": {},
     "output_type": "execute_result"
    }
   ],
   "source": [
    "Student.is_full_name('Scott')            # False"
   ]
  },
  {
   "cell_type": "code",
   "execution_count": 5,
   "id": "3598264c",
   "metadata": {},
   "outputs": [
    {
     "name": "stdout",
     "output_type": "stream",
     "text": [
      "Got grades:\n",
      "90 80 85 94 70 \n",
      "Invalid!\n"
     ]
    }
   ],
   "source": [
    "class ClassGrades:\n",
    "\n",
    "    def __init__(self, grades):\n",
    "        self.grades = grades\n",
    "\n",
    "    @classmethod\n",
    "    def from_csv(cls, grade_csv_str):\n",
    "        grades = list(map(int, grade_csv_str.split(', ')))\n",
    "        cls.validate(grades)\n",
    "        return cls(grades)\n",
    "\n",
    "\n",
    "    @staticmethod\n",
    "    def validate(grades):\n",
    "        for g in grades:\n",
    "            if g < 0 or g > 100:\n",
    "                raise Exception()\n",
    "\n",
    "csv_grades = ['90, 80, 85, 94, 70', '92, -15, 99, 101, 77, 65, 100']                \n",
    "                \n",
    "try:\n",
    "    # Try out some valid grades\n",
    "    for csv_grade in csv_grades:\n",
    "        class_grades_valid = ClassGrades.from_csv(csv_grade)\n",
    "        print('Got grades:')\n",
    "        for grade in class_grades_valid.grades:\n",
    "            print(grade, end=' ')\n",
    "except:\n",
    "    print('\\nInvalid!')"
   ]
  },
  {
   "cell_type": "code",
   "execution_count": null,
   "id": "ee217177",
   "metadata": {},
   "outputs": [],
   "source": []
  }
 ],
 "metadata": {
  "kernelspec": {
   "display_name": "Python 3",
   "language": "python",
   "name": "python3"
  },
  "language_info": {
   "codemirror_mode": {
    "name": "ipython",
    "version": 3
   },
   "file_extension": ".py",
   "mimetype": "text/x-python",
   "name": "python",
   "nbconvert_exporter": "python",
   "pygments_lexer": "ipython3",
   "version": "3.8.8"
  }
 },
 "nbformat": 4,
 "nbformat_minor": 5
}
