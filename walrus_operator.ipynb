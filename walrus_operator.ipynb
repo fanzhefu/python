{
 "cells": [
  {
   "cell_type": "code",
   "execution_count": 1,
   "id": "b28e7790",
   "metadata": {},
   "outputs": [],
   "source": [
    "# The Walrus(:=) Operator"
   ]
  },
  {
   "cell_type": "code",
   "execution_count": 2,
   "id": "1cbc3807",
   "metadata": {},
   "outputs": [
    {
     "name": "stdout",
     "output_type": "stream",
     "text": [
      "True\n"
     ]
    }
   ],
   "source": [
    "xs = [1,2,3]\n",
    "if (n:=len(xs)>2):\n",
    "    print(n)"
   ]
  },
  {
   "cell_type": "code",
   "execution_count": 4,
   "id": "4f9c3d4c",
   "metadata": {},
   "outputs": [
    {
     "name": "stdout",
     "output_type": "stream",
     "text": [
      "Write something: I\n",
      "Write something: love\n",
      "Write something: python\n",
      "Write something: quit\n",
      "['I', 'love', 'python']\n"
     ]
    }
   ],
   "source": [
    "#!/usr/bin/env python\n",
    "inputs = list()\n",
    "while ( current := input('Write something: ') ) != 'quit':\n",
    "# while ( current := input('Write something: ') ) <> 'quit':\n",
    "    inputs.append(current)\n",
    "print(inputs)"
   ]
  },
  {
   "cell_type": "code",
   "execution_count": null,
   "id": "ab6fb9d8",
   "metadata": {},
   "outputs": [],
   "source": [
    "#Suppose that all our words must have at least three characters.\n",
    "#test_length.py\n",
    "#!/usr/bin/env python\n",
    "\n",
    "words = ['falcon', 'sky', 'ab', 'water', 'a', 'forest']\n",
    "for word in words:\n",
    "    if ((n := len(word)) < 3):\n",
    "        print(f'warning, the word {word} has {n} characters')"
   ]
  },
  {
   "cell_type": "code",
   "execution_count": null,
   "id": "0ca5985c",
   "metadata": {},
   "outputs": [],
   "source": [
    "#traversing.py\n",
    "#!/usr/bin/env python\n",
    "\n",
    "users = [ \n",
    "    {'name': 'John Doe', 'occupation': 'gardener'},\n",
    "    {'name': None, 'occupation': 'teacher'}, \n",
    "    {'name': 'Robert Brown', 'occupation': 'driver'}, \n",
    "    {'name': None, 'occupation': 'driver'}, \n",
    "    {'name': 'Marta Newt', 'occupation': 'journalist'} \n",
    "] \n",
    "  \n",
    "for user in users:  \n",
    "    if ((name := user.get('name')) is not None): \n",
    "        print(f'{name} is a {user.get(\"occupation\")}') "
   ]
  },
  {
   "cell_type": "code",
   "execution_count": null,
   "id": "43663712",
   "metadata": {},
   "outputs": [],
   "source": [
    "#search.py\n",
    "#!/usr/bin/env python\n",
    "\n",
    "import re\n",
    "data = 'There is a book on the table.'\n",
    "pattern = re.compile(r'book')\n",
    "\n",
    "if match := pattern.search(data):\n",
    "    print(f'The word {pattern.pattern} is at {match.start(), match.end()}') \n",
    "else:\n",
    "    print(f'No {pattern.pattern} found')\n"
   ]
  },
  {
   "cell_type": "code",
   "execution_count": null,
   "id": "23039f46",
   "metadata": {},
   "outputs": [],
   "source": [
    "words_txt = '''\n",
    "falcon\n",
    "sky\n",
    "cloud\n",
    "water\n",
    "rock\n",
    "forest\n",
    "'''\n",
    "# We have some words in the words.txt file.\n",
    "# read_file.py\n",
    "\n",
    "#!/usr/bin/env python\n",
    "\n",
    "with open('pip_list.txt', 'r') as f:\n",
    "    while line := f.readline():\n",
    "#         print(line)    \n",
    "        print(line.rstrip())\n"
   ]
  },
  {
   "cell_type": "code",
   "execution_count": null,
   "id": "cba92ce6",
   "metadata": {},
   "outputs": [],
   "source": []
  }
 ],
 "metadata": {
  "kernelspec": {
   "display_name": "Python 3",
   "language": "python",
   "name": "python3"
  },
  "language_info": {
   "codemirror_mode": {
    "name": "ipython",
    "version": 3
   },
   "file_extension": ".py",
   "mimetype": "text/x-python",
   "name": "python",
   "nbconvert_exporter": "python",
   "pygments_lexer": "ipython3",
   "version": "3.8.8"
  }
 },
 "nbformat": 4,
 "nbformat_minor": 5
}
